{
 "cells": [
  {
   "cell_type": "markdown",
   "metadata": {},
   "source": [
    "Data Collection\n",
    "\n",
    "Data Organization\n",
    "\n",
    "Data Definition\n",
    "\n",
    "-column names\n",
    "\n",
    "-data types\n",
    "\n",
    "-description of the columns\n",
    "\n",
    "-counts and percents unique values\n",
    "\n",
    "-ranges of values\n",
    "\n",
    "Data Cleaning\n",
    "\n",
    "-NA or missing values\n",
    "-Duplicates"
   ]
  },
  {
   "cell_type": "code",
   "execution_count": 1,
   "metadata": {},
   "outputs": [],
   "source": [
    "import pandas as pd"
   ]
  },
  {
   "cell_type": "code",
   "execution_count": 2,
   "metadata": {},
   "outputs": [],
   "source": [
    "pd.options.display.max_columns = 999\n",
    "pd.options.display.max_rows = 999\n"
   ]
  },
  {
   "cell_type": "code",
   "execution_count": 3,
   "metadata": {},
   "outputs": [],
   "source": [
    "pd.set_option(\"display.max_rows\", 999)\n",
    "pd.set_option(\"display.max_columns\", 999)"
   ]
  },
  {
   "cell_type": "code",
   "execution_count": 4,
   "metadata": {},
   "outputs": [],
   "source": [
    "pd.set_option(\"display.max_columns\", 9999)\n",
    "pd.set_option(\"display.max_rows\", 9999)"
   ]
  },
  {
   "cell_type": "code",
   "execution_count": null,
   "metadata": {},
   "outputs": [],
   "source": []
  },
  {
   "cell_type": "code",
   "execution_count": null,
   "metadata": {},
   "outputs": [],
   "source": []
  },
  {
   "cell_type": "code",
   "execution_count": 5,
   "metadata": {},
   "outputs": [],
   "source": [
    "df = pd.read_csv('nba_betting_money_line.csv')"
   ]
  },
  {
   "cell_type": "code",
   "execution_count": 6,
   "metadata": {
    "scrolled": true
   },
   "outputs": [
    {
     "data": {
      "text/html": [
       "<div>\n",
       "<style scoped>\n",
       "    .dataframe tbody tr th:only-of-type {\n",
       "        vertical-align: middle;\n",
       "    }\n",
       "\n",
       "    .dataframe tbody tr th {\n",
       "        vertical-align: top;\n",
       "    }\n",
       "\n",
       "    .dataframe thead th {\n",
       "        text-align: right;\n",
       "    }\n",
       "</style>\n",
       "<table border=\"1\" class=\"dataframe\">\n",
       "  <thead>\n",
       "    <tr style=\"text-align: right;\">\n",
       "      <th></th>\n",
       "      <th>game_id</th>\n",
       "      <th>book_name</th>\n",
       "      <th>book_id</th>\n",
       "      <th>team_id</th>\n",
       "      <th>a_team_id</th>\n",
       "      <th>price1</th>\n",
       "      <th>price2</th>\n",
       "    </tr>\n",
       "  </thead>\n",
       "  <tbody>\n",
       "    <tr>\n",
       "      <th>0</th>\n",
       "      <td>41100314</td>\n",
       "      <td>Pinnacle Sports</td>\n",
       "      <td>238</td>\n",
       "      <td>1610612759</td>\n",
       "      <td>1610612760</td>\n",
       "      <td>165.0</td>\n",
       "      <td>-183.0</td>\n",
       "    </tr>\n",
       "    <tr>\n",
       "      <th>1</th>\n",
       "      <td>41100314</td>\n",
       "      <td>5Dimes</td>\n",
       "      <td>19</td>\n",
       "      <td>1610612759</td>\n",
       "      <td>1610612760</td>\n",
       "      <td>165.0</td>\n",
       "      <td>-175.0</td>\n",
       "    </tr>\n",
       "    <tr>\n",
       "      <th>2</th>\n",
       "      <td>41100314</td>\n",
       "      <td>Bookmaker</td>\n",
       "      <td>93</td>\n",
       "      <td>1610612759</td>\n",
       "      <td>1610612760</td>\n",
       "      <td>160.0</td>\n",
       "      <td>-190.0</td>\n",
       "    </tr>\n",
       "    <tr>\n",
       "      <th>3</th>\n",
       "      <td>41100314</td>\n",
       "      <td>BetOnline</td>\n",
       "      <td>1096</td>\n",
       "      <td>1610612759</td>\n",
       "      <td>1610612760</td>\n",
       "      <td>165.0</td>\n",
       "      <td>-190.0</td>\n",
       "    </tr>\n",
       "    <tr>\n",
       "      <th>4</th>\n",
       "      <td>41100314</td>\n",
       "      <td>Bovada</td>\n",
       "      <td>999996</td>\n",
       "      <td>1610612759</td>\n",
       "      <td>1610612760</td>\n",
       "      <td>155.0</td>\n",
       "      <td>-175.0</td>\n",
       "    </tr>\n",
       "    <tr>\n",
       "      <th>...</th>\n",
       "      <td>...</td>\n",
       "      <td>...</td>\n",
       "      <td>...</td>\n",
       "      <td>...</td>\n",
       "      <td>...</td>\n",
       "      <td>...</td>\n",
       "      <td>...</td>\n",
       "    </tr>\n",
       "    <tr>\n",
       "      <th>125281</th>\n",
       "      <td>41700215</td>\n",
       "      <td>Heritage</td>\n",
       "      <td>169</td>\n",
       "      <td>1610612755</td>\n",
       "      <td>1610612738</td>\n",
       "      <td>105.0</td>\n",
       "      <td>-125.0</td>\n",
       "    </tr>\n",
       "    <tr>\n",
       "      <th>125282</th>\n",
       "      <td>41700215</td>\n",
       "      <td>Intertops</td>\n",
       "      <td>180</td>\n",
       "      <td>1610612755</td>\n",
       "      <td>1610612738</td>\n",
       "      <td>100.0</td>\n",
       "      <td>-120.0</td>\n",
       "    </tr>\n",
       "    <tr>\n",
       "      <th>125283</th>\n",
       "      <td>41700215</td>\n",
       "      <td>YouWager</td>\n",
       "      <td>139</td>\n",
       "      <td>1610612755</td>\n",
       "      <td>1610612738</td>\n",
       "      <td>105.0</td>\n",
       "      <td>-125.0</td>\n",
       "    </tr>\n",
       "    <tr>\n",
       "      <th>125284</th>\n",
       "      <td>41700215</td>\n",
       "      <td>JustBet</td>\n",
       "      <td>1275</td>\n",
       "      <td>1610612755</td>\n",
       "      <td>1610612738</td>\n",
       "      <td>100.0</td>\n",
       "      <td>-120.0</td>\n",
       "    </tr>\n",
       "    <tr>\n",
       "      <th>125285</th>\n",
       "      <td>41700215</td>\n",
       "      <td>Sportsbetting</td>\n",
       "      <td>999991</td>\n",
       "      <td>1610612755</td>\n",
       "      <td>1610612738</td>\n",
       "      <td>105.0</td>\n",
       "      <td>-125.0</td>\n",
       "    </tr>\n",
       "  </tbody>\n",
       "</table>\n",
       "<p>125286 rows × 7 columns</p>\n",
       "</div>"
      ],
      "text/plain": [
       "         game_id        book_name  book_id     team_id   a_team_id  price1  \\\n",
       "0       41100314  Pinnacle Sports      238  1610612759  1610612760   165.0   \n",
       "1       41100314           5Dimes       19  1610612759  1610612760   165.0   \n",
       "2       41100314        Bookmaker       93  1610612759  1610612760   160.0   \n",
       "3       41100314        BetOnline     1096  1610612759  1610612760   165.0   \n",
       "4       41100314           Bovada   999996  1610612759  1610612760   155.0   \n",
       "...          ...              ...      ...         ...         ...     ...   \n",
       "125281  41700215         Heritage      169  1610612755  1610612738   105.0   \n",
       "125282  41700215        Intertops      180  1610612755  1610612738   100.0   \n",
       "125283  41700215         YouWager      139  1610612755  1610612738   105.0   \n",
       "125284  41700215          JustBet     1275  1610612755  1610612738   100.0   \n",
       "125285  41700215    Sportsbetting   999991  1610612755  1610612738   105.0   \n",
       "\n",
       "        price2  \n",
       "0       -183.0  \n",
       "1       -175.0  \n",
       "2       -190.0  \n",
       "3       -190.0  \n",
       "4       -175.0  \n",
       "...        ...  \n",
       "125281  -125.0  \n",
       "125282  -120.0  \n",
       "125283  -125.0  \n",
       "125284  -120.0  \n",
       "125285  -125.0  \n",
       "\n",
       "[125286 rows x 7 columns]"
      ]
     },
     "execution_count": 6,
     "metadata": {},
     "output_type": "execute_result"
    }
   ],
   "source": [
    "df"
   ]
  },
  {
   "cell_type": "code",
   "execution_count": 7,
   "metadata": {},
   "outputs": [],
   "source": [
    "#df.describe()"
   ]
  },
  {
   "cell_type": "code",
   "execution_count": 8,
   "metadata": {
    "scrolled": true
   },
   "outputs": [
    {
     "data": {
      "text/html": [
       "<div>\n",
       "<style scoped>\n",
       "    .dataframe tbody tr th:only-of-type {\n",
       "        vertical-align: middle;\n",
       "    }\n",
       "\n",
       "    .dataframe tbody tr th {\n",
       "        vertical-align: top;\n",
       "    }\n",
       "\n",
       "    .dataframe thead th {\n",
       "        text-align: right;\n",
       "    }\n",
       "</style>\n",
       "<table border=\"1\" class=\"dataframe\">\n",
       "  <thead>\n",
       "    <tr style=\"text-align: right;\">\n",
       "      <th></th>\n",
       "      <th>game_id</th>\n",
       "      <th>book_name</th>\n",
       "      <th>book_id</th>\n",
       "      <th>team_id</th>\n",
       "      <th>a_team_id</th>\n",
       "      <th>price1</th>\n",
       "      <th>price2</th>\n",
       "    </tr>\n",
       "  </thead>\n",
       "  <tbody>\n",
       "    <tr>\n",
       "      <th>0</th>\n",
       "      <td>41100314</td>\n",
       "      <td>Pinnacle Sports</td>\n",
       "      <td>238</td>\n",
       "      <td>1610612759</td>\n",
       "      <td>1610612760</td>\n",
       "      <td>165.0</td>\n",
       "      <td>-183.0</td>\n",
       "    </tr>\n",
       "    <tr>\n",
       "      <th>10</th>\n",
       "      <td>41100304</td>\n",
       "      <td>Pinnacle Sports</td>\n",
       "      <td>238</td>\n",
       "      <td>1610612748</td>\n",
       "      <td>1610612738</td>\n",
       "      <td>-128.0</td>\n",
       "      <td>116.0</td>\n",
       "    </tr>\n",
       "    <tr>\n",
       "      <th>19</th>\n",
       "      <td>41100315</td>\n",
       "      <td>Pinnacle Sports</td>\n",
       "      <td>238</td>\n",
       "      <td>1610612760</td>\n",
       "      <td>1610612759</td>\n",
       "      <td>188.0</td>\n",
       "      <td>-210.0</td>\n",
       "    </tr>\n",
       "    <tr>\n",
       "      <th>29</th>\n",
       "      <td>41100307</td>\n",
       "      <td>Pinnacle Sports</td>\n",
       "      <td>238</td>\n",
       "      <td>1610612738</td>\n",
       "      <td>1610612748</td>\n",
       "      <td>367.0</td>\n",
       "      <td>-427.0</td>\n",
       "    </tr>\n",
       "    <tr>\n",
       "      <th>39</th>\n",
       "      <td>21200015</td>\n",
       "      <td>Pinnacle Sports</td>\n",
       "      <td>238</td>\n",
       "      <td>1610612754</td>\n",
       "      <td>1610612766</td>\n",
       "      <td>-275.0</td>\n",
       "      <td>244.0</td>\n",
       "    </tr>\n",
       "    <tr>\n",
       "      <th>...</th>\n",
       "      <td>...</td>\n",
       "      <td>...</td>\n",
       "      <td>...</td>\n",
       "      <td>...</td>\n",
       "      <td>...</td>\n",
       "      <td>...</td>\n",
       "      <td>...</td>\n",
       "    </tr>\n",
       "    <tr>\n",
       "      <th>125236</th>\n",
       "      <td>41700212</td>\n",
       "      <td>Pinnacle Sports</td>\n",
       "      <td>238</td>\n",
       "      <td>1610612755</td>\n",
       "      <td>1610612738</td>\n",
       "      <td>-163.0</td>\n",
       "      <td>147.0</td>\n",
       "    </tr>\n",
       "    <tr>\n",
       "      <th>125246</th>\n",
       "      <td>41700233</td>\n",
       "      <td>Pinnacle Sports</td>\n",
       "      <td>238</td>\n",
       "      <td>1610612744</td>\n",
       "      <td>1610612740</td>\n",
       "      <td>-210.0</td>\n",
       "      <td>188.0</td>\n",
       "    </tr>\n",
       "    <tr>\n",
       "      <th>125256</th>\n",
       "      <td>41700213</td>\n",
       "      <td>Pinnacle Sports</td>\n",
       "      <td>238</td>\n",
       "      <td>1610612738</td>\n",
       "      <td>1610612755</td>\n",
       "      <td>450.0</td>\n",
       "      <td>-535.0</td>\n",
       "    </tr>\n",
       "    <tr>\n",
       "      <th>125266</th>\n",
       "      <td>41700234</td>\n",
       "      <td>Pinnacle Sports</td>\n",
       "      <td>238</td>\n",
       "      <td>1610612744</td>\n",
       "      <td>1610612740</td>\n",
       "      <td>-248.0</td>\n",
       "      <td>221.0</td>\n",
       "    </tr>\n",
       "    <tr>\n",
       "      <th>125276</th>\n",
       "      <td>41700215</td>\n",
       "      <td>Pinnacle Sports</td>\n",
       "      <td>238</td>\n",
       "      <td>1610612755</td>\n",
       "      <td>1610612738</td>\n",
       "      <td>103.0</td>\n",
       "      <td>-113.0</td>\n",
       "    </tr>\n",
       "  </tbody>\n",
       "</table>\n",
       "<p>14822 rows × 7 columns</p>\n",
       "</div>"
      ],
      "text/plain": [
       "         game_id        book_name  book_id     team_id   a_team_id  price1  \\\n",
       "0       41100314  Pinnacle Sports      238  1610612759  1610612760   165.0   \n",
       "10      41100304  Pinnacle Sports      238  1610612748  1610612738  -128.0   \n",
       "19      41100315  Pinnacle Sports      238  1610612760  1610612759   188.0   \n",
       "29      41100307  Pinnacle Sports      238  1610612738  1610612748   367.0   \n",
       "39      21200015  Pinnacle Sports      238  1610612754  1610612766  -275.0   \n",
       "...          ...              ...      ...         ...         ...     ...   \n",
       "125236  41700212  Pinnacle Sports      238  1610612755  1610612738  -163.0   \n",
       "125246  41700233  Pinnacle Sports      238  1610612744  1610612740  -210.0   \n",
       "125256  41700213  Pinnacle Sports      238  1610612738  1610612755   450.0   \n",
       "125266  41700234  Pinnacle Sports      238  1610612744  1610612740  -248.0   \n",
       "125276  41700215  Pinnacle Sports      238  1610612755  1610612738   103.0   \n",
       "\n",
       "        price2  \n",
       "0       -183.0  \n",
       "10       116.0  \n",
       "19      -210.0  \n",
       "29      -427.0  \n",
       "39       244.0  \n",
       "...        ...  \n",
       "125236   147.0  \n",
       "125246   188.0  \n",
       "125256  -535.0  \n",
       "125266   221.0  \n",
       "125276  -113.0  \n",
       "\n",
       "[14822 rows x 7 columns]"
      ]
     },
     "execution_count": 8,
     "metadata": {},
     "output_type": "execute_result"
    }
   ],
   "source": [
    "df[df['book_name'] == df.iloc[0]['book_name']]"
   ]
  },
  {
   "cell_type": "code",
   "execution_count": 9,
   "metadata": {},
   "outputs": [
    {
     "name": "stderr",
     "output_type": "stream",
     "text": [
      "C:\\Users\\Paul\\anaconda3\\lib\\site-packages\\ipykernel_launcher.py:2: UserWarning: Boolean Series key will be reindexed to match DataFrame index.\n",
      "  \n"
     ]
    },
    {
     "data": {
      "text/html": [
       "<div>\n",
       "<style scoped>\n",
       "    .dataframe tbody tr th:only-of-type {\n",
       "        vertical-align: middle;\n",
       "    }\n",
       "\n",
       "    .dataframe tbody tr th {\n",
       "        vertical-align: top;\n",
       "    }\n",
       "\n",
       "    .dataframe thead th {\n",
       "        text-align: right;\n",
       "    }\n",
       "</style>\n",
       "<table border=\"1\" class=\"dataframe\">\n",
       "  <thead>\n",
       "    <tr style=\"text-align: right;\">\n",
       "      <th></th>\n",
       "      <th>game_id</th>\n",
       "      <th>book_name</th>\n",
       "      <th>book_id</th>\n",
       "      <th>team_id</th>\n",
       "      <th>a_team_id</th>\n",
       "      <th>price1</th>\n",
       "      <th>price2</th>\n",
       "    </tr>\n",
       "  </thead>\n",
       "  <tbody>\n",
       "    <tr>\n",
       "      <th>0</th>\n",
       "      <td>41100314</td>\n",
       "      <td>Pinnacle Sports</td>\n",
       "      <td>238</td>\n",
       "      <td>1610612759</td>\n",
       "      <td>1610612760</td>\n",
       "      <td>165.0</td>\n",
       "      <td>-183.0</td>\n",
       "    </tr>\n",
       "    <tr>\n",
       "      <th>10</th>\n",
       "      <td>41100304</td>\n",
       "      <td>Pinnacle Sports</td>\n",
       "      <td>238</td>\n",
       "      <td>1610612748</td>\n",
       "      <td>1610612738</td>\n",
       "      <td>-128.0</td>\n",
       "      <td>116.0</td>\n",
       "    </tr>\n",
       "    <tr>\n",
       "      <th>19</th>\n",
       "      <td>41100315</td>\n",
       "      <td>Pinnacle Sports</td>\n",
       "      <td>238</td>\n",
       "      <td>1610612760</td>\n",
       "      <td>1610612759</td>\n",
       "      <td>188.0</td>\n",
       "      <td>-210.0</td>\n",
       "    </tr>\n",
       "    <tr>\n",
       "      <th>29</th>\n",
       "      <td>41100307</td>\n",
       "      <td>Pinnacle Sports</td>\n",
       "      <td>238</td>\n",
       "      <td>1610612738</td>\n",
       "      <td>1610612748</td>\n",
       "      <td>367.0</td>\n",
       "      <td>-427.0</td>\n",
       "    </tr>\n",
       "    <tr>\n",
       "      <th>39</th>\n",
       "      <td>21200015</td>\n",
       "      <td>Pinnacle Sports</td>\n",
       "      <td>238</td>\n",
       "      <td>1610612754</td>\n",
       "      <td>1610612766</td>\n",
       "      <td>-275.0</td>\n",
       "      <td>244.0</td>\n",
       "    </tr>\n",
       "    <tr>\n",
       "      <th>...</th>\n",
       "      <td>...</td>\n",
       "      <td>...</td>\n",
       "      <td>...</td>\n",
       "      <td>...</td>\n",
       "      <td>...</td>\n",
       "      <td>...</td>\n",
       "      <td>...</td>\n",
       "    </tr>\n",
       "    <tr>\n",
       "      <th>125236</th>\n",
       "      <td>41700212</td>\n",
       "      <td>Pinnacle Sports</td>\n",
       "      <td>238</td>\n",
       "      <td>1610612755</td>\n",
       "      <td>1610612738</td>\n",
       "      <td>-163.0</td>\n",
       "      <td>147.0</td>\n",
       "    </tr>\n",
       "    <tr>\n",
       "      <th>125246</th>\n",
       "      <td>41700233</td>\n",
       "      <td>Pinnacle Sports</td>\n",
       "      <td>238</td>\n",
       "      <td>1610612744</td>\n",
       "      <td>1610612740</td>\n",
       "      <td>-210.0</td>\n",
       "      <td>188.0</td>\n",
       "    </tr>\n",
       "    <tr>\n",
       "      <th>125256</th>\n",
       "      <td>41700213</td>\n",
       "      <td>Pinnacle Sports</td>\n",
       "      <td>238</td>\n",
       "      <td>1610612738</td>\n",
       "      <td>1610612755</td>\n",
       "      <td>450.0</td>\n",
       "      <td>-535.0</td>\n",
       "    </tr>\n",
       "    <tr>\n",
       "      <th>125266</th>\n",
       "      <td>41700234</td>\n",
       "      <td>Pinnacle Sports</td>\n",
       "      <td>238</td>\n",
       "      <td>1610612744</td>\n",
       "      <td>1610612740</td>\n",
       "      <td>-248.0</td>\n",
       "      <td>221.0</td>\n",
       "    </tr>\n",
       "    <tr>\n",
       "      <th>125276</th>\n",
       "      <td>41700215</td>\n",
       "      <td>Pinnacle Sports</td>\n",
       "      <td>238</td>\n",
       "      <td>1610612755</td>\n",
       "      <td>1610612738</td>\n",
       "      <td>103.0</td>\n",
       "      <td>-113.0</td>\n",
       "    </tr>\n",
       "  </tbody>\n",
       "</table>\n",
       "<p>14822 rows × 7 columns</p>\n",
       "</div>"
      ],
      "text/plain": [
       "         game_id        book_name  book_id     team_id   a_team_id  price1  \\\n",
       "0       41100314  Pinnacle Sports      238  1610612759  1610612760   165.0   \n",
       "10      41100304  Pinnacle Sports      238  1610612748  1610612738  -128.0   \n",
       "19      41100315  Pinnacle Sports      238  1610612760  1610612759   188.0   \n",
       "29      41100307  Pinnacle Sports      238  1610612738  1610612748   367.0   \n",
       "39      21200015  Pinnacle Sports      238  1610612754  1610612766  -275.0   \n",
       "...          ...              ...      ...         ...         ...     ...   \n",
       "125236  41700212  Pinnacle Sports      238  1610612755  1610612738  -163.0   \n",
       "125246  41700233  Pinnacle Sports      238  1610612744  1610612740  -210.0   \n",
       "125256  41700213  Pinnacle Sports      238  1610612738  1610612755   450.0   \n",
       "125266  41700234  Pinnacle Sports      238  1610612744  1610612740  -248.0   \n",
       "125276  41700215  Pinnacle Sports      238  1610612755  1610612738   103.0   \n",
       "\n",
       "        price2  \n",
       "0       -183.0  \n",
       "10       116.0  \n",
       "19      -210.0  \n",
       "29      -427.0  \n",
       "39       244.0  \n",
       "...        ...  \n",
       "125236   147.0  \n",
       "125246   188.0  \n",
       "125256  -535.0  \n",
       "125266   221.0  \n",
       "125276  -113.0  \n",
       "\n",
       "[14822 rows x 7 columns]"
      ]
     },
     "execution_count": 9,
     "metadata": {},
     "output_type": "execute_result"
    }
   ],
   "source": [
    "#df.iloc[0]['book_name']\n",
    "df[df['book_name'] == df.iloc[0]['book_name']][df['book_id'] == df.iloc[0]['book_id']]"
   ]
  },
  {
   "cell_type": "code",
   "execution_count": null,
   "metadata": {},
   "outputs": [],
   "source": []
  },
  {
   "cell_type": "code",
   "execution_count": 10,
   "metadata": {},
   "outputs": [
    {
     "data": {
      "text/plain": [
       "array(['Pinnacle Sports', '5Dimes', 'Bookmaker', 'BetOnline', 'Bovada',\n",
       "       'Heritage', 'Intertops', 'YouWager', 'JustBet', 'Sportsbetting'],\n",
       "      dtype=object)"
      ]
     },
     "execution_count": 10,
     "metadata": {},
     "output_type": "execute_result"
    }
   ],
   "source": [
    "book_names = df['book_name'].unique()\n",
    "book_names"
   ]
  },
  {
   "cell_type": "code",
   "execution_count": 11,
   "metadata": {},
   "outputs": [
    {
     "data": {
      "text/plain": [
       "10"
      ]
     },
     "execution_count": 11,
     "metadata": {},
     "output_type": "execute_result"
    }
   ],
   "source": [
    "df['book_name'].unique().size"
   ]
  },
  {
   "cell_type": "code",
   "execution_count": 12,
   "metadata": {},
   "outputs": [
    {
     "data": {
      "text/plain": [
       "877002"
      ]
     },
     "execution_count": 12,
     "metadata": {},
     "output_type": "execute_result"
    }
   ],
   "source": [
    "df.size"
   ]
  },
  {
   "cell_type": "code",
   "execution_count": 13,
   "metadata": {},
   "outputs": [
    {
     "data": {
      "text/plain": [
       "877002"
      ]
     },
     "execution_count": 13,
     "metadata": {},
     "output_type": "execute_result"
    }
   ],
   "source": [
    "#14822 * 7\n",
    "125286 * 7"
   ]
  },
  {
   "cell_type": "code",
   "execution_count": 14,
   "metadata": {},
   "outputs": [],
   "source": [
    "#what's up with the difference in the two previous lines cells? -ok"
   ]
  },
  {
   "cell_type": "code",
   "execution_count": 15,
   "metadata": {},
   "outputs": [
    {
     "data": {
      "text/plain": [
       "game_id      0\n",
       "book_name    0\n",
       "book_id      0\n",
       "team_id      0\n",
       "a_team_id    0\n",
       "price1       0\n",
       "price2       0\n",
       "dtype: int64"
      ]
     },
     "execution_count": 15,
     "metadata": {},
     "output_type": "execute_result"
    }
   ],
   "source": [
    "df.isnull().sum()"
   ]
  },
  {
   "cell_type": "code",
   "execution_count": 16,
   "metadata": {},
   "outputs": [
    {
     "name": "stdout",
     "output_type": "stream",
     "text": [
      "Pinnacle Sports\n",
      "5Dimes\n",
      "Bookmaker\n",
      "BetOnline\n",
      "Bovada\n",
      "Heritage\n",
      "Intertops\n",
      "YouWager\n",
      "JustBet\n",
      "Sportsbetting\n"
     ]
    }
   ],
   "source": [
    "for i in book_names:\n",
    "    print(i)"
   ]
  },
  {
   "cell_type": "code",
   "execution_count": 17,
   "metadata": {},
   "outputs": [
    {
     "data": {
      "text/html": [
       "<div>\n",
       "<style scoped>\n",
       "    .dataframe tbody tr th:only-of-type {\n",
       "        vertical-align: middle;\n",
       "    }\n",
       "\n",
       "    .dataframe tbody tr th {\n",
       "        vertical-align: top;\n",
       "    }\n",
       "\n",
       "    .dataframe thead th {\n",
       "        text-align: right;\n",
       "    }\n",
       "</style>\n",
       "<table border=\"1\" class=\"dataframe\">\n",
       "  <thead>\n",
       "    <tr style=\"text-align: right;\">\n",
       "      <th></th>\n",
       "      <th>game_id</th>\n",
       "      <th>book_name</th>\n",
       "      <th>book_id</th>\n",
       "      <th>team_id</th>\n",
       "      <th>a_team_id</th>\n",
       "      <th>price1</th>\n",
       "      <th>price2</th>\n",
       "    </tr>\n",
       "  </thead>\n",
       "  <tbody>\n",
       "    <tr>\n",
       "      <th>0</th>\n",
       "      <td>41100314</td>\n",
       "      <td>Pinnacle Sports</td>\n",
       "      <td>238</td>\n",
       "      <td>1610612759</td>\n",
       "      <td>1610612760</td>\n",
       "      <td>165.0</td>\n",
       "      <td>-183.0</td>\n",
       "    </tr>\n",
       "    <tr>\n",
       "      <th>10</th>\n",
       "      <td>41100304</td>\n",
       "      <td>Pinnacle Sports</td>\n",
       "      <td>238</td>\n",
       "      <td>1610612748</td>\n",
       "      <td>1610612738</td>\n",
       "      <td>-128.0</td>\n",
       "      <td>116.0</td>\n",
       "    </tr>\n",
       "    <tr>\n",
       "      <th>19</th>\n",
       "      <td>41100315</td>\n",
       "      <td>Pinnacle Sports</td>\n",
       "      <td>238</td>\n",
       "      <td>1610612760</td>\n",
       "      <td>1610612759</td>\n",
       "      <td>188.0</td>\n",
       "      <td>-210.0</td>\n",
       "    </tr>\n",
       "    <tr>\n",
       "      <th>29</th>\n",
       "      <td>41100307</td>\n",
       "      <td>Pinnacle Sports</td>\n",
       "      <td>238</td>\n",
       "      <td>1610612738</td>\n",
       "      <td>1610612748</td>\n",
       "      <td>367.0</td>\n",
       "      <td>-427.0</td>\n",
       "    </tr>\n",
       "    <tr>\n",
       "      <th>39</th>\n",
       "      <td>21200015</td>\n",
       "      <td>Pinnacle Sports</td>\n",
       "      <td>238</td>\n",
       "      <td>1610612754</td>\n",
       "      <td>1610612766</td>\n",
       "      <td>-275.0</td>\n",
       "      <td>244.0</td>\n",
       "    </tr>\n",
       "    <tr>\n",
       "      <th>...</th>\n",
       "      <td>...</td>\n",
       "      <td>...</td>\n",
       "      <td>...</td>\n",
       "      <td>...</td>\n",
       "      <td>...</td>\n",
       "      <td>...</td>\n",
       "      <td>...</td>\n",
       "    </tr>\n",
       "    <tr>\n",
       "      <th>125236</th>\n",
       "      <td>41700212</td>\n",
       "      <td>Pinnacle Sports</td>\n",
       "      <td>238</td>\n",
       "      <td>1610612755</td>\n",
       "      <td>1610612738</td>\n",
       "      <td>-163.0</td>\n",
       "      <td>147.0</td>\n",
       "    </tr>\n",
       "    <tr>\n",
       "      <th>125246</th>\n",
       "      <td>41700233</td>\n",
       "      <td>Pinnacle Sports</td>\n",
       "      <td>238</td>\n",
       "      <td>1610612744</td>\n",
       "      <td>1610612740</td>\n",
       "      <td>-210.0</td>\n",
       "      <td>188.0</td>\n",
       "    </tr>\n",
       "    <tr>\n",
       "      <th>125256</th>\n",
       "      <td>41700213</td>\n",
       "      <td>Pinnacle Sports</td>\n",
       "      <td>238</td>\n",
       "      <td>1610612738</td>\n",
       "      <td>1610612755</td>\n",
       "      <td>450.0</td>\n",
       "      <td>-535.0</td>\n",
       "    </tr>\n",
       "    <tr>\n",
       "      <th>125266</th>\n",
       "      <td>41700234</td>\n",
       "      <td>Pinnacle Sports</td>\n",
       "      <td>238</td>\n",
       "      <td>1610612744</td>\n",
       "      <td>1610612740</td>\n",
       "      <td>-248.0</td>\n",
       "      <td>221.0</td>\n",
       "    </tr>\n",
       "    <tr>\n",
       "      <th>125276</th>\n",
       "      <td>41700215</td>\n",
       "      <td>Pinnacle Sports</td>\n",
       "      <td>238</td>\n",
       "      <td>1610612755</td>\n",
       "      <td>1610612738</td>\n",
       "      <td>103.0</td>\n",
       "      <td>-113.0</td>\n",
       "    </tr>\n",
       "  </tbody>\n",
       "</table>\n",
       "<p>14822 rows × 7 columns</p>\n",
       "</div>"
      ],
      "text/plain": [
       "         game_id        book_name  book_id     team_id   a_team_id  price1  \\\n",
       "0       41100314  Pinnacle Sports      238  1610612759  1610612760   165.0   \n",
       "10      41100304  Pinnacle Sports      238  1610612748  1610612738  -128.0   \n",
       "19      41100315  Pinnacle Sports      238  1610612760  1610612759   188.0   \n",
       "29      41100307  Pinnacle Sports      238  1610612738  1610612748   367.0   \n",
       "39      21200015  Pinnacle Sports      238  1610612754  1610612766  -275.0   \n",
       "...          ...              ...      ...         ...         ...     ...   \n",
       "125236  41700212  Pinnacle Sports      238  1610612755  1610612738  -163.0   \n",
       "125246  41700233  Pinnacle Sports      238  1610612744  1610612740  -210.0   \n",
       "125256  41700213  Pinnacle Sports      238  1610612738  1610612755   450.0   \n",
       "125266  41700234  Pinnacle Sports      238  1610612744  1610612740  -248.0   \n",
       "125276  41700215  Pinnacle Sports      238  1610612755  1610612738   103.0   \n",
       "\n",
       "        price2  \n",
       "0       -183.0  \n",
       "10       116.0  \n",
       "19      -210.0  \n",
       "29      -427.0  \n",
       "39       244.0  \n",
       "...        ...  \n",
       "125236   147.0  \n",
       "125246   188.0  \n",
       "125256  -535.0  \n",
       "125266   221.0  \n",
       "125276  -113.0  \n",
       "\n",
       "[14822 rows x 7 columns]"
      ]
     },
     "execution_count": 17,
     "metadata": {},
     "output_type": "execute_result"
    }
   ],
   "source": [
    "df[df['book_name'] == book_names[0]]"
   ]
  },
  {
   "cell_type": "code",
   "execution_count": null,
   "metadata": {},
   "outputs": [],
   "source": []
  },
  {
   "cell_type": "code",
   "execution_count": null,
   "metadata": {},
   "outputs": [],
   "source": []
  },
  {
   "cell_type": "code",
   "execution_count": 18,
   "metadata": {},
   "outputs": [
    {
     "data": {
      "text/plain": [
       "array([   238,     19,     93,   1096, 999996,    169,    180,    139,\n",
       "         1275, 999991], dtype=int64)"
      ]
     },
     "execution_count": 18,
     "metadata": {},
     "output_type": "execute_result"
    }
   ],
   "source": [
    "book_ids = df.iloc[:,2].unique()\n",
    "book_ids"
   ]
  },
  {
   "cell_type": "code",
   "execution_count": 19,
   "metadata": {},
   "outputs": [],
   "source": [
    "#type(book_id)"
   ]
  },
  {
   "cell_type": "code",
   "execution_count": 20,
   "metadata": {},
   "outputs": [],
   "source": [
    "#print(book_id)"
   ]
  },
  {
   "cell_type": "code",
   "execution_count": null,
   "metadata": {},
   "outputs": [],
   "source": []
  },
  {
   "cell_type": "code",
   "execution_count": 21,
   "metadata": {},
   "outputs": [
    {
     "data": {
      "text/plain": [
       "238"
      ]
     },
     "execution_count": 21,
     "metadata": {},
     "output_type": "execute_result"
    }
   ],
   "source": [
    "i = 0\n",
    "ii = 0\n",
    "df[df['book_name'] == book_names[i]].iloc[i,2]"
   ]
  },
  {
   "cell_type": "code",
   "execution_count": 22,
   "metadata": {},
   "outputs": [
    {
     "data": {
      "text/html": [
       "<div>\n",
       "<style scoped>\n",
       "    .dataframe tbody tr th:only-of-type {\n",
       "        vertical-align: middle;\n",
       "    }\n",
       "\n",
       "    .dataframe tbody tr th {\n",
       "        vertical-align: top;\n",
       "    }\n",
       "\n",
       "    .dataframe thead th {\n",
       "        text-align: right;\n",
       "    }\n",
       "</style>\n",
       "<table border=\"1\" class=\"dataframe\">\n",
       "  <thead>\n",
       "    <tr style=\"text-align: right;\">\n",
       "      <th></th>\n",
       "      <th>game_id</th>\n",
       "      <th>book_name</th>\n",
       "      <th>book_id</th>\n",
       "      <th>team_id</th>\n",
       "      <th>a_team_id</th>\n",
       "      <th>price1</th>\n",
       "      <th>price2</th>\n",
       "    </tr>\n",
       "  </thead>\n",
       "  <tbody>\n",
       "    <tr>\n",
       "      <th>0</th>\n",
       "      <td>41100314</td>\n",
       "      <td>Pinnacle Sports</td>\n",
       "      <td>238</td>\n",
       "      <td>1610612759</td>\n",
       "      <td>1610612760</td>\n",
       "      <td>165.0</td>\n",
       "      <td>-183.0</td>\n",
       "    </tr>\n",
       "    <tr>\n",
       "      <th>10</th>\n",
       "      <td>41100304</td>\n",
       "      <td>Pinnacle Sports</td>\n",
       "      <td>238</td>\n",
       "      <td>1610612748</td>\n",
       "      <td>1610612738</td>\n",
       "      <td>-128.0</td>\n",
       "      <td>116.0</td>\n",
       "    </tr>\n",
       "    <tr>\n",
       "      <th>19</th>\n",
       "      <td>41100315</td>\n",
       "      <td>Pinnacle Sports</td>\n",
       "      <td>238</td>\n",
       "      <td>1610612760</td>\n",
       "      <td>1610612759</td>\n",
       "      <td>188.0</td>\n",
       "      <td>-210.0</td>\n",
       "    </tr>\n",
       "    <tr>\n",
       "      <th>29</th>\n",
       "      <td>41100307</td>\n",
       "      <td>Pinnacle Sports</td>\n",
       "      <td>238</td>\n",
       "      <td>1610612738</td>\n",
       "      <td>1610612748</td>\n",
       "      <td>367.0</td>\n",
       "      <td>-427.0</td>\n",
       "    </tr>\n",
       "    <tr>\n",
       "      <th>39</th>\n",
       "      <td>21200015</td>\n",
       "      <td>Pinnacle Sports</td>\n",
       "      <td>238</td>\n",
       "      <td>1610612754</td>\n",
       "      <td>1610612766</td>\n",
       "      <td>-275.0</td>\n",
       "      <td>244.0</td>\n",
       "    </tr>\n",
       "    <tr>\n",
       "      <th>...</th>\n",
       "      <td>...</td>\n",
       "      <td>...</td>\n",
       "      <td>...</td>\n",
       "      <td>...</td>\n",
       "      <td>...</td>\n",
       "      <td>...</td>\n",
       "      <td>...</td>\n",
       "    </tr>\n",
       "    <tr>\n",
       "      <th>125236</th>\n",
       "      <td>41700212</td>\n",
       "      <td>Pinnacle Sports</td>\n",
       "      <td>238</td>\n",
       "      <td>1610612755</td>\n",
       "      <td>1610612738</td>\n",
       "      <td>-163.0</td>\n",
       "      <td>147.0</td>\n",
       "    </tr>\n",
       "    <tr>\n",
       "      <th>125246</th>\n",
       "      <td>41700233</td>\n",
       "      <td>Pinnacle Sports</td>\n",
       "      <td>238</td>\n",
       "      <td>1610612744</td>\n",
       "      <td>1610612740</td>\n",
       "      <td>-210.0</td>\n",
       "      <td>188.0</td>\n",
       "    </tr>\n",
       "    <tr>\n",
       "      <th>125256</th>\n",
       "      <td>41700213</td>\n",
       "      <td>Pinnacle Sports</td>\n",
       "      <td>238</td>\n",
       "      <td>1610612738</td>\n",
       "      <td>1610612755</td>\n",
       "      <td>450.0</td>\n",
       "      <td>-535.0</td>\n",
       "    </tr>\n",
       "    <tr>\n",
       "      <th>125266</th>\n",
       "      <td>41700234</td>\n",
       "      <td>Pinnacle Sports</td>\n",
       "      <td>238</td>\n",
       "      <td>1610612744</td>\n",
       "      <td>1610612740</td>\n",
       "      <td>-248.0</td>\n",
       "      <td>221.0</td>\n",
       "    </tr>\n",
       "    <tr>\n",
       "      <th>125276</th>\n",
       "      <td>41700215</td>\n",
       "      <td>Pinnacle Sports</td>\n",
       "      <td>238</td>\n",
       "      <td>1610612755</td>\n",
       "      <td>1610612738</td>\n",
       "      <td>103.0</td>\n",
       "      <td>-113.0</td>\n",
       "    </tr>\n",
       "  </tbody>\n",
       "</table>\n",
       "<p>14822 rows × 7 columns</p>\n",
       "</div>"
      ],
      "text/plain": [
       "         game_id        book_name  book_id     team_id   a_team_id  price1  \\\n",
       "0       41100314  Pinnacle Sports      238  1610612759  1610612760   165.0   \n",
       "10      41100304  Pinnacle Sports      238  1610612748  1610612738  -128.0   \n",
       "19      41100315  Pinnacle Sports      238  1610612760  1610612759   188.0   \n",
       "29      41100307  Pinnacle Sports      238  1610612738  1610612748   367.0   \n",
       "39      21200015  Pinnacle Sports      238  1610612754  1610612766  -275.0   \n",
       "...          ...              ...      ...         ...         ...     ...   \n",
       "125236  41700212  Pinnacle Sports      238  1610612755  1610612738  -163.0   \n",
       "125246  41700233  Pinnacle Sports      238  1610612744  1610612740  -210.0   \n",
       "125256  41700213  Pinnacle Sports      238  1610612738  1610612755   450.0   \n",
       "125266  41700234  Pinnacle Sports      238  1610612744  1610612740  -248.0   \n",
       "125276  41700215  Pinnacle Sports      238  1610612755  1610612738   103.0   \n",
       "\n",
       "        price2  \n",
       "0       -183.0  \n",
       "10       116.0  \n",
       "19      -210.0  \n",
       "29      -427.0  \n",
       "39       244.0  \n",
       "...        ...  \n",
       "125236   147.0  \n",
       "125246   188.0  \n",
       "125256  -535.0  \n",
       "125266   221.0  \n",
       "125276  -113.0  \n",
       "\n",
       "[14822 rows x 7 columns]"
      ]
     },
     "execution_count": 22,
     "metadata": {},
     "output_type": "execute_result"
    }
   ],
   "source": [
    "df[df['book_name'] == book_names[i]]"
   ]
  },
  {
   "cell_type": "code",
   "execution_count": 23,
   "metadata": {},
   "outputs": [
    {
     "data": {
      "text/plain": [
       "19"
      ]
     },
     "execution_count": 23,
     "metadata": {},
     "output_type": "execute_result"
    }
   ],
   "source": [
    "i = 1\n",
    "df[df['book_name'] == book_names[i]].iloc[ii,2]"
   ]
  },
  {
   "cell_type": "code",
   "execution_count": null,
   "metadata": {},
   "outputs": [],
   "source": []
  },
  {
   "cell_type": "code",
   "execution_count": null,
   "metadata": {},
   "outputs": [],
   "source": []
  },
  {
   "cell_type": "code",
   "execution_count": 24,
   "metadata": {},
   "outputs": [
    {
     "data": {
      "text/plain": [
       "game_id      14894\n",
       "book_name    14894\n",
       "book_id      14894\n",
       "team_id      14894\n",
       "a_team_id    14894\n",
       "price1       14894\n",
       "price2       14894\n",
       "dtype: int64"
      ]
     },
     "execution_count": 24,
     "metadata": {},
     "output_type": "execute_result"
    }
   ],
   "source": [
    "df[df['book_name'] == book_names[i]].count()"
   ]
  },
  {
   "cell_type": "code",
   "execution_count": 25,
   "metadata": {},
   "outputs": [
    {
     "data": {
      "text/plain": [
       "104258"
      ]
     },
     "execution_count": 25,
     "metadata": {},
     "output_type": "execute_result"
    }
   ],
   "source": [
    "df[df['book_name'] == book_names[i]].size"
   ]
  },
  {
   "cell_type": "code",
   "execution_count": 26,
   "metadata": {},
   "outputs": [
    {
     "data": {
      "text/plain": [
       "104258"
      ]
     },
     "execution_count": 26,
     "metadata": {},
     "output_type": "execute_result"
    }
   ],
   "source": [
    "14894 * 7"
   ]
  },
  {
   "cell_type": "code",
   "execution_count": null,
   "metadata": {},
   "outputs": [],
   "source": []
  },
  {
   "cell_type": "code",
   "execution_count": null,
   "metadata": {},
   "outputs": [],
   "source": []
  },
  {
   "cell_type": "code",
   "execution_count": 27,
   "metadata": {},
   "outputs": [
    {
     "data": {
      "text/html": [
       "<div>\n",
       "<style scoped>\n",
       "    .dataframe tbody tr th:only-of-type {\n",
       "        vertical-align: middle;\n",
       "    }\n",
       "\n",
       "    .dataframe tbody tr th {\n",
       "        vertical-align: top;\n",
       "    }\n",
       "\n",
       "    .dataframe thead th {\n",
       "        text-align: right;\n",
       "    }\n",
       "</style>\n",
       "<table border=\"1\" class=\"dataframe\">\n",
       "  <thead>\n",
       "    <tr style=\"text-align: right;\">\n",
       "      <th></th>\n",
       "      <th>game_id</th>\n",
       "      <th>book_name</th>\n",
       "      <th>book_id</th>\n",
       "      <th>team_id</th>\n",
       "      <th>a_team_id</th>\n",
       "      <th>price1</th>\n",
       "      <th>price2</th>\n",
       "    </tr>\n",
       "  </thead>\n",
       "  <tbody>\n",
       "    <tr>\n",
       "      <th>1</th>\n",
       "      <td>41100314</td>\n",
       "      <td>5Dimes</td>\n",
       "      <td>19</td>\n",
       "      <td>1610612759</td>\n",
       "      <td>1610612760</td>\n",
       "      <td>165.0</td>\n",
       "      <td>-175.0</td>\n",
       "    </tr>\n",
       "    <tr>\n",
       "      <th>11</th>\n",
       "      <td>41100304</td>\n",
       "      <td>5Dimes</td>\n",
       "      <td>19</td>\n",
       "      <td>1610612748</td>\n",
       "      <td>1610612738</td>\n",
       "      <td>-128.0</td>\n",
       "      <td>118.0</td>\n",
       "    </tr>\n",
       "    <tr>\n",
       "      <th>20</th>\n",
       "      <td>41100315</td>\n",
       "      <td>5Dimes</td>\n",
       "      <td>19</td>\n",
       "      <td>1610612760</td>\n",
       "      <td>1610612759</td>\n",
       "      <td>190.0</td>\n",
       "      <td>-230.0</td>\n",
       "    </tr>\n",
       "    <tr>\n",
       "      <th>30</th>\n",
       "      <td>41100307</td>\n",
       "      <td>5Dimes</td>\n",
       "      <td>19</td>\n",
       "      <td>1610612738</td>\n",
       "      <td>1610612748</td>\n",
       "      <td>375.0</td>\n",
       "      <td>-420.0</td>\n",
       "    </tr>\n",
       "    <tr>\n",
       "      <th>40</th>\n",
       "      <td>21200015</td>\n",
       "      <td>5Dimes</td>\n",
       "      <td>19</td>\n",
       "      <td>1610612754</td>\n",
       "      <td>1610612766</td>\n",
       "      <td>-280.0</td>\n",
       "      <td>255.0</td>\n",
       "    </tr>\n",
       "    <tr>\n",
       "      <th>...</th>\n",
       "      <td>...</td>\n",
       "      <td>...</td>\n",
       "      <td>...</td>\n",
       "      <td>...</td>\n",
       "      <td>...</td>\n",
       "      <td>...</td>\n",
       "      <td>...</td>\n",
       "    </tr>\n",
       "    <tr>\n",
       "      <th>125237</th>\n",
       "      <td>41700212</td>\n",
       "      <td>5Dimes</td>\n",
       "      <td>19</td>\n",
       "      <td>1610612755</td>\n",
       "      <td>1610612738</td>\n",
       "      <td>-165.0</td>\n",
       "      <td>155.0</td>\n",
       "    </tr>\n",
       "    <tr>\n",
       "      <th>125247</th>\n",
       "      <td>41700233</td>\n",
       "      <td>5Dimes</td>\n",
       "      <td>19</td>\n",
       "      <td>1610612744</td>\n",
       "      <td>1610612740</td>\n",
       "      <td>-210.0</td>\n",
       "      <td>190.0</td>\n",
       "    </tr>\n",
       "    <tr>\n",
       "      <th>125257</th>\n",
       "      <td>41700213</td>\n",
       "      <td>5Dimes</td>\n",
       "      <td>19</td>\n",
       "      <td>1610612738</td>\n",
       "      <td>1610612755</td>\n",
       "      <td>420.0</td>\n",
       "      <td>-475.0</td>\n",
       "    </tr>\n",
       "    <tr>\n",
       "      <th>125267</th>\n",
       "      <td>41700234</td>\n",
       "      <td>5Dimes</td>\n",
       "      <td>19</td>\n",
       "      <td>1610612744</td>\n",
       "      <td>1610612740</td>\n",
       "      <td>-245.0</td>\n",
       "      <td>225.0</td>\n",
       "    </tr>\n",
       "    <tr>\n",
       "      <th>125277</th>\n",
       "      <td>41700215</td>\n",
       "      <td>5Dimes</td>\n",
       "      <td>19</td>\n",
       "      <td>1610612755</td>\n",
       "      <td>1610612738</td>\n",
       "      <td>102.0</td>\n",
       "      <td>-112.0</td>\n",
       "    </tr>\n",
       "  </tbody>\n",
       "</table>\n",
       "<p>14894 rows × 7 columns</p>\n",
       "</div>"
      ],
      "text/plain": [
       "         game_id book_name  book_id     team_id   a_team_id  price1  price2\n",
       "1       41100314    5Dimes       19  1610612759  1610612760   165.0  -175.0\n",
       "11      41100304    5Dimes       19  1610612748  1610612738  -128.0   118.0\n",
       "20      41100315    5Dimes       19  1610612760  1610612759   190.0  -230.0\n",
       "30      41100307    5Dimes       19  1610612738  1610612748   375.0  -420.0\n",
       "40      21200015    5Dimes       19  1610612754  1610612766  -280.0   255.0\n",
       "...          ...       ...      ...         ...         ...     ...     ...\n",
       "125237  41700212    5Dimes       19  1610612755  1610612738  -165.0   155.0\n",
       "125247  41700233    5Dimes       19  1610612744  1610612740  -210.0   190.0\n",
       "125257  41700213    5Dimes       19  1610612738  1610612755   420.0  -475.0\n",
       "125267  41700234    5Dimes       19  1610612744  1610612740  -245.0   225.0\n",
       "125277  41700215    5Dimes       19  1610612755  1610612738   102.0  -112.0\n",
       "\n",
       "[14894 rows x 7 columns]"
      ]
     },
     "execution_count": 27,
     "metadata": {},
     "output_type": "execute_result"
    }
   ],
   "source": [
    "df[df['book_name'] == book_names[i]]"
   ]
  },
  {
   "cell_type": "code",
   "execution_count": 28,
   "metadata": {},
   "outputs": [
    {
     "data": {
      "text/plain": [
       "104258"
      ]
     },
     "execution_count": 28,
     "metadata": {},
     "output_type": "execute_result"
    }
   ],
   "source": [
    "df[df['book_name'] == book_names[i]].size"
   ]
  },
  {
   "cell_type": "code",
   "execution_count": 29,
   "metadata": {},
   "outputs": [
    {
     "name": "stderr",
     "output_type": "stream",
     "text": [
      "C:\\Users\\Paul\\anaconda3\\lib\\site-packages\\ipykernel_launcher.py:1: UserWarning: Boolean Series key will be reindexed to match DataFrame index.\n",
      "  \"\"\"Entry point for launching an IPython kernel.\n"
     ]
    },
    {
     "data": {
      "text/html": [
       "<div>\n",
       "<style scoped>\n",
       "    .dataframe tbody tr th:only-of-type {\n",
       "        vertical-align: middle;\n",
       "    }\n",
       "\n",
       "    .dataframe tbody tr th {\n",
       "        vertical-align: top;\n",
       "    }\n",
       "\n",
       "    .dataframe thead th {\n",
       "        text-align: right;\n",
       "    }\n",
       "</style>\n",
       "<table border=\"1\" class=\"dataframe\">\n",
       "  <thead>\n",
       "    <tr style=\"text-align: right;\">\n",
       "      <th></th>\n",
       "      <th>game_id</th>\n",
       "      <th>book_name</th>\n",
       "      <th>book_id</th>\n",
       "      <th>team_id</th>\n",
       "      <th>a_team_id</th>\n",
       "      <th>price1</th>\n",
       "      <th>price2</th>\n",
       "    </tr>\n",
       "  </thead>\n",
       "  <tbody>\n",
       "    <tr>\n",
       "      <th>1</th>\n",
       "      <td>41100314</td>\n",
       "      <td>5Dimes</td>\n",
       "      <td>19</td>\n",
       "      <td>1610612759</td>\n",
       "      <td>1610612760</td>\n",
       "      <td>165.0</td>\n",
       "      <td>-175.0</td>\n",
       "    </tr>\n",
       "    <tr>\n",
       "      <th>11</th>\n",
       "      <td>41100304</td>\n",
       "      <td>5Dimes</td>\n",
       "      <td>19</td>\n",
       "      <td>1610612748</td>\n",
       "      <td>1610612738</td>\n",
       "      <td>-128.0</td>\n",
       "      <td>118.0</td>\n",
       "    </tr>\n",
       "    <tr>\n",
       "      <th>20</th>\n",
       "      <td>41100315</td>\n",
       "      <td>5Dimes</td>\n",
       "      <td>19</td>\n",
       "      <td>1610612760</td>\n",
       "      <td>1610612759</td>\n",
       "      <td>190.0</td>\n",
       "      <td>-230.0</td>\n",
       "    </tr>\n",
       "    <tr>\n",
       "      <th>30</th>\n",
       "      <td>41100307</td>\n",
       "      <td>5Dimes</td>\n",
       "      <td>19</td>\n",
       "      <td>1610612738</td>\n",
       "      <td>1610612748</td>\n",
       "      <td>375.0</td>\n",
       "      <td>-420.0</td>\n",
       "    </tr>\n",
       "    <tr>\n",
       "      <th>40</th>\n",
       "      <td>21200015</td>\n",
       "      <td>5Dimes</td>\n",
       "      <td>19</td>\n",
       "      <td>1610612754</td>\n",
       "      <td>1610612766</td>\n",
       "      <td>-280.0</td>\n",
       "      <td>255.0</td>\n",
       "    </tr>\n",
       "    <tr>\n",
       "      <th>...</th>\n",
       "      <td>...</td>\n",
       "      <td>...</td>\n",
       "      <td>...</td>\n",
       "      <td>...</td>\n",
       "      <td>...</td>\n",
       "      <td>...</td>\n",
       "      <td>...</td>\n",
       "    </tr>\n",
       "    <tr>\n",
       "      <th>125237</th>\n",
       "      <td>41700212</td>\n",
       "      <td>5Dimes</td>\n",
       "      <td>19</td>\n",
       "      <td>1610612755</td>\n",
       "      <td>1610612738</td>\n",
       "      <td>-165.0</td>\n",
       "      <td>155.0</td>\n",
       "    </tr>\n",
       "    <tr>\n",
       "      <th>125247</th>\n",
       "      <td>41700233</td>\n",
       "      <td>5Dimes</td>\n",
       "      <td>19</td>\n",
       "      <td>1610612744</td>\n",
       "      <td>1610612740</td>\n",
       "      <td>-210.0</td>\n",
       "      <td>190.0</td>\n",
       "    </tr>\n",
       "    <tr>\n",
       "      <th>125257</th>\n",
       "      <td>41700213</td>\n",
       "      <td>5Dimes</td>\n",
       "      <td>19</td>\n",
       "      <td>1610612738</td>\n",
       "      <td>1610612755</td>\n",
       "      <td>420.0</td>\n",
       "      <td>-475.0</td>\n",
       "    </tr>\n",
       "    <tr>\n",
       "      <th>125267</th>\n",
       "      <td>41700234</td>\n",
       "      <td>5Dimes</td>\n",
       "      <td>19</td>\n",
       "      <td>1610612744</td>\n",
       "      <td>1610612740</td>\n",
       "      <td>-245.0</td>\n",
       "      <td>225.0</td>\n",
       "    </tr>\n",
       "    <tr>\n",
       "      <th>125277</th>\n",
       "      <td>41700215</td>\n",
       "      <td>5Dimes</td>\n",
       "      <td>19</td>\n",
       "      <td>1610612755</td>\n",
       "      <td>1610612738</td>\n",
       "      <td>102.0</td>\n",
       "      <td>-112.0</td>\n",
       "    </tr>\n",
       "  </tbody>\n",
       "</table>\n",
       "<p>14894 rows × 7 columns</p>\n",
       "</div>"
      ],
      "text/plain": [
       "         game_id book_name  book_id     team_id   a_team_id  price1  price2\n",
       "1       41100314    5Dimes       19  1610612759  1610612760   165.0  -175.0\n",
       "11      41100304    5Dimes       19  1610612748  1610612738  -128.0   118.0\n",
       "20      41100315    5Dimes       19  1610612760  1610612759   190.0  -230.0\n",
       "30      41100307    5Dimes       19  1610612738  1610612748   375.0  -420.0\n",
       "40      21200015    5Dimes       19  1610612754  1610612766  -280.0   255.0\n",
       "...          ...       ...      ...         ...         ...     ...     ...\n",
       "125237  41700212    5Dimes       19  1610612755  1610612738  -165.0   155.0\n",
       "125247  41700233    5Dimes       19  1610612744  1610612740  -210.0   190.0\n",
       "125257  41700213    5Dimes       19  1610612738  1610612755   420.0  -475.0\n",
       "125267  41700234    5Dimes       19  1610612744  1610612740  -245.0   225.0\n",
       "125277  41700215    5Dimes       19  1610612755  1610612738   102.0  -112.0\n",
       "\n",
       "[14894 rows x 7 columns]"
      ]
     },
     "execution_count": 29,
     "metadata": {},
     "output_type": "execute_result"
    }
   ],
   "source": [
    "df[df['book_name'] == book_names[i]][df['book_id'] == book_ids[i]]"
   ]
  },
  {
   "cell_type": "code",
   "execution_count": 30,
   "metadata": {},
   "outputs": [
    {
     "name": "stderr",
     "output_type": "stream",
     "text": [
      "C:\\Users\\Paul\\anaconda3\\lib\\site-packages\\ipykernel_launcher.py:1: UserWarning: Boolean Series key will be reindexed to match DataFrame index.\n",
      "  \"\"\"Entry point for launching an IPython kernel.\n"
     ]
    },
    {
     "data": {
      "text/plain": [
       "104258"
      ]
     },
     "execution_count": 30,
     "metadata": {},
     "output_type": "execute_result"
    }
   ],
   "source": [
    "df[df['book_name'] == book_names[i]][df['book_id'] == book_ids[i]].size"
   ]
  },
  {
   "cell_type": "code",
   "execution_count": 31,
   "metadata": {},
   "outputs": [
    {
     "name": "stdout",
     "output_type": "stream",
     "text": [
      "same size for: 1\n"
     ]
    },
    {
     "name": "stderr",
     "output_type": "stream",
     "text": [
      "C:\\Users\\Paul\\anaconda3\\lib\\site-packages\\ipykernel_launcher.py:1: UserWarning: Boolean Series key will be reindexed to match DataFrame index.\n",
      "  \"\"\"Entry point for launching an IPython kernel.\n"
     ]
    }
   ],
   "source": [
    "if(df[df['book_name'] == book_names[i]][df['book_id'] == book_ids[i]].size == df[df['book_name'] == book_names[i]].size):\n",
    "    print('same size for: ' + str(i))"
   ]
  },
  {
   "cell_type": "code",
   "execution_count": null,
   "metadata": {},
   "outputs": [],
   "source": []
  },
  {
   "cell_type": "code",
   "execution_count": 32,
   "metadata": {},
   "outputs": [],
   "source": [
    "#check book name and book id match up by two columns"
   ]
  },
  {
   "cell_type": "code",
   "execution_count": 33,
   "metadata": {},
   "outputs": [
    {
     "name": "stderr",
     "output_type": "stream",
     "text": [
      "C:\\Users\\Paul\\anaconda3\\lib\\site-packages\\ipykernel_launcher.py:2: UserWarning: Boolean Series key will be reindexed to match DataFrame index.\n",
      "  \n",
      "C:\\Users\\Paul\\anaconda3\\lib\\site-packages\\ipykernel_launcher.py:2: UserWarning: Boolean Series key will be reindexed to match DataFrame index.\n",
      "  \n",
      "C:\\Users\\Paul\\anaconda3\\lib\\site-packages\\ipykernel_launcher.py:2: UserWarning: Boolean Series key will be reindexed to match DataFrame index.\n",
      "  \n",
      "C:\\Users\\Paul\\anaconda3\\lib\\site-packages\\ipykernel_launcher.py:2: UserWarning: Boolean Series key will be reindexed to match DataFrame index.\n",
      "  \n",
      "C:\\Users\\Paul\\anaconda3\\lib\\site-packages\\ipykernel_launcher.py:2: UserWarning: Boolean Series key will be reindexed to match DataFrame index.\n",
      "  \n",
      "C:\\Users\\Paul\\anaconda3\\lib\\site-packages\\ipykernel_launcher.py:2: UserWarning: Boolean Series key will be reindexed to match DataFrame index.\n",
      "  \n",
      "C:\\Users\\Paul\\anaconda3\\lib\\site-packages\\ipykernel_launcher.py:2: UserWarning: Boolean Series key will be reindexed to match DataFrame index.\n",
      "  \n",
      "C:\\Users\\Paul\\anaconda3\\lib\\site-packages\\ipykernel_launcher.py:2: UserWarning: Boolean Series key will be reindexed to match DataFrame index.\n",
      "  \n"
     ]
    },
    {
     "name": "stdout",
     "output_type": "stream",
     "text": [
      "same size for: 0\n",
      "same size for: 1\n",
      "same size for: 2\n",
      "same size for: 3\n",
      "same size for: 4\n",
      "same size for: 5\n",
      "same size for: 6\n",
      "same size for: 7\n",
      "same size for: 8\n",
      "same size for: 9\n"
     ]
    },
    {
     "name": "stderr",
     "output_type": "stream",
     "text": [
      "C:\\Users\\Paul\\anaconda3\\lib\\site-packages\\ipykernel_launcher.py:2: UserWarning: Boolean Series key will be reindexed to match DataFrame index.\n",
      "  \n",
      "C:\\Users\\Paul\\anaconda3\\lib\\site-packages\\ipykernel_launcher.py:2: UserWarning: Boolean Series key will be reindexed to match DataFrame index.\n",
      "  \n"
     ]
    }
   ],
   "source": [
    "for i in range(0, 10):\n",
    "    if(df[df['book_name'] == book_names[i]][df['book_id'] == book_ids[i]].size == df[df['book_name'] == book_names[i]].size):\n",
    "        print('same size for: ' + str(i))"
   ]
  },
  {
   "cell_type": "code",
   "execution_count": null,
   "metadata": {},
   "outputs": [],
   "source": []
  },
  {
   "cell_type": "code",
   "execution_count": null,
   "metadata": {},
   "outputs": [],
   "source": []
  },
  {
   "cell_type": "code",
   "execution_count": 34,
   "metadata": {},
   "outputs": [],
   "source": [
    "#one column"
   ]
  },
  {
   "cell_type": "code",
   "execution_count": 35,
   "metadata": {},
   "outputs": [
    {
     "data": {
      "text/plain": [
       "0          Pinnacle Sports 238\n",
       "1                    5Dimes 19\n",
       "2                 Bookmaker 93\n",
       "3               BetOnline 1096\n",
       "4                Bovada 999996\n",
       "                  ...         \n",
       "125281            Heritage 169\n",
       "125282           Intertops 180\n",
       "125283            YouWager 139\n",
       "125284            JustBet 1275\n",
       "125285    Sportsbetting 999991\n",
       "Name: book_name_id, Length: 125286, dtype: object"
      ]
     },
     "execution_count": 35,
     "metadata": {},
     "output_type": "execute_result"
    }
   ],
   "source": [
    "df['book_name_id'] = df['book_name'] + ' ' + df['book_id'].astype(str)\n",
    "df['book_name_id']"
   ]
  },
  {
   "cell_type": "code",
   "execution_count": 36,
   "metadata": {},
   "outputs": [
    {
     "data": {
      "text/plain": [
       "10"
      ]
     },
     "execution_count": 36,
     "metadata": {},
     "output_type": "execute_result"
    }
   ],
   "source": [
    "df['book_name_id'].unique().size"
   ]
  },
  {
   "cell_type": "code",
   "execution_count": null,
   "metadata": {},
   "outputs": [],
   "source": []
  },
  {
   "cell_type": "code",
   "execution_count": null,
   "metadata": {},
   "outputs": [],
   "source": []
  },
  {
   "cell_type": "code",
   "execution_count": 37,
   "metadata": {},
   "outputs": [
    {
     "data": {
      "text/plain": [
       "14906"
      ]
     },
     "execution_count": 37,
     "metadata": {},
     "output_type": "execute_result"
    }
   ],
   "source": [
    "df.game_id.unique().size"
   ]
  },
  {
   "cell_type": "code",
   "execution_count": 38,
   "metadata": {},
   "outputs": [
    {
     "data": {
      "text/plain": [
       "149060"
      ]
     },
     "execution_count": 38,
     "metadata": {},
     "output_type": "execute_result"
    }
   ],
   "source": [
    "df.game_id.unique().size * 10"
   ]
  },
  {
   "cell_type": "code",
   "execution_count": null,
   "metadata": {},
   "outputs": [],
   "source": []
  },
  {
   "cell_type": "code",
   "execution_count": null,
   "metadata": {},
   "outputs": [],
   "source": []
  },
  {
   "cell_type": "code",
   "execution_count": 39,
   "metadata": {},
   "outputs": [],
   "source": [
    "df['game_id_book_id'] = df['game_id'].astype(str)+df['book_id'].astype(str)\n",
    "#errorrr\n",
    "#df['game_id_book_id'] = df['game_id_book_id'].astype(int)\n",
    "#df['game_id_book_id']\n",
    "\n"
   ]
  },
  {
   "cell_type": "code",
   "execution_count": 40,
   "metadata": {},
   "outputs": [
    {
     "data": {
      "text/plain": [
       "125286"
      ]
     },
     "execution_count": 40,
     "metadata": {},
     "output_type": "execute_result"
    }
   ],
   "source": [
    "df['game_id_book_id'].unique().size"
   ]
  },
  {
   "cell_type": "code",
   "execution_count": 41,
   "metadata": {},
   "outputs": [
    {
     "data": {
      "text/plain": [
       "array(['41100314238', '4110031419', '4110031493', ..., '41700215139',\n",
       "       '417002151275', '41700215999991'], dtype=object)"
      ]
     },
     "execution_count": 41,
     "metadata": {},
     "output_type": "execute_result"
    }
   ],
   "source": [
    "df['game_id_book_id'].unique()"
   ]
  },
  {
   "cell_type": "code",
   "execution_count": 42,
   "metadata": {},
   "outputs": [
    {
     "data": {
      "text/html": [
       "<div>\n",
       "<style scoped>\n",
       "    .dataframe tbody tr th:only-of-type {\n",
       "        vertical-align: middle;\n",
       "    }\n",
       "\n",
       "    .dataframe tbody tr th {\n",
       "        vertical-align: top;\n",
       "    }\n",
       "\n",
       "    .dataframe thead th {\n",
       "        text-align: right;\n",
       "    }\n",
       "</style>\n",
       "<table border=\"1\" class=\"dataframe\">\n",
       "  <thead>\n",
       "    <tr style=\"text-align: right;\">\n",
       "      <th></th>\n",
       "      <th>game_id</th>\n",
       "      <th>book_id</th>\n",
       "      <th>team_id</th>\n",
       "      <th>a_team_id</th>\n",
       "      <th>price1</th>\n",
       "      <th>price2</th>\n",
       "    </tr>\n",
       "  </thead>\n",
       "  <tbody>\n",
       "    <tr>\n",
       "      <th>count</th>\n",
       "      <td>1.252860e+05</td>\n",
       "      <td>125286.000000</td>\n",
       "      <td>1.252860e+05</td>\n",
       "      <td>1.252860e+05</td>\n",
       "      <td>125286.000000</td>\n",
       "      <td>125286.000000</td>\n",
       "    </tr>\n",
       "    <tr>\n",
       "      <th>mean</th>\n",
       "      <td>2.257277e+07</td>\n",
       "      <td>191621.738901</td>\n",
       "      <td>1.610613e+09</td>\n",
       "      <td>1.610613e+09</td>\n",
       "      <td>130.136528</td>\n",
       "      <td>-232.803410</td>\n",
       "    </tr>\n",
       "    <tr>\n",
       "      <th>std</th>\n",
       "      <td>5.072096e+06</td>\n",
       "      <td>393154.449911</td>\n",
       "      <td>8.695453e+00</td>\n",
       "      <td>8.686479e+00</td>\n",
       "      <td>397.507543</td>\n",
       "      <td>576.164611</td>\n",
       "    </tr>\n",
       "    <tr>\n",
       "      <th>min</th>\n",
       "      <td>1.110000e+07</td>\n",
       "      <td>19.000000</td>\n",
       "      <td>1.610613e+09</td>\n",
       "      <td>1.610613e+09</td>\n",
       "      <td>-11450.000000</td>\n",
       "      <td>-21880.000000</td>\n",
       "    </tr>\n",
       "    <tr>\n",
       "      <th>25%</th>\n",
       "      <td>2.100035e+07</td>\n",
       "      <td>139.000000</td>\n",
       "      <td>1.610613e+09</td>\n",
       "      <td>1.610613e+09</td>\n",
       "      <td>-140.000000</td>\n",
       "      <td>-340.000000</td>\n",
       "    </tr>\n",
       "    <tr>\n",
       "      <th>50%</th>\n",
       "      <td>2.130036e+07</td>\n",
       "      <td>238.000000</td>\n",
       "      <td>1.610613e+09</td>\n",
       "      <td>1.610613e+09</td>\n",
       "      <td>155.000000</td>\n",
       "      <td>-175.000000</td>\n",
       "    </tr>\n",
       "    <tr>\n",
       "      <th>75%</th>\n",
       "      <td>2.160007e+07</td>\n",
       "      <td>1275.000000</td>\n",
       "      <td>1.610613e+09</td>\n",
       "      <td>1.610613e+09</td>\n",
       "      <td>280.000000</td>\n",
       "      <td>120.000000</td>\n",
       "    </tr>\n",
       "    <tr>\n",
       "      <th>max</th>\n",
       "      <td>4.170040e+07</td>\n",
       "      <td>999996.000000</td>\n",
       "      <td>1.610613e+09</td>\n",
       "      <td>1.610613e+09</td>\n",
       "      <td>6500.000000</td>\n",
       "      <td>6725.000000</td>\n",
       "    </tr>\n",
       "  </tbody>\n",
       "</table>\n",
       "</div>"
      ],
      "text/plain": [
       "            game_id        book_id       team_id     a_team_id         price1  \\\n",
       "count  1.252860e+05  125286.000000  1.252860e+05  1.252860e+05  125286.000000   \n",
       "mean   2.257277e+07  191621.738901  1.610613e+09  1.610613e+09     130.136528   \n",
       "std    5.072096e+06  393154.449911  8.695453e+00  8.686479e+00     397.507543   \n",
       "min    1.110000e+07      19.000000  1.610613e+09  1.610613e+09  -11450.000000   \n",
       "25%    2.100035e+07     139.000000  1.610613e+09  1.610613e+09    -140.000000   \n",
       "50%    2.130036e+07     238.000000  1.610613e+09  1.610613e+09     155.000000   \n",
       "75%    2.160007e+07    1275.000000  1.610613e+09  1.610613e+09     280.000000   \n",
       "max    4.170040e+07  999996.000000  1.610613e+09  1.610613e+09    6500.000000   \n",
       "\n",
       "              price2  \n",
       "count  125286.000000  \n",
       "mean     -232.803410  \n",
       "std       576.164611  \n",
       "min    -21880.000000  \n",
       "25%      -340.000000  \n",
       "50%      -175.000000  \n",
       "75%       120.000000  \n",
       "max      6725.000000  "
      ]
     },
     "execution_count": 42,
     "metadata": {},
     "output_type": "execute_result"
    }
   ],
   "source": [
    "df.describe()"
   ]
  },
  {
   "cell_type": "code",
   "execution_count": null,
   "metadata": {},
   "outputs": [],
   "source": []
  },
  {
   "cell_type": "code",
   "execution_count": null,
   "metadata": {},
   "outputs": [],
   "source": []
  },
  {
   "cell_type": "code",
   "execution_count": null,
   "metadata": {},
   "outputs": [],
   "source": []
  },
  {
   "cell_type": "code",
   "execution_count": 43,
   "metadata": {},
   "outputs": [
    {
     "data": {
      "text/html": [
       "<div>\n",
       "<style scoped>\n",
       "    .dataframe tbody tr th:only-of-type {\n",
       "        vertical-align: middle;\n",
       "    }\n",
       "\n",
       "    .dataframe tbody tr th {\n",
       "        vertical-align: top;\n",
       "    }\n",
       "\n",
       "    .dataframe thead th {\n",
       "        text-align: right;\n",
       "    }\n",
       "</style>\n",
       "<table border=\"1\" class=\"dataframe\">\n",
       "  <thead>\n",
       "    <tr style=\"text-align: right;\">\n",
       "      <th></th>\n",
       "      <th>game_id</th>\n",
       "      <th>book_name</th>\n",
       "      <th>book_id</th>\n",
       "      <th>team_id</th>\n",
       "      <th>a_team_id</th>\n",
       "      <th>price1</th>\n",
       "      <th>price2</th>\n",
       "    </tr>\n",
       "  </thead>\n",
       "  <tbody>\n",
       "    <tr>\n",
       "      <th>0</th>\n",
       "      <td>41100314</td>\n",
       "      <td>Pinnacle Sports</td>\n",
       "      <td>238</td>\n",
       "      <td>1610612759</td>\n",
       "      <td>1610612760</td>\n",
       "      <td>165.0</td>\n",
       "      <td>-183.0</td>\n",
       "    </tr>\n",
       "    <tr>\n",
       "      <th>1</th>\n",
       "      <td>41100314</td>\n",
       "      <td>5Dimes</td>\n",
       "      <td>19</td>\n",
       "      <td>1610612759</td>\n",
       "      <td>1610612760</td>\n",
       "      <td>165.0</td>\n",
       "      <td>-175.0</td>\n",
       "    </tr>\n",
       "    <tr>\n",
       "      <th>2</th>\n",
       "      <td>41100314</td>\n",
       "      <td>Bookmaker</td>\n",
       "      <td>93</td>\n",
       "      <td>1610612759</td>\n",
       "      <td>1610612760</td>\n",
       "      <td>160.0</td>\n",
       "      <td>-190.0</td>\n",
       "    </tr>\n",
       "    <tr>\n",
       "      <th>3</th>\n",
       "      <td>41100314</td>\n",
       "      <td>BetOnline</td>\n",
       "      <td>1096</td>\n",
       "      <td>1610612759</td>\n",
       "      <td>1610612760</td>\n",
       "      <td>165.0</td>\n",
       "      <td>-190.0</td>\n",
       "    </tr>\n",
       "    <tr>\n",
       "      <th>4</th>\n",
       "      <td>41100314</td>\n",
       "      <td>Bovada</td>\n",
       "      <td>999996</td>\n",
       "      <td>1610612759</td>\n",
       "      <td>1610612760</td>\n",
       "      <td>155.0</td>\n",
       "      <td>-175.0</td>\n",
       "    </tr>\n",
       "    <tr>\n",
       "      <th>...</th>\n",
       "      <td>...</td>\n",
       "      <td>...</td>\n",
       "      <td>...</td>\n",
       "      <td>...</td>\n",
       "      <td>...</td>\n",
       "      <td>...</td>\n",
       "      <td>...</td>\n",
       "    </tr>\n",
       "    <tr>\n",
       "      <th>125281</th>\n",
       "      <td>41700215</td>\n",
       "      <td>Heritage</td>\n",
       "      <td>169</td>\n",
       "      <td>1610612755</td>\n",
       "      <td>1610612738</td>\n",
       "      <td>105.0</td>\n",
       "      <td>-125.0</td>\n",
       "    </tr>\n",
       "    <tr>\n",
       "      <th>125282</th>\n",
       "      <td>41700215</td>\n",
       "      <td>Intertops</td>\n",
       "      <td>180</td>\n",
       "      <td>1610612755</td>\n",
       "      <td>1610612738</td>\n",
       "      <td>100.0</td>\n",
       "      <td>-120.0</td>\n",
       "    </tr>\n",
       "    <tr>\n",
       "      <th>125283</th>\n",
       "      <td>41700215</td>\n",
       "      <td>YouWager</td>\n",
       "      <td>139</td>\n",
       "      <td>1610612755</td>\n",
       "      <td>1610612738</td>\n",
       "      <td>105.0</td>\n",
       "      <td>-125.0</td>\n",
       "    </tr>\n",
       "    <tr>\n",
       "      <th>125284</th>\n",
       "      <td>41700215</td>\n",
       "      <td>JustBet</td>\n",
       "      <td>1275</td>\n",
       "      <td>1610612755</td>\n",
       "      <td>1610612738</td>\n",
       "      <td>100.0</td>\n",
       "      <td>-120.0</td>\n",
       "    </tr>\n",
       "    <tr>\n",
       "      <th>125285</th>\n",
       "      <td>41700215</td>\n",
       "      <td>Sportsbetting</td>\n",
       "      <td>999991</td>\n",
       "      <td>1610612755</td>\n",
       "      <td>1610612738</td>\n",
       "      <td>105.0</td>\n",
       "      <td>-125.0</td>\n",
       "    </tr>\n",
       "  </tbody>\n",
       "</table>\n",
       "<p>125286 rows × 7 columns</p>\n",
       "</div>"
      ],
      "text/plain": [
       "         game_id        book_name  book_id     team_id   a_team_id  price1  \\\n",
       "0       41100314  Pinnacle Sports      238  1610612759  1610612760   165.0   \n",
       "1       41100314           5Dimes       19  1610612759  1610612760   165.0   \n",
       "2       41100314        Bookmaker       93  1610612759  1610612760   160.0   \n",
       "3       41100314        BetOnline     1096  1610612759  1610612760   165.0   \n",
       "4       41100314           Bovada   999996  1610612759  1610612760   155.0   \n",
       "...          ...              ...      ...         ...         ...     ...   \n",
       "125281  41700215         Heritage      169  1610612755  1610612738   105.0   \n",
       "125282  41700215        Intertops      180  1610612755  1610612738   100.0   \n",
       "125283  41700215         YouWager      139  1610612755  1610612738   105.0   \n",
       "125284  41700215          JustBet     1275  1610612755  1610612738   100.0   \n",
       "125285  41700215    Sportsbetting   999991  1610612755  1610612738   105.0   \n",
       "\n",
       "        price2  \n",
       "0       -183.0  \n",
       "1       -175.0  \n",
       "2       -190.0  \n",
       "3       -190.0  \n",
       "4       -175.0  \n",
       "...        ...  \n",
       "125281  -125.0  \n",
       "125282  -120.0  \n",
       "125283  -125.0  \n",
       "125284  -120.0  \n",
       "125285  -125.0  \n",
       "\n",
       "[125286 rows x 7 columns]"
      ]
     },
     "execution_count": 43,
     "metadata": {},
     "output_type": "execute_result"
    }
   ],
   "source": [
    "df = df.iloc[:,0:7]\n",
    "df"
   ]
  },
  {
   "cell_type": "code",
   "execution_count": 44,
   "metadata": {},
   "outputs": [
    {
     "data": {
      "text/plain": [
       "14906"
      ]
     },
     "execution_count": 44,
     "metadata": {},
     "output_type": "execute_result"
    }
   ],
   "source": [
    "df['game_id'].unique().size"
   ]
  },
  {
   "cell_type": "code",
   "execution_count": 45,
   "metadata": {},
   "outputs": [
    {
     "data": {
      "text/plain": [
       "125286"
      ]
     },
     "execution_count": 45,
     "metadata": {},
     "output_type": "execute_result"
    }
   ],
   "source": [
    "df['game_id'].size"
   ]
  },
  {
   "cell_type": "code",
   "execution_count": 46,
   "metadata": {},
   "outputs": [
    {
     "data": {
      "text/plain": [
       "8.405071783174561"
      ]
     },
     "execution_count": 46,
     "metadata": {},
     "output_type": "execute_result"
    }
   ],
   "source": [
    "125286 / 14906"
   ]
  },
  {
   "cell_type": "code",
   "execution_count": 47,
   "metadata": {},
   "outputs": [],
   "source": [
    "#clearly there is not an equal number of rows of each game_id"
   ]
  },
  {
   "cell_type": "code",
   "execution_count": 48,
   "metadata": {},
   "outputs": [],
   "source": [
    "#get count per column value\n"
   ]
  },
  {
   "cell_type": "code",
   "execution_count": 49,
   "metadata": {},
   "outputs": [
    {
     "data": {
      "text/html": [
       "<div>\n",
       "<style scoped>\n",
       "    .dataframe tbody tr th:only-of-type {\n",
       "        vertical-align: middle;\n",
       "    }\n",
       "\n",
       "    .dataframe tbody tr th {\n",
       "        vertical-align: top;\n",
       "    }\n",
       "\n",
       "    .dataframe thead th {\n",
       "        text-align: right;\n",
       "    }\n",
       "</style>\n",
       "<table border=\"1\" class=\"dataframe\">\n",
       "  <thead>\n",
       "    <tr style=\"text-align: right;\">\n",
       "      <th></th>\n",
       "      <th>book_name</th>\n",
       "      <th>book_id</th>\n",
       "      <th>team_id</th>\n",
       "      <th>a_team_id</th>\n",
       "      <th>price1</th>\n",
       "      <th>price2</th>\n",
       "    </tr>\n",
       "    <tr>\n",
       "      <th>game_id</th>\n",
       "      <th></th>\n",
       "      <th></th>\n",
       "      <th></th>\n",
       "      <th></th>\n",
       "      <th></th>\n",
       "      <th></th>\n",
       "    </tr>\n",
       "  </thead>\n",
       "  <tbody>\n",
       "    <tr>\n",
       "      <th>11100001</th>\n",
       "      <td>5</td>\n",
       "      <td>5</td>\n",
       "      <td>5</td>\n",
       "      <td>5</td>\n",
       "      <td>5</td>\n",
       "      <td>5</td>\n",
       "    </tr>\n",
       "    <tr>\n",
       "      <th>11100002</th>\n",
       "      <td>5</td>\n",
       "      <td>5</td>\n",
       "      <td>5</td>\n",
       "      <td>5</td>\n",
       "      <td>5</td>\n",
       "      <td>5</td>\n",
       "    </tr>\n",
       "    <tr>\n",
       "      <th>11100003</th>\n",
       "      <td>5</td>\n",
       "      <td>5</td>\n",
       "      <td>5</td>\n",
       "      <td>5</td>\n",
       "      <td>5</td>\n",
       "      <td>5</td>\n",
       "    </tr>\n",
       "    <tr>\n",
       "      <th>11100004</th>\n",
       "      <td>5</td>\n",
       "      <td>5</td>\n",
       "      <td>5</td>\n",
       "      <td>5</td>\n",
       "      <td>5</td>\n",
       "      <td>5</td>\n",
       "    </tr>\n",
       "    <tr>\n",
       "      <th>11100005</th>\n",
       "      <td>5</td>\n",
       "      <td>5</td>\n",
       "      <td>5</td>\n",
       "      <td>5</td>\n",
       "      <td>5</td>\n",
       "      <td>5</td>\n",
       "    </tr>\n",
       "    <tr>\n",
       "      <th>...</th>\n",
       "      <td>...</td>\n",
       "      <td>...</td>\n",
       "      <td>...</td>\n",
       "      <td>...</td>\n",
       "      <td>...</td>\n",
       "      <td>...</td>\n",
       "    </tr>\n",
       "    <tr>\n",
       "      <th>41700317</th>\n",
       "      <td>10</td>\n",
       "      <td>10</td>\n",
       "      <td>10</td>\n",
       "      <td>10</td>\n",
       "      <td>10</td>\n",
       "      <td>10</td>\n",
       "    </tr>\n",
       "    <tr>\n",
       "      <th>41700401</th>\n",
       "      <td>10</td>\n",
       "      <td>10</td>\n",
       "      <td>10</td>\n",
       "      <td>10</td>\n",
       "      <td>10</td>\n",
       "      <td>10</td>\n",
       "    </tr>\n",
       "    <tr>\n",
       "      <th>41700402</th>\n",
       "      <td>10</td>\n",
       "      <td>10</td>\n",
       "      <td>10</td>\n",
       "      <td>10</td>\n",
       "      <td>10</td>\n",
       "      <td>10</td>\n",
       "    </tr>\n",
       "    <tr>\n",
       "      <th>41700403</th>\n",
       "      <td>10</td>\n",
       "      <td>10</td>\n",
       "      <td>10</td>\n",
       "      <td>10</td>\n",
       "      <td>10</td>\n",
       "      <td>10</td>\n",
       "    </tr>\n",
       "    <tr>\n",
       "      <th>41700404</th>\n",
       "      <td>10</td>\n",
       "      <td>10</td>\n",
       "      <td>10</td>\n",
       "      <td>10</td>\n",
       "      <td>10</td>\n",
       "      <td>10</td>\n",
       "    </tr>\n",
       "  </tbody>\n",
       "</table>\n",
       "<p>14906 rows × 6 columns</p>\n",
       "</div>"
      ],
      "text/plain": [
       "          book_name  book_id  team_id  a_team_id  price1  price2\n",
       "game_id                                                         \n",
       "11100001          5        5        5          5       5       5\n",
       "11100002          5        5        5          5       5       5\n",
       "11100003          5        5        5          5       5       5\n",
       "11100004          5        5        5          5       5       5\n",
       "11100005          5        5        5          5       5       5\n",
       "...             ...      ...      ...        ...     ...     ...\n",
       "41700317         10       10       10         10      10      10\n",
       "41700401         10       10       10         10      10      10\n",
       "41700402         10       10       10         10      10      10\n",
       "41700403         10       10       10         10      10      10\n",
       "41700404         10       10       10         10      10      10\n",
       "\n",
       "[14906 rows x 6 columns]"
      ]
     },
     "execution_count": 49,
     "metadata": {},
     "output_type": "execute_result"
    }
   ],
   "source": [
    "df.groupby('game_id').count()"
   ]
  },
  {
   "cell_type": "code",
   "execution_count": 50,
   "metadata": {},
   "outputs": [
    {
     "data": {
      "text/plain": [
       "book_name    10\n",
       "book_id      10\n",
       "team_id      10\n",
       "a_team_id    10\n",
       "price1       10\n",
       "price2       10\n",
       "dtype: int64"
      ]
     },
     "execution_count": 50,
     "metadata": {},
     "output_type": "execute_result"
    }
   ],
   "source": [
    "df.groupby('game_id').count().max()"
   ]
  },
  {
   "cell_type": "code",
   "execution_count": 51,
   "metadata": {},
   "outputs": [
    {
     "data": {
      "text/plain": [
       "book_name    1\n",
       "book_id      1\n",
       "team_id      1\n",
       "a_team_id    1\n",
       "price1       1\n",
       "price2       1\n",
       "dtype: int64"
      ]
     },
     "execution_count": 51,
     "metadata": {},
     "output_type": "execute_result"
    }
   ],
   "source": [
    "df.groupby('game_id').count().min()"
   ]
  },
  {
   "cell_type": "markdown",
   "metadata": {},
   "source": [
    "<font color = 'red'> why is it that some games have more book names??? <font>"
   ]
  },
  {
   "cell_type": "markdown",
   "metadata": {},
   "source": [
    "<font color = 'red'> what are you going to do about having more book names for some games than others? <font>"
   ]
  },
  {
   "cell_type": "markdown",
   "metadata": {},
   "source": [
    "<font color = 'red'> what games have the most number of book names??? <font>"
   ]
  },
  {
   "cell_type": "markdown",
   "metadata": {},
   "source": [
    "<font color = 'red'> how many book names is that??? <font>"
   ]
  },
  {
   "cell_type": "code",
   "execution_count": null,
   "metadata": {},
   "outputs": [],
   "source": []
  },
  {
   "cell_type": "code",
   "execution_count": null,
   "metadata": {},
   "outputs": [],
   "source": []
  },
  {
   "cell_type": "code",
   "execution_count": 52,
   "metadata": {},
   "outputs": [],
   "source": [
    "pd.options.display.max_columns = 999\n",
    "pd.options.display.max_rows = 999\n",
    "pd.set_option(\"display.max_rows\", 101)\n",
    "pd.set_option(\"display.max_columns\", 101)"
   ]
  },
  {
   "cell_type": "code",
   "execution_count": 53,
   "metadata": {},
   "outputs": [
    {
     "data": {
      "text/plain": [
       "game_id\n",
       "11100001     5\n",
       "11100002     5\n",
       "11100003     5\n",
       "11100004     5\n",
       "11100005     5\n",
       "            ..\n",
       "41700317    10\n",
       "41700401    10\n",
       "41700402    10\n",
       "41700403    10\n",
       "41700404    10\n",
       "Name: book_name, Length: 14906, dtype: int64"
      ]
     },
     "execution_count": 53,
     "metadata": {},
     "output_type": "execute_result"
    }
   ],
   "source": [
    "df.groupby('game_id')['book_name'].count()"
   ]
  },
  {
   "cell_type": "code",
   "execution_count": 54,
   "metadata": {},
   "outputs": [
    {
     "data": {
      "text/plain": [
       "count    14906.000000\n",
       "mean         8.405072\n",
       "std          1.998191\n",
       "min          1.000000\n",
       "25%          8.000000\n",
       "50%          9.000000\n",
       "75%         10.000000\n",
       "max         10.000000\n",
       "Name: book_name, dtype: float64"
      ]
     },
     "execution_count": 54,
     "metadata": {},
     "output_type": "execute_result"
    }
   ],
   "source": [
    "df.groupby('game_id')['book_name'].count().describe()"
   ]
  },
  {
   "cell_type": "code",
   "execution_count": 55,
   "metadata": {},
   "outputs": [
    {
     "data": {
      "text/plain": [
       "<AxesSubplot:>"
      ]
     },
     "execution_count": 55,
     "metadata": {},
     "output_type": "execute_result"
    },
    {
     "data": {
      "image/png": "[encoded data removed]",
      "text/plain": [
       "<Figure size 432x288 with 1 Axes>"
      ]
     },
     "metadata": {
      "needs_background": "light"
     },
     "output_type": "display_data"
    }
   ],
   "source": [
    "df.groupby('game_id')['book_name'].count().hist(bins=33)"
   ]
  },
  {
   "cell_type": "code",
   "execution_count": 56,
   "metadata": {},
   "outputs": [
    {
     "data": {
      "text/html": [
       "<div>\n",
       "<style scoped>\n",
       "    .dataframe tbody tr th:only-of-type {\n",
       "        vertical-align: middle;\n",
       "    }\n",
       "\n",
       "    .dataframe tbody tr th {\n",
       "        vertical-align: top;\n",
       "    }\n",
       "\n",
       "    .dataframe thead th {\n",
       "        text-align: right;\n",
       "    }\n",
       "</style>\n",
       "<table border=\"1\" class=\"dataframe\">\n",
       "  <thead>\n",
       "    <tr style=\"text-align: right;\">\n",
       "      <th></th>\n",
       "      <th>book_id</th>\n",
       "      <th>team_id</th>\n",
       "      <th>a_team_id</th>\n",
       "      <th>price1</th>\n",
       "      <th>price2</th>\n",
       "    </tr>\n",
       "    <tr>\n",
       "      <th>book_name</th>\n",
       "      <th></th>\n",
       "      <th></th>\n",
       "      <th></th>\n",
       "      <th></th>\n",
       "      <th></th>\n",
       "    </tr>\n",
       "  </thead>\n",
       "  <tbody>\n",
       "    <tr>\n",
       "      <th>1</th>\n",
       "      <td>1</td>\n",
       "      <td>1</td>\n",
       "      <td>1</td>\n",
       "      <td>1</td>\n",
       "      <td>1</td>\n",
       "    </tr>\n",
       "    <tr>\n",
       "      <th>2</th>\n",
       "      <td>17</td>\n",
       "      <td>17</td>\n",
       "      <td>17</td>\n",
       "      <td>17</td>\n",
       "      <td>17</td>\n",
       "    </tr>\n",
       "    <tr>\n",
       "      <th>3</th>\n",
       "      <td>340</td>\n",
       "      <td>340</td>\n",
       "      <td>340</td>\n",
       "      <td>340</td>\n",
       "      <td>340</td>\n",
       "    </tr>\n",
       "    <tr>\n",
       "      <th>4</th>\n",
       "      <td>1110</td>\n",
       "      <td>1110</td>\n",
       "      <td>1110</td>\n",
       "      <td>1110</td>\n",
       "      <td>1110</td>\n",
       "    </tr>\n",
       "    <tr>\n",
       "      <th>5</th>\n",
       "      <td>388</td>\n",
       "      <td>388</td>\n",
       "      <td>388</td>\n",
       "      <td>388</td>\n",
       "      <td>388</td>\n",
       "    </tr>\n",
       "    <tr>\n",
       "      <th>6</th>\n",
       "      <td>383</td>\n",
       "      <td>383</td>\n",
       "      <td>383</td>\n",
       "      <td>383</td>\n",
       "      <td>383</td>\n",
       "    </tr>\n",
       "    <tr>\n",
       "      <th>7</th>\n",
       "      <td>1408</td>\n",
       "      <td>1408</td>\n",
       "      <td>1408</td>\n",
       "      <td>1408</td>\n",
       "      <td>1408</td>\n",
       "    </tr>\n",
       "    <tr>\n",
       "      <th>8</th>\n",
       "      <td>2124</td>\n",
       "      <td>2124</td>\n",
       "      <td>2124</td>\n",
       "      <td>2124</td>\n",
       "      <td>2124</td>\n",
       "    </tr>\n",
       "    <tr>\n",
       "      <th>9</th>\n",
       "      <td>2645</td>\n",
       "      <td>2645</td>\n",
       "      <td>2645</td>\n",
       "      <td>2645</td>\n",
       "      <td>2645</td>\n",
       "    </tr>\n",
       "    <tr>\n",
       "      <th>10</th>\n",
       "      <td>6490</td>\n",
       "      <td>6490</td>\n",
       "      <td>6490</td>\n",
       "      <td>6490</td>\n",
       "      <td>6490</td>\n",
       "    </tr>\n",
       "  </tbody>\n",
       "</table>\n",
       "</div>"
      ],
      "text/plain": [
       "           book_id  team_id  a_team_id  price1  price2\n",
       "book_name                                             \n",
       "1                1        1          1       1       1\n",
       "2               17       17         17      17      17\n",
       "3              340      340        340     340     340\n",
       "4             1110     1110       1110    1110    1110\n",
       "5              388      388        388     388     388\n",
       "6              383      383        383     383     383\n",
       "7             1408     1408       1408    1408    1408\n",
       "8             2124     2124       2124    2124    2124\n",
       "9             2645     2645       2645    2645    2645\n",
       "10            6490     6490       6490    6490    6490"
      ]
     },
     "execution_count": 56,
     "metadata": {},
     "output_type": "execute_result"
    }
   ],
   "source": [
    "df.groupby('game_id').count().groupby('book_name').count()"
   ]
  },
  {
   "cell_type": "code",
   "execution_count": 57,
   "metadata": {},
   "outputs": [
    {
     "data": {
      "text/plain": [
       "book_name\n",
       "1        1\n",
       "2       17\n",
       "3      340\n",
       "4     1110\n",
       "5      388\n",
       "6      383\n",
       "7     1408\n",
       "8     2124\n",
       "9     2645\n",
       "10    6490\n",
       "Name: book_id, dtype: int64"
      ]
     },
     "execution_count": 57,
     "metadata": {},
     "output_type": "execute_result"
    }
   ],
   "source": [
    "df.groupby('game_id').count().groupby('book_name').count()['book_id']"
   ]
  },
  {
   "cell_type": "code",
   "execution_count": 58,
   "metadata": {},
   "outputs": [
    {
     "data": {
      "text/plain": [
       "game_id\n",
       "11100001    False\n",
       "11100002    False\n",
       "11100003    False\n",
       "11100004    False\n",
       "11100005    False\n",
       "            ...  \n",
       "41700317    False\n",
       "41700401    False\n",
       "41700402    False\n",
       "41700403    False\n",
       "41700404    False\n",
       "Name: book_id, Length: 14906, dtype: bool"
      ]
     },
     "execution_count": 58,
     "metadata": {},
     "output_type": "execute_result"
    }
   ],
   "source": [
    "t = (df.groupby('game_id').count()['book_id'] == 1)\n",
    "t"
   ]
  },
  {
   "cell_type": "code",
   "execution_count": 59,
   "metadata": {},
   "outputs": [
    {
     "data": {
      "text/plain": [
       "14906"
      ]
     },
     "execution_count": 59,
     "metadata": {},
     "output_type": "execute_result"
    }
   ],
   "source": [
    "t.size"
   ]
  },
  {
   "cell_type": "code",
   "execution_count": 60,
   "metadata": {},
   "outputs": [
    {
     "data": {
      "text/plain": [
       "pandas.core.series.Series"
      ]
     },
     "execution_count": 60,
     "metadata": {},
     "output_type": "execute_result"
    }
   ],
   "source": [
    "type(t)"
   ]
  },
  {
   "cell_type": "code",
   "execution_count": 61,
   "metadata": {},
   "outputs": [
    {
     "data": {
      "text/html": [
       "<div>\n",
       "<style scoped>\n",
       "    .dataframe tbody tr th:only-of-type {\n",
       "        vertical-align: middle;\n",
       "    }\n",
       "\n",
       "    .dataframe tbody tr th {\n",
       "        vertical-align: top;\n",
       "    }\n",
       "\n",
       "    .dataframe thead th {\n",
       "        text-align: right;\n",
       "    }\n",
       "</style>\n",
       "<table border=\"1\" class=\"dataframe\">\n",
       "  <thead>\n",
       "    <tr style=\"text-align: right;\">\n",
       "      <th></th>\n",
       "      <th>book_name</th>\n",
       "      <th>book_id</th>\n",
       "      <th>team_id</th>\n",
       "      <th>a_team_id</th>\n",
       "      <th>price1</th>\n",
       "      <th>price2</th>\n",
       "    </tr>\n",
       "    <tr>\n",
       "      <th>game_id</th>\n",
       "      <th></th>\n",
       "      <th></th>\n",
       "      <th></th>\n",
       "      <th></th>\n",
       "      <th></th>\n",
       "      <th></th>\n",
       "    </tr>\n",
       "  </thead>\n",
       "  <tbody>\n",
       "    <tr>\n",
       "      <th>20601220</th>\n",
       "      <td>1</td>\n",
       "      <td>1</td>\n",
       "      <td>1</td>\n",
       "      <td>1</td>\n",
       "      <td>1</td>\n",
       "      <td>1</td>\n",
       "    </tr>\n",
       "  </tbody>\n",
       "</table>\n",
       "</div>"
      ],
      "text/plain": [
       "          book_name  book_id  team_id  a_team_id  price1  price2\n",
       "game_id                                                         \n",
       "20601220          1        1        1          1       1       1"
      ]
     },
     "execution_count": 61,
     "metadata": {},
     "output_type": "execute_result"
    }
   ],
   "source": [
    "df.groupby('game_id').count()[t]"
   ]
  },
  {
   "cell_type": "code",
   "execution_count": 62,
   "metadata": {},
   "outputs": [
    {
     "data": {
      "text/html": [
       "<div>\n",
       "<style scoped>\n",
       "    .dataframe tbody tr th:only-of-type {\n",
       "        vertical-align: middle;\n",
       "    }\n",
       "\n",
       "    .dataframe tbody tr th {\n",
       "        vertical-align: top;\n",
       "    }\n",
       "\n",
       "    .dataframe thead th {\n",
       "        text-align: right;\n",
       "    }\n",
       "</style>\n",
       "<table border=\"1\" class=\"dataframe\">\n",
       "  <thead>\n",
       "    <tr style=\"text-align: right;\">\n",
       "      <th></th>\n",
       "      <th>game_id</th>\n",
       "      <th>book_name</th>\n",
       "      <th>book_id</th>\n",
       "      <th>team_id</th>\n",
       "      <th>a_team_id</th>\n",
       "      <th>price1</th>\n",
       "      <th>price2</th>\n",
       "    </tr>\n",
       "  </thead>\n",
       "  <tbody>\n",
       "    <tr>\n",
       "      <th>11469</th>\n",
       "      <td>20601220</td>\n",
       "      <td>5Dimes</td>\n",
       "      <td>19</td>\n",
       "      <td>1610612749</td>\n",
       "      <td>1610612739</td>\n",
       "      <td>1250.0</td>\n",
       "      <td>-2000.0</td>\n",
       "    </tr>\n",
       "  </tbody>\n",
       "</table>\n",
       "</div>"
      ],
      "text/plain": [
       "        game_id book_name  book_id     team_id   a_team_id  price1  price2\n",
       "11469  20601220    5Dimes       19  1610612749  1610612739  1250.0 -2000.0"
      ]
     },
     "execution_count": 62,
     "metadata": {},
     "output_type": "execute_result"
    }
   ],
   "source": [
    "df[df['game_id'] == 20601220]\n"
   ]
  },
  {
   "cell_type": "code",
   "execution_count": 63,
   "metadata": {},
   "outputs": [],
   "source": [
    "# game id that has only 1 book id is???? -game id 20601220 as shown above"
   ]
  },
  {
   "cell_type": "code",
   "execution_count": null,
   "metadata": {},
   "outputs": [],
   "source": []
  },
  {
   "cell_type": "code",
   "execution_count": null,
   "metadata": {},
   "outputs": [],
   "source": []
  },
  {
   "cell_type": "code",
   "execution_count": null,
   "metadata": {},
   "outputs": [],
   "source": []
  },
  {
   "cell_type": "markdown",
   "metadata": {},
   "source": [
    "###########################################Data Definition###########################################\n",
    "\n",
    "do your column names correspond to what those columns store? -yes\n",
    "\n",
    "check the data types of your columns. are they sensible? -??????????????yes\n",
    "\n",
    "calculate summary statistics for each of your columns, such as mean, median, mode, standard deviation, range, and number of unique values. what does this tell you about your data? what do you need to investigate? "
   ]
  },
  {
   "cell_type": "code",
   "execution_count": 64,
   "metadata": {},
   "outputs": [],
   "source": [
    "#data types check -ok"
   ]
  },
  {
   "cell_type": "code",
   "execution_count": 65,
   "metadata": {
    "scrolled": true
   },
   "outputs": [
    {
     "name": "stdout",
     "output_type": "stream",
     "text": [
      "<class 'pandas.core.frame.DataFrame'>\n",
      "RangeIndex: 125286 entries, 0 to 125285\n",
      "Data columns (total 7 columns):\n",
      " #   Column     Non-Null Count   Dtype  \n",
      "---  ------     --------------   -----  \n",
      " 0   game_id    125286 non-null  int64  \n",
      " 1   book_name  125286 non-null  object \n",
      " 2   book_id    125286 non-null  int64  \n",
      " 3   team_id    125286 non-null  int64  \n",
      " 4   a_team_id  125286 non-null  int64  \n",
      " 5   price1     125286 non-null  float64\n",
      " 6   price2     125286 non-null  float64\n",
      "dtypes: float64(2), int64(4), object(1)\n",
      "memory usage: 6.7+ MB\n"
     ]
    }
   ],
   "source": [
    "df.info()"
   ]
  },
  {
   "cell_type": "code",
   "execution_count": 66,
   "metadata": {},
   "outputs": [],
   "source": [
    "#calculate summary statistics"
   ]
  },
  {
   "cell_type": "code",
   "execution_count": 67,
   "metadata": {},
   "outputs": [
    {
     "data": {
      "text/html": [
       "<div>\n",
       "<style scoped>\n",
       "    .dataframe tbody tr th:only-of-type {\n",
       "        vertical-align: middle;\n",
       "    }\n",
       "\n",
       "    .dataframe tbody tr th {\n",
       "        vertical-align: top;\n",
       "    }\n",
       "\n",
       "    .dataframe thead th {\n",
       "        text-align: right;\n",
       "    }\n",
       "</style>\n",
       "<table border=\"1\" class=\"dataframe\">\n",
       "  <thead>\n",
       "    <tr style=\"text-align: right;\">\n",
       "      <th></th>\n",
       "      <th>game_id</th>\n",
       "      <th>book_id</th>\n",
       "      <th>team_id</th>\n",
       "      <th>a_team_id</th>\n",
       "      <th>price1</th>\n",
       "      <th>price2</th>\n",
       "    </tr>\n",
       "  </thead>\n",
       "  <tbody>\n",
       "    <tr>\n",
       "      <th>count</th>\n",
       "      <td>1.252860e+05</td>\n",
       "      <td>125286.000000</td>\n",
       "      <td>1.252860e+05</td>\n",
       "      <td>1.252860e+05</td>\n",
       "      <td>125286.000000</td>\n",
       "      <td>125286.000000</td>\n",
       "    </tr>\n",
       "    <tr>\n",
       "      <th>mean</th>\n",
       "      <td>2.257277e+07</td>\n",
       "      <td>191621.738901</td>\n",
       "      <td>1.610613e+09</td>\n",
       "      <td>1.610613e+09</td>\n",
       "      <td>130.136528</td>\n",
       "      <td>-232.803410</td>\n",
       "    </tr>\n",
       "    <tr>\n",
       "      <th>std</th>\n",
       "      <td>5.072096e+06</td>\n",
       "      <td>393154.449911</td>\n",
       "      <td>8.695453e+00</td>\n",
       "      <td>8.686479e+00</td>\n",
       "      <td>397.507543</td>\n",
       "      <td>576.164611</td>\n",
       "    </tr>\n",
       "    <tr>\n",
       "      <th>min</th>\n",
       "      <td>1.110000e+07</td>\n",
       "      <td>19.000000</td>\n",
       "      <td>1.610613e+09</td>\n",
       "      <td>1.610613e+09</td>\n",
       "      <td>-11450.000000</td>\n",
       "      <td>-21880.000000</td>\n",
       "    </tr>\n",
       "    <tr>\n",
       "      <th>25%</th>\n",
       "      <td>2.100035e+07</td>\n",
       "      <td>139.000000</td>\n",
       "      <td>1.610613e+09</td>\n",
       "      <td>1.610613e+09</td>\n",
       "      <td>-140.000000</td>\n",
       "      <td>-340.000000</td>\n",
       "    </tr>\n",
       "    <tr>\n",
       "      <th>50%</th>\n",
       "      <td>2.130036e+07</td>\n",
       "      <td>238.000000</td>\n",
       "      <td>1.610613e+09</td>\n",
       "      <td>1.610613e+09</td>\n",
       "      <td>155.000000</td>\n",
       "      <td>-175.000000</td>\n",
       "    </tr>\n",
       "    <tr>\n",
       "      <th>75%</th>\n",
       "      <td>2.160007e+07</td>\n",
       "      <td>1275.000000</td>\n",
       "      <td>1.610613e+09</td>\n",
       "      <td>1.610613e+09</td>\n",
       "      <td>280.000000</td>\n",
       "      <td>120.000000</td>\n",
       "    </tr>\n",
       "    <tr>\n",
       "      <th>max</th>\n",
       "      <td>4.170040e+07</td>\n",
       "      <td>999996.000000</td>\n",
       "      <td>1.610613e+09</td>\n",
       "      <td>1.610613e+09</td>\n",
       "      <td>6500.000000</td>\n",
       "      <td>6725.000000</td>\n",
       "    </tr>\n",
       "  </tbody>\n",
       "</table>\n",
       "</div>"
      ],
      "text/plain": [
       "            game_id        book_id       team_id     a_team_id         price1  \\\n",
       "count  1.252860e+05  125286.000000  1.252860e+05  1.252860e+05  125286.000000   \n",
       "mean   2.257277e+07  191621.738901  1.610613e+09  1.610613e+09     130.136528   \n",
       "std    5.072096e+06  393154.449911  8.695453e+00  8.686479e+00     397.507543   \n",
       "min    1.110000e+07      19.000000  1.610613e+09  1.610613e+09  -11450.000000   \n",
       "25%    2.100035e+07     139.000000  1.610613e+09  1.610613e+09    -140.000000   \n",
       "50%    2.130036e+07     238.000000  1.610613e+09  1.610613e+09     155.000000   \n",
       "75%    2.160007e+07    1275.000000  1.610613e+09  1.610613e+09     280.000000   \n",
       "max    4.170040e+07  999996.000000  1.610613e+09  1.610613e+09    6500.000000   \n",
       "\n",
       "              price2  \n",
       "count  125286.000000  \n",
       "mean     -232.803410  \n",
       "std       576.164611  \n",
       "min    -21880.000000  \n",
       "25%      -340.000000  \n",
       "50%      -175.000000  \n",
       "75%       120.000000  \n",
       "max      6725.000000  "
      ]
     },
     "execution_count": 67,
     "metadata": {},
     "output_type": "execute_result"
    }
   ],
   "source": [
    "df.describe()"
   ]
  },
  {
   "cell_type": "code",
   "execution_count": 68,
   "metadata": {},
   "outputs": [
    {
     "data": {
      "text/plain": [
       "game_id      2.130036e+07\n",
       "book_id      2.380000e+02\n",
       "team_id      1.610613e+09\n",
       "a_team_id    1.610613e+09\n",
       "price1       1.550000e+02\n",
       "price2      -1.750000e+02\n",
       "dtype: float64"
      ]
     },
     "execution_count": 68,
     "metadata": {},
     "output_type": "execute_result"
    }
   ],
   "source": [
    "#median\n",
    "df.median()"
   ]
  },
  {
   "cell_type": "code",
   "execution_count": 79,
   "metadata": {},
   "outputs": [
    {
     "data": {
      "text/html": [
       "<div>\n",
       "<style scoped>\n",
       "    .dataframe tbody tr th:only-of-type {\n",
       "        vertical-align: middle;\n",
       "    }\n",
       "\n",
       "    .dataframe tbody tr th {\n",
       "        vertical-align: top;\n",
       "    }\n",
       "\n",
       "    .dataframe thead th {\n",
       "        text-align: right;\n",
       "    }\n",
       "</style>\n",
       "<table border=\"1\" class=\"dataframe\">\n",
       "  <thead>\n",
       "    <tr style=\"text-align: right;\">\n",
       "      <th></th>\n",
       "      <th>game_id</th>\n",
       "      <th>book_name</th>\n",
       "      <th>book_id</th>\n",
       "      <th>team_id</th>\n",
       "      <th>a_team_id</th>\n",
       "      <th>price1</th>\n",
       "      <th>price2</th>\n",
       "    </tr>\n",
       "  </thead>\n",
       "  <tbody>\n",
       "    <tr>\n",
       "      <th>0</th>\n",
       "      <td>21100001</td>\n",
       "      <td>5Dimes</td>\n",
       "      <td>19.0</td>\n",
       "      <td>1.610613e+09</td>\n",
       "      <td>1.610613e+09</td>\n",
       "      <td>155.0</td>\n",
       "      <td>-130.0</td>\n",
       "    </tr>\n",
       "    <tr>\n",
       "      <th>1</th>\n",
       "      <td>21100002</td>\n",
       "      <td>NaN</td>\n",
       "      <td>NaN</td>\n",
       "      <td>1.610613e+09</td>\n",
       "      <td>NaN</td>\n",
       "      <td>NaN</td>\n",
       "      <td>NaN</td>\n",
       "    </tr>\n",
       "    <tr>\n",
       "      <th>2</th>\n",
       "      <td>21100003</td>\n",
       "      <td>NaN</td>\n",
       "      <td>NaN</td>\n",
       "      <td>NaN</td>\n",
       "      <td>NaN</td>\n",
       "      <td>NaN</td>\n",
       "      <td>NaN</td>\n",
       "    </tr>\n",
       "    <tr>\n",
       "      <th>3</th>\n",
       "      <td>21100004</td>\n",
       "      <td>NaN</td>\n",
       "      <td>NaN</td>\n",
       "      <td>NaN</td>\n",
       "      <td>NaN</td>\n",
       "      <td>NaN</td>\n",
       "      <td>NaN</td>\n",
       "    </tr>\n",
       "    <tr>\n",
       "      <th>4</th>\n",
       "      <td>21100005</td>\n",
       "      <td>NaN</td>\n",
       "      <td>NaN</td>\n",
       "      <td>NaN</td>\n",
       "      <td>NaN</td>\n",
       "      <td>NaN</td>\n",
       "      <td>NaN</td>\n",
       "    </tr>\n",
       "    <tr>\n",
       "      <th>...</th>\n",
       "      <td>...</td>\n",
       "      <td>...</td>\n",
       "      <td>...</td>\n",
       "      <td>...</td>\n",
       "      <td>...</td>\n",
       "      <td>...</td>\n",
       "      <td>...</td>\n",
       "    </tr>\n",
       "    <tr>\n",
       "      <th>6485</th>\n",
       "      <td>41700317</td>\n",
       "      <td>NaN</td>\n",
       "      <td>NaN</td>\n",
       "      <td>NaN</td>\n",
       "      <td>NaN</td>\n",
       "      <td>NaN</td>\n",
       "      <td>NaN</td>\n",
       "    </tr>\n",
       "    <tr>\n",
       "      <th>6486</th>\n",
       "      <td>41700401</td>\n",
       "      <td>NaN</td>\n",
       "      <td>NaN</td>\n",
       "      <td>NaN</td>\n",
       "      <td>NaN</td>\n",
       "      <td>NaN</td>\n",
       "      <td>NaN</td>\n",
       "    </tr>\n",
       "    <tr>\n",
       "      <th>6487</th>\n",
       "      <td>41700402</td>\n",
       "      <td>NaN</td>\n",
       "      <td>NaN</td>\n",
       "      <td>NaN</td>\n",
       "      <td>NaN</td>\n",
       "      <td>NaN</td>\n",
       "      <td>NaN</td>\n",
       "    </tr>\n",
       "    <tr>\n",
       "      <th>6488</th>\n",
       "      <td>41700403</td>\n",
       "      <td>NaN</td>\n",
       "      <td>NaN</td>\n",
       "      <td>NaN</td>\n",
       "      <td>NaN</td>\n",
       "      <td>NaN</td>\n",
       "      <td>NaN</td>\n",
       "    </tr>\n",
       "    <tr>\n",
       "      <th>6489</th>\n",
       "      <td>41700404</td>\n",
       "      <td>NaN</td>\n",
       "      <td>NaN</td>\n",
       "      <td>NaN</td>\n",
       "      <td>NaN</td>\n",
       "      <td>NaN</td>\n",
       "      <td>NaN</td>\n",
       "    </tr>\n",
       "  </tbody>\n",
       "</table>\n",
       "<p>6490 rows × 7 columns</p>\n",
       "</div>"
      ],
      "text/plain": [
       "       game_id book_name  book_id       team_id     a_team_id  price1  price2\n",
       "0     21100001    5Dimes     19.0  1.610613e+09  1.610613e+09   155.0  -130.0\n",
       "1     21100002       NaN      NaN  1.610613e+09           NaN     NaN     NaN\n",
       "2     21100003       NaN      NaN           NaN           NaN     NaN     NaN\n",
       "3     21100004       NaN      NaN           NaN           NaN     NaN     NaN\n",
       "4     21100005       NaN      NaN           NaN           NaN     NaN     NaN\n",
       "...        ...       ...      ...           ...           ...     ...     ...\n",
       "6485  41700317       NaN      NaN           NaN           NaN     NaN     NaN\n",
       "6486  41700401       NaN      NaN           NaN           NaN     NaN     NaN\n",
       "6487  41700402       NaN      NaN           NaN           NaN     NaN     NaN\n",
       "6488  41700403       NaN      NaN           NaN           NaN     NaN     NaN\n",
       "6489  41700404       NaN      NaN           NaN           NaN     NaN     NaN\n",
       "\n",
       "[6490 rows x 7 columns]"
      ]
     },
     "execution_count": 79,
     "metadata": {},
     "output_type": "execute_result"
    }
   ],
   "source": [
    "df.mode()"
   ]
  },
  {
   "cell_type": "code",
   "execution_count": null,
   "metadata": {},
   "outputs": [],
   "source": []
  },
  {
   "cell_type": "code",
   "execution_count": null,
   "metadata": {},
   "outputs": [],
   "source": []
  },
  {
   "cell_type": "code",
   "execution_count": 70,
   "metadata": {},
   "outputs": [
    {
     "data": {
      "text/plain": [
       "game_id      14906\n",
       "book_name       10\n",
       "book_id         10\n",
       "team_id         30\n",
       "a_team_id       30\n",
       "price1        1531\n",
       "price2        1612\n",
       "dtype: int64"
      ]
     },
     "execution_count": 70,
     "metadata": {},
     "output_type": "execute_result"
    }
   ],
   "source": [
    "df.nunique()"
   ]
  },
  {
   "cell_type": "code",
   "execution_count": null,
   "metadata": {},
   "outputs": [],
   "source": []
  },
  {
   "cell_type": "code",
   "execution_count": null,
   "metadata": {},
   "outputs": [],
   "source": []
  },
  {
   "cell_type": "code",
   "execution_count": 71,
   "metadata": {},
   "outputs": [],
   "source": [
    "#percentage of game id's unique"
   ]
  },
  {
   "cell_type": "code",
   "execution_count": 72,
   "metadata": {},
   "outputs": [
    {
     "data": {
      "text/plain": [
       "877002"
      ]
     },
     "execution_count": 72,
     "metadata": {},
     "output_type": "execute_result"
    }
   ],
   "source": [
    "df.size"
   ]
  },
  {
   "cell_type": "code",
   "execution_count": 73,
   "metadata": {},
   "outputs": [
    {
     "data": {
      "text/plain": [
       "125286"
      ]
     },
     "execution_count": 73,
     "metadata": {},
     "output_type": "execute_result"
    }
   ],
   "source": [
    "df.iloc[:,0].size"
   ]
  },
  {
   "cell_type": "code",
   "execution_count": 74,
   "metadata": {},
   "outputs": [
    {
     "data": {
      "text/html": [
       "<div>\n",
       "<style scoped>\n",
       "    .dataframe tbody tr th:only-of-type {\n",
       "        vertical-align: middle;\n",
       "    }\n",
       "\n",
       "    .dataframe tbody tr th {\n",
       "        vertical-align: top;\n",
       "    }\n",
       "\n",
       "    .dataframe thead th {\n",
       "        text-align: right;\n",
       "    }\n",
       "</style>\n",
       "<table border=\"1\" class=\"dataframe\">\n",
       "  <thead>\n",
       "    <tr style=\"text-align: right;\">\n",
       "      <th></th>\n",
       "      <th>game_id</th>\n",
       "      <th>book_name</th>\n",
       "      <th>book_id</th>\n",
       "      <th>team_id</th>\n",
       "      <th>a_team_id</th>\n",
       "      <th>price1</th>\n",
       "      <th>price2</th>\n",
       "    </tr>\n",
       "  </thead>\n",
       "  <tbody>\n",
       "    <tr>\n",
       "      <th>0</th>\n",
       "      <td>41100314</td>\n",
       "      <td>Pinnacle Sports</td>\n",
       "      <td>238</td>\n",
       "      <td>1610612759</td>\n",
       "      <td>1610612760</td>\n",
       "      <td>165.0</td>\n",
       "      <td>-183.0</td>\n",
       "    </tr>\n",
       "    <tr>\n",
       "      <th>1</th>\n",
       "      <td>41100314</td>\n",
       "      <td>5Dimes</td>\n",
       "      <td>19</td>\n",
       "      <td>1610612759</td>\n",
       "      <td>1610612760</td>\n",
       "      <td>165.0</td>\n",
       "      <td>-175.0</td>\n",
       "    </tr>\n",
       "    <tr>\n",
       "      <th>2</th>\n",
       "      <td>41100314</td>\n",
       "      <td>Bookmaker</td>\n",
       "      <td>93</td>\n",
       "      <td>1610612759</td>\n",
       "      <td>1610612760</td>\n",
       "      <td>160.0</td>\n",
       "      <td>-190.0</td>\n",
       "    </tr>\n",
       "    <tr>\n",
       "      <th>3</th>\n",
       "      <td>41100314</td>\n",
       "      <td>BetOnline</td>\n",
       "      <td>1096</td>\n",
       "      <td>1610612759</td>\n",
       "      <td>1610612760</td>\n",
       "      <td>165.0</td>\n",
       "      <td>-190.0</td>\n",
       "    </tr>\n",
       "    <tr>\n",
       "      <th>4</th>\n",
       "      <td>41100314</td>\n",
       "      <td>Bovada</td>\n",
       "      <td>999996</td>\n",
       "      <td>1610612759</td>\n",
       "      <td>1610612760</td>\n",
       "      <td>155.0</td>\n",
       "      <td>-175.0</td>\n",
       "    </tr>\n",
       "    <tr>\n",
       "      <th>...</th>\n",
       "      <td>...</td>\n",
       "      <td>...</td>\n",
       "      <td>...</td>\n",
       "      <td>...</td>\n",
       "      <td>...</td>\n",
       "      <td>...</td>\n",
       "      <td>...</td>\n",
       "    </tr>\n",
       "    <tr>\n",
       "      <th>125281</th>\n",
       "      <td>41700215</td>\n",
       "      <td>Heritage</td>\n",
       "      <td>169</td>\n",
       "      <td>1610612755</td>\n",
       "      <td>1610612738</td>\n",
       "      <td>105.0</td>\n",
       "      <td>-125.0</td>\n",
       "    </tr>\n",
       "    <tr>\n",
       "      <th>125282</th>\n",
       "      <td>41700215</td>\n",
       "      <td>Intertops</td>\n",
       "      <td>180</td>\n",
       "      <td>1610612755</td>\n",
       "      <td>1610612738</td>\n",
       "      <td>100.0</td>\n",
       "      <td>-120.0</td>\n",
       "    </tr>\n",
       "    <tr>\n",
       "      <th>125283</th>\n",
       "      <td>41700215</td>\n",
       "      <td>YouWager</td>\n",
       "      <td>139</td>\n",
       "      <td>1610612755</td>\n",
       "      <td>1610612738</td>\n",
       "      <td>105.0</td>\n",
       "      <td>-125.0</td>\n",
       "    </tr>\n",
       "    <tr>\n",
       "      <th>125284</th>\n",
       "      <td>41700215</td>\n",
       "      <td>JustBet</td>\n",
       "      <td>1275</td>\n",
       "      <td>1610612755</td>\n",
       "      <td>1610612738</td>\n",
       "      <td>100.0</td>\n",
       "      <td>-120.0</td>\n",
       "    </tr>\n",
       "    <tr>\n",
       "      <th>125285</th>\n",
       "      <td>41700215</td>\n",
       "      <td>Sportsbetting</td>\n",
       "      <td>999991</td>\n",
       "      <td>1610612755</td>\n",
       "      <td>1610612738</td>\n",
       "      <td>105.0</td>\n",
       "      <td>-125.0</td>\n",
       "    </tr>\n",
       "  </tbody>\n",
       "</table>\n",
       "<p>125286 rows × 7 columns</p>\n",
       "</div>"
      ],
      "text/plain": [
       "         game_id        book_name  book_id     team_id   a_team_id  price1  \\\n",
       "0       41100314  Pinnacle Sports      238  1610612759  1610612760   165.0   \n",
       "1       41100314           5Dimes       19  1610612759  1610612760   165.0   \n",
       "2       41100314        Bookmaker       93  1610612759  1610612760   160.0   \n",
       "3       41100314        BetOnline     1096  1610612759  1610612760   165.0   \n",
       "4       41100314           Bovada   999996  1610612759  1610612760   155.0   \n",
       "...          ...              ...      ...         ...         ...     ...   \n",
       "125281  41700215         Heritage      169  1610612755  1610612738   105.0   \n",
       "125282  41700215        Intertops      180  1610612755  1610612738   100.0   \n",
       "125283  41700215         YouWager      139  1610612755  1610612738   105.0   \n",
       "125284  41700215          JustBet     1275  1610612755  1610612738   100.0   \n",
       "125285  41700215    Sportsbetting   999991  1610612755  1610612738   105.0   \n",
       "\n",
       "        price2  \n",
       "0       -183.0  \n",
       "1       -175.0  \n",
       "2       -190.0  \n",
       "3       -190.0  \n",
       "4       -175.0  \n",
       "...        ...  \n",
       "125281  -125.0  \n",
       "125282  -120.0  \n",
       "125283  -125.0  \n",
       "125284  -120.0  \n",
       "125285  -125.0  \n",
       "\n",
       "[125286 rows x 7 columns]"
      ]
     },
     "execution_count": 74,
     "metadata": {},
     "output_type": "execute_result"
    }
   ],
   "source": [
    "df"
   ]
  },
  {
   "cell_type": "code",
   "execution_count": 75,
   "metadata": {},
   "outputs": [
    {
     "data": {
      "text/plain": [
       "0         41100314\n",
       "1         41100314\n",
       "2         41100314\n",
       "3         41100314\n",
       "4         41100314\n",
       "            ...   \n",
       "125281    41700215\n",
       "125282    41700215\n",
       "125283    41700215\n",
       "125284    41700215\n",
       "125285    41700215\n",
       "Name: game_id, Length: 125286, dtype: int64"
      ]
     },
     "execution_count": 75,
     "metadata": {},
     "output_type": "execute_result"
    }
   ],
   "source": [
    "df.iloc[:,0]"
   ]
  },
  {
   "cell_type": "code",
   "execution_count": 76,
   "metadata": {},
   "outputs": [
    {
     "data": {
      "text/plain": [
       "0.1189757834075635"
      ]
     },
     "execution_count": 76,
     "metadata": {},
     "output_type": "execute_result"
    }
   ],
   "source": [
    "df.iloc[:,0].unique().size / df.iloc[:,0].size"
   ]
  },
  {
   "cell_type": "code",
   "execution_count": null,
   "metadata": {},
   "outputs": [],
   "source": []
  },
  {
   "cell_type": "code",
   "execution_count": null,
   "metadata": {},
   "outputs": [],
   "source": []
  },
  {
   "cell_type": "code",
   "execution_count": null,
   "metadata": {},
   "outputs": [],
   "source": [
    "#data cleaning -ok"
   ]
  },
  {
   "cell_type": "code",
   "execution_count": 88,
   "metadata": {},
   "outputs": [
    {
     "data": {
      "text/plain": [
       "False"
      ]
     },
     "execution_count": 88,
     "metadata": {},
     "output_type": "execute_result"
    }
   ],
   "source": [
    "df.iloc[:,0].is_unique"
   ]
  },
  {
   "cell_type": "code",
   "execution_count": 89,
   "metadata": {},
   "outputs": [
    {
     "data": {
      "text/plain": [
       "True"
      ]
     },
     "execution_count": 89,
     "metadata": {},
     "output_type": "execute_result"
    }
   ],
   "source": [
    "df.index.is_unique"
   ]
  },
  {
   "cell_type": "code",
   "execution_count": null,
   "metadata": {},
   "outputs": [],
   "source": [
    "#data cleaning actual"
   ]
  },
  {
   "cell_type": "code",
   "execution_count": null,
   "metadata": {},
   "outputs": [],
   "source": [
    "df['book_name_id'] = df['book_name'] + ' ' + df['book_id'].astype(str)\n",
    "df['book_name_id']"
   ]
  },
  {
   "cell_type": "code",
   "execution_count": null,
   "metadata": {},
   "outputs": [],
   "source": []
  },
  {
   "cell_type": "code",
   "execution_count": 90,
   "metadata": {},
   "outputs": [
    {
     "data": {
      "text/plain": [
       "False"
      ]
     },
     "execution_count": 90,
     "metadata": {},
     "output_type": "execute_result"
    }
   ],
   "source": [
    "df.isnull().values.any()"
   ]
  },
  {
   "cell_type": "code",
   "execution_count": 99,
   "metadata": {},
   "outputs": [
    {
     "data": {
      "text/plain": [
       "False"
      ]
     },
     "execution_count": 99,
     "metadata": {},
     "output_type": "execute_result"
    }
   ],
   "source": [
    "df.iloc[:,0:2].duplicated().values.any()"
   ]
  },
  {
   "cell_type": "code",
   "execution_count": 100,
   "metadata": {},
   "outputs": [
    {
     "data": {
      "text/html": [
       "<div>\n",
       "<style scoped>\n",
       "    .dataframe tbody tr th:only-of-type {\n",
       "        vertical-align: middle;\n",
       "    }\n",
       "\n",
       "    .dataframe tbody tr th {\n",
       "        vertical-align: top;\n",
       "    }\n",
       "\n",
       "    .dataframe thead th {\n",
       "        text-align: right;\n",
       "    }\n",
       "</style>\n",
       "<table border=\"1\" class=\"dataframe\">\n",
       "  <thead>\n",
       "    <tr style=\"text-align: right;\">\n",
       "      <th></th>\n",
       "      <th>game_id</th>\n",
       "      <th>book_name</th>\n",
       "    </tr>\n",
       "  </thead>\n",
       "  <tbody>\n",
       "    <tr>\n",
       "      <th>0</th>\n",
       "      <td>41100314</td>\n",
       "      <td>Pinnacle Sports</td>\n",
       "    </tr>\n",
       "    <tr>\n",
       "      <th>1</th>\n",
       "      <td>41100314</td>\n",
       "      <td>5Dimes</td>\n",
       "    </tr>\n",
       "    <tr>\n",
       "      <th>2</th>\n",
       "      <td>41100314</td>\n",
       "      <td>Bookmaker</td>\n",
       "    </tr>\n",
       "    <tr>\n",
       "      <th>3</th>\n",
       "      <td>41100314</td>\n",
       "      <td>BetOnline</td>\n",
       "    </tr>\n",
       "    <tr>\n",
       "      <th>4</th>\n",
       "      <td>41100314</td>\n",
       "      <td>Bovada</td>\n",
       "    </tr>\n",
       "    <tr>\n",
       "      <th>...</th>\n",
       "      <td>...</td>\n",
       "      <td>...</td>\n",
       "    </tr>\n",
       "    <tr>\n",
       "      <th>125281</th>\n",
       "      <td>41700215</td>\n",
       "      <td>Heritage</td>\n",
       "    </tr>\n",
       "    <tr>\n",
       "      <th>125282</th>\n",
       "      <td>41700215</td>\n",
       "      <td>Intertops</td>\n",
       "    </tr>\n",
       "    <tr>\n",
       "      <th>125283</th>\n",
       "      <td>41700215</td>\n",
       "      <td>YouWager</td>\n",
       "    </tr>\n",
       "    <tr>\n",
       "      <th>125284</th>\n",
       "      <td>41700215</td>\n",
       "      <td>JustBet</td>\n",
       "    </tr>\n",
       "    <tr>\n",
       "      <th>125285</th>\n",
       "      <td>41700215</td>\n",
       "      <td>Sportsbetting</td>\n",
       "    </tr>\n",
       "  </tbody>\n",
       "</table>\n",
       "<p>125286 rows × 2 columns</p>\n",
       "</div>"
      ],
      "text/plain": [
       "         game_id        book_name\n",
       "0       41100314  Pinnacle Sports\n",
       "1       41100314           5Dimes\n",
       "2       41100314        Bookmaker\n",
       "3       41100314        BetOnline\n",
       "4       41100314           Bovada\n",
       "...          ...              ...\n",
       "125281  41700215         Heritage\n",
       "125282  41700215        Intertops\n",
       "125283  41700215         YouWager\n",
       "125284  41700215          JustBet\n",
       "125285  41700215    Sportsbetting\n",
       "\n",
       "[125286 rows x 2 columns]"
      ]
     },
     "execution_count": 100,
     "metadata": {},
     "output_type": "execute_result"
    }
   ],
   "source": [
    "df.iloc[:,0:2]"
   ]
  },
  {
   "cell_type": "code",
   "execution_count": null,
   "metadata": {},
   "outputs": [],
   "source": []
  },
  {
   "cell_type": "code",
   "execution_count": 119,
   "metadata": {},
   "outputs": [
    {
     "data": {
      "text/html": [
       "<div>\n",
       "<style scoped>\n",
       "    .dataframe tbody tr th:only-of-type {\n",
       "        vertical-align: middle;\n",
       "    }\n",
       "\n",
       "    .dataframe tbody tr th {\n",
       "        vertical-align: top;\n",
       "    }\n",
       "\n",
       "    .dataframe thead th {\n",
       "        text-align: right;\n",
       "    }\n",
       "</style>\n",
       "<table border=\"1\" class=\"dataframe\">\n",
       "  <thead>\n",
       "    <tr style=\"text-align: right;\">\n",
       "      <th></th>\n",
       "      <th>game_id</th>\n",
       "      <th>book_name</th>\n",
       "      <th>price1</th>\n",
       "      <th>price2</th>\n",
       "    </tr>\n",
       "  </thead>\n",
       "  <tbody>\n",
       "    <tr>\n",
       "      <th>0</th>\n",
       "      <td>41100314</td>\n",
       "      <td>Pinnacle Sports</td>\n",
       "      <td>165.0</td>\n",
       "      <td>-183.0</td>\n",
       "    </tr>\n",
       "    <tr>\n",
       "      <th>1</th>\n",
       "      <td>41100314</td>\n",
       "      <td>5Dimes</td>\n",
       "      <td>165.0</td>\n",
       "      <td>-175.0</td>\n",
       "    </tr>\n",
       "    <tr>\n",
       "      <th>2</th>\n",
       "      <td>41100314</td>\n",
       "      <td>Bookmaker</td>\n",
       "      <td>160.0</td>\n",
       "      <td>-190.0</td>\n",
       "    </tr>\n",
       "    <tr>\n",
       "      <th>3</th>\n",
       "      <td>41100314</td>\n",
       "      <td>BetOnline</td>\n",
       "      <td>165.0</td>\n",
       "      <td>-190.0</td>\n",
       "    </tr>\n",
       "    <tr>\n",
       "      <th>4</th>\n",
       "      <td>41100314</td>\n",
       "      <td>Bovada</td>\n",
       "      <td>155.0</td>\n",
       "      <td>-175.0</td>\n",
       "    </tr>\n",
       "    <tr>\n",
       "      <th>...</th>\n",
       "      <td>...</td>\n",
       "      <td>...</td>\n",
       "      <td>...</td>\n",
       "      <td>...</td>\n",
       "    </tr>\n",
       "    <tr>\n",
       "      <th>125281</th>\n",
       "      <td>41700215</td>\n",
       "      <td>Heritage</td>\n",
       "      <td>105.0</td>\n",
       "      <td>-125.0</td>\n",
       "    </tr>\n",
       "    <tr>\n",
       "      <th>125282</th>\n",
       "      <td>41700215</td>\n",
       "      <td>Intertops</td>\n",
       "      <td>100.0</td>\n",
       "      <td>-120.0</td>\n",
       "    </tr>\n",
       "    <tr>\n",
       "      <th>125283</th>\n",
       "      <td>41700215</td>\n",
       "      <td>YouWager</td>\n",
       "      <td>105.0</td>\n",
       "      <td>-125.0</td>\n",
       "    </tr>\n",
       "    <tr>\n",
       "      <th>125284</th>\n",
       "      <td>41700215</td>\n",
       "      <td>JustBet</td>\n",
       "      <td>100.0</td>\n",
       "      <td>-120.0</td>\n",
       "    </tr>\n",
       "    <tr>\n",
       "      <th>125285</th>\n",
       "      <td>41700215</td>\n",
       "      <td>Sportsbetting</td>\n",
       "      <td>105.0</td>\n",
       "      <td>-125.0</td>\n",
       "    </tr>\n",
       "  </tbody>\n",
       "</table>\n",
       "<p>125286 rows × 4 columns</p>\n",
       "</div>"
      ],
      "text/plain": [
       "         game_id        book_name  price1  price2\n",
       "0       41100314  Pinnacle Sports   165.0  -183.0\n",
       "1       41100314           5Dimes   165.0  -175.0\n",
       "2       41100314        Bookmaker   160.0  -190.0\n",
       "3       41100314        BetOnline   165.0  -190.0\n",
       "4       41100314           Bovada   155.0  -175.0\n",
       "...          ...              ...     ...     ...\n",
       "125281  41700215         Heritage   105.0  -125.0\n",
       "125282  41700215        Intertops   100.0  -120.0\n",
       "125283  41700215         YouWager   105.0  -125.0\n",
       "125284  41700215          JustBet   100.0  -120.0\n",
       "125285  41700215    Sportsbetting   105.0  -125.0\n",
       "\n",
       "[125286 rows x 4 columns]"
      ]
     },
     "execution_count": 119,
     "metadata": {},
     "output_type": "execute_result"
    }
   ],
   "source": [
    "df.iloc[:,[0,1,5,6]]"
   ]
  },
  {
   "cell_type": "code",
   "execution_count": 120,
   "metadata": {},
   "outputs": [
    {
     "data": {
      "text/plain": [
       "False"
      ]
     },
     "execution_count": 120,
     "metadata": {},
     "output_type": "execute_result"
    }
   ],
   "source": [
    "df.iloc[:,[0,1,5,6]].duplicated().values.any()"
   ]
  },
  {
   "cell_type": "code",
   "execution_count": null,
   "metadata": {},
   "outputs": [],
   "source": []
  },
  {
   "cell_type": "code",
   "execution_count": null,
   "metadata": {},
   "outputs": [],
   "source": []
  },
  {
   "cell_type": "code",
   "execution_count": null,
   "metadata": {},
   "outputs": [],
   "source": []
  },
  {
   "cell_type": "code",
   "execution_count": null,
   "metadata": {},
   "outputs": [],
   "source": []
  },
  {
   "cell_type": "code",
   "execution_count": null,
   "metadata": {},
   "outputs": [],
   "source": []
  },
  {
   "cell_type": "code",
   "execution_count": null,
   "metadata": {},
   "outputs": [],
   "source": []
  }
 ],
 "metadata": {
  "kernelspec": {
   "display_name": "Python 3",
   "language": "python",
   "name": "python3"
  },
  "language_info": {
   "codemirror_mode": {
    "name": "ipython",
    "version": 3
   },
   "file_extension": ".py",
   "mimetype": "text/x-python",
   "name": "python",
   "nbconvert_exporter": "python",
   "pygments_lexer": "ipython3",
   "version": "3.7.6"
  }
 },
 "nbformat": 4,
 "nbformat_minor": 4
}
