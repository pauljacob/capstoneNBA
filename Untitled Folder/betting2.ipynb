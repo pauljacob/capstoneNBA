{
 "cells": [
  {
   "cell_type": "code",
   "execution_count": 1,
   "metadata": {},
   "outputs": [],
   "source": [
    "import pandas as pd"
   ]
  },
  {
   "cell_type": "code",
   "execution_count": 2,
   "metadata": {},
   "outputs": [],
   "source": [
    "pd.options.display.max_columns = 999\n",
    "pd.options.display.max_rows = 999\n"
   ]
  },
  {
   "cell_type": "code",
   "execution_count": 3,
   "metadata": {},
   "outputs": [],
   "source": [
    "pd.set_option(\"display.max_rows\", 999)\n",
    "pd.set_option(\"display.max_columns\", 999)"
   ]
  },
  {
   "cell_type": "code",
   "execution_count": 4,
   "metadata": {},
   "outputs": [],
   "source": [
    "pd.set_option(\"display.max_columns\", 9999)\n",
    "pd.set_option(\"display.max_rows\", 9999)"
   ]
  },
  {
   "cell_type": "code",
   "execution_count": null,
   "metadata": {},
   "outputs": [],
   "source": []
  },
  {
   "cell_type": "code",
   "execution_count": null,
   "metadata": {},
   "outputs": [],
   "source": []
  },
  {
   "cell_type": "code",
   "execution_count": 5,
   "metadata": {},
   "outputs": [],
   "source": [
    "df = pd.read_csv('nba_betting_spread.csv')"
   ]
  },
  {
   "cell_type": "code",
   "execution_count": 6,
   "metadata": {
    "scrolled": true
   },
   "outputs": [
    {
     "data": {
      "text/html": [
       "<div>\n",
       "<style scoped>\n",
       "    .dataframe tbody tr th:only-of-type {\n",
       "        vertical-align: middle;\n",
       "    }\n",
       "\n",
       "    .dataframe tbody tr th {\n",
       "        vertical-align: top;\n",
       "    }\n",
       "\n",
       "    .dataframe thead th {\n",
       "        text-align: right;\n",
       "    }\n",
       "</style>\n",
       "<table border=\"1\" class=\"dataframe\">\n",
       "  <thead>\n",
       "    <tr style=\"text-align: right;\">\n",
       "      <th></th>\n",
       "      <th>game_id</th>\n",
       "      <th>book_name</th>\n",
       "      <th>book_id</th>\n",
       "      <th>team_id</th>\n",
       "      <th>a_team_id</th>\n",
       "      <th>spread1</th>\n",
       "      <th>spread2</th>\n",
       "      <th>price1</th>\n",
       "      <th>price2</th>\n",
       "    </tr>\n",
       "  </thead>\n",
       "  <tbody>\n",
       "    <tr>\n",
       "      <th>0</th>\n",
       "      <td>21000358</td>\n",
       "      <td>Pinnacle Sports</td>\n",
       "      <td>238</td>\n",
       "      <td>1610612749</td>\n",
       "      <td>1610612742</td>\n",
       "      <td>7.5</td>\n",
       "      <td>-7.5</td>\n",
       "      <td>-106.0</td>\n",
       "      <td>-104.0</td>\n",
       "    </tr>\n",
       "    <tr>\n",
       "      <th>1</th>\n",
       "      <td>21000358</td>\n",
       "      <td>5Dimes</td>\n",
       "      <td>19</td>\n",
       "      <td>1610612749</td>\n",
       "      <td>1610612742</td>\n",
       "      <td>7.5</td>\n",
       "      <td>-7.5</td>\n",
       "      <td>-110.0</td>\n",
       "      <td>-110.0</td>\n",
       "    </tr>\n",
       "    <tr>\n",
       "      <th>2</th>\n",
       "      <td>21000358</td>\n",
       "      <td>Bookmaker</td>\n",
       "      <td>93</td>\n",
       "      <td>1610612749</td>\n",
       "      <td>1610612742</td>\n",
       "      <td>7.5</td>\n",
       "      <td>-7.5</td>\n",
       "      <td>-110.0</td>\n",
       "      <td>-110.0</td>\n",
       "    </tr>\n",
       "    <tr>\n",
       "      <th>3</th>\n",
       "      <td>21000358</td>\n",
       "      <td>BetOnline</td>\n",
       "      <td>1096</td>\n",
       "      <td>1610612749</td>\n",
       "      <td>1610612742</td>\n",
       "      <td>7.5</td>\n",
       "      <td>-7.5</td>\n",
       "      <td>-110.0</td>\n",
       "      <td>-110.0</td>\n",
       "    </tr>\n",
       "    <tr>\n",
       "      <th>4</th>\n",
       "      <td>21000358</td>\n",
       "      <td>Bovada</td>\n",
       "      <td>999996</td>\n",
       "      <td>1610612749</td>\n",
       "      <td>1610612742</td>\n",
       "      <td>8.0</td>\n",
       "      <td>-8.0</td>\n",
       "      <td>-115.0</td>\n",
       "      <td>-105.0</td>\n",
       "    </tr>\n",
       "    <tr>\n",
       "      <th>...</th>\n",
       "      <td>...</td>\n",
       "      <td>...</td>\n",
       "      <td>...</td>\n",
       "      <td>...</td>\n",
       "      <td>...</td>\n",
       "      <td>...</td>\n",
       "      <td>...</td>\n",
       "      <td>...</td>\n",
       "      <td>...</td>\n",
       "    </tr>\n",
       "    <tr>\n",
       "      <th>131685</th>\n",
       "      <td>21501153</td>\n",
       "      <td>BetOnline</td>\n",
       "      <td>1096</td>\n",
       "      <td>1610612738</td>\n",
       "      <td>1610612747</td>\n",
       "      <td>-9.0</td>\n",
       "      <td>9.0</td>\n",
       "      <td>-110.0</td>\n",
       "      <td>-110.0</td>\n",
       "    </tr>\n",
       "    <tr>\n",
       "      <th>131686</th>\n",
       "      <td>21501153</td>\n",
       "      <td>Bovada</td>\n",
       "      <td>999996</td>\n",
       "      <td>1610612738</td>\n",
       "      <td>1610612747</td>\n",
       "      <td>-9.5</td>\n",
       "      <td>9.5</td>\n",
       "      <td>-110.0</td>\n",
       "      <td>-110.0</td>\n",
       "    </tr>\n",
       "    <tr>\n",
       "      <th>131687</th>\n",
       "      <td>21501153</td>\n",
       "      <td>Heritage</td>\n",
       "      <td>169</td>\n",
       "      <td>1610612738</td>\n",
       "      <td>1610612747</td>\n",
       "      <td>-9.5</td>\n",
       "      <td>9.5</td>\n",
       "      <td>-105.0</td>\n",
       "      <td>-105.0</td>\n",
       "    </tr>\n",
       "    <tr>\n",
       "      <th>131688</th>\n",
       "      <td>21501153</td>\n",
       "      <td>Intertops</td>\n",
       "      <td>180</td>\n",
       "      <td>1610612738</td>\n",
       "      <td>1610612747</td>\n",
       "      <td>-9.5</td>\n",
       "      <td>9.5</td>\n",
       "      <td>-110.0</td>\n",
       "      <td>-110.0</td>\n",
       "    </tr>\n",
       "    <tr>\n",
       "      <th>131689</th>\n",
       "      <td>21501153</td>\n",
       "      <td>YouWager</td>\n",
       "      <td>139</td>\n",
       "      <td>1610612738</td>\n",
       "      <td>1610612747</td>\n",
       "      <td>-9.0</td>\n",
       "      <td>9.0</td>\n",
       "      <td>-110.0</td>\n",
       "      <td>-110.0</td>\n",
       "    </tr>\n",
       "  </tbody>\n",
       "</table>\n",
       "<p>131690 rows × 9 columns</p>\n",
       "</div>"
      ],
      "text/plain": [
       "         game_id        book_name  book_id     team_id   a_team_id  spread1  \\\n",
       "0       21000358  Pinnacle Sports      238  1610612749  1610612742      7.5   \n",
       "1       21000358           5Dimes       19  1610612749  1610612742      7.5   \n",
       "2       21000358        Bookmaker       93  1610612749  1610612742      7.5   \n",
       "3       21000358        BetOnline     1096  1610612749  1610612742      7.5   \n",
       "4       21000358           Bovada   999996  1610612749  1610612742      8.0   \n",
       "...          ...              ...      ...         ...         ...      ...   \n",
       "131685  21501153        BetOnline     1096  1610612738  1610612747     -9.0   \n",
       "131686  21501153           Bovada   999996  1610612738  1610612747     -9.5   \n",
       "131687  21501153         Heritage      169  1610612738  1610612747     -9.5   \n",
       "131688  21501153        Intertops      180  1610612738  1610612747     -9.5   \n",
       "131689  21501153         YouWager      139  1610612738  1610612747     -9.0   \n",
       "\n",
       "        spread2  price1  price2  \n",
       "0          -7.5  -106.0  -104.0  \n",
       "1          -7.5  -110.0  -110.0  \n",
       "2          -7.5  -110.0  -110.0  \n",
       "3          -7.5  -110.0  -110.0  \n",
       "4          -8.0  -115.0  -105.0  \n",
       "...         ...     ...     ...  \n",
       "131685      9.0  -110.0  -110.0  \n",
       "131686      9.5  -110.0  -110.0  \n",
       "131687      9.5  -105.0  -105.0  \n",
       "131688      9.5  -110.0  -110.0  \n",
       "131689      9.0  -110.0  -110.0  \n",
       "\n",
       "[131690 rows x 9 columns]"
      ]
     },
     "execution_count": 6,
     "metadata": {},
     "output_type": "execute_result"
    }
   ],
   "source": [
    "df"
   ]
  },
  {
   "cell_type": "code",
   "execution_count": 7,
   "metadata": {},
   "outputs": [],
   "source": [
    "#df.describe()"
   ]
  },
  {
   "cell_type": "code",
   "execution_count": 8,
   "metadata": {
    "scrolled": true
   },
   "outputs": [
    {
     "data": {
      "text/html": [
       "<div>\n",
       "<style scoped>\n",
       "    .dataframe tbody tr th:only-of-type {\n",
       "        vertical-align: middle;\n",
       "    }\n",
       "\n",
       "    .dataframe tbody tr th {\n",
       "        vertical-align: top;\n",
       "    }\n",
       "\n",
       "    .dataframe thead th {\n",
       "        text-align: right;\n",
       "    }\n",
       "</style>\n",
       "<table border=\"1\" class=\"dataframe\">\n",
       "  <thead>\n",
       "    <tr style=\"text-align: right;\">\n",
       "      <th></th>\n",
       "      <th>game_id</th>\n",
       "      <th>book_name</th>\n",
       "      <th>book_id</th>\n",
       "      <th>team_id</th>\n",
       "      <th>a_team_id</th>\n",
       "      <th>spread1</th>\n",
       "      <th>spread2</th>\n",
       "      <th>price1</th>\n",
       "      <th>price2</th>\n",
       "    </tr>\n",
       "  </thead>\n",
       "  <tbody>\n",
       "    <tr>\n",
       "      <th>0</th>\n",
       "      <td>21000358</td>\n",
       "      <td>Pinnacle Sports</td>\n",
       "      <td>238</td>\n",
       "      <td>1610612749</td>\n",
       "      <td>1610612742</td>\n",
       "      <td>7.5</td>\n",
       "      <td>-7.5</td>\n",
       "      <td>-106.0</td>\n",
       "      <td>-104.0</td>\n",
       "    </tr>\n",
       "    <tr>\n",
       "      <th>9</th>\n",
       "      <td>21000361</td>\n",
       "      <td>Pinnacle Sports</td>\n",
       "      <td>238</td>\n",
       "      <td>1610612755</td>\n",
       "      <td>1610612751</td>\n",
       "      <td>-1.5</td>\n",
       "      <td>1.5</td>\n",
       "      <td>-102.0</td>\n",
       "      <td>-108.0</td>\n",
       "    </tr>\n",
       "    <tr>\n",
       "      <th>18</th>\n",
       "      <td>21000362</td>\n",
       "      <td>Pinnacle Sports</td>\n",
       "      <td>238</td>\n",
       "      <td>1610612747</td>\n",
       "      <td>1610612764</td>\n",
       "      <td>-10.5</td>\n",
       "      <td>10.5</td>\n",
       "      <td>102.0</td>\n",
       "      <td>-112.0</td>\n",
       "    </tr>\n",
       "    <tr>\n",
       "      <th>27</th>\n",
       "      <td>21000367</td>\n",
       "      <td>Pinnacle Sports</td>\n",
       "      <td>238</td>\n",
       "      <td>1610612747</td>\n",
       "      <td>1610612754</td>\n",
       "      <td>-3.5</td>\n",
       "      <td>3.5</td>\n",
       "      <td>-110.0</td>\n",
       "      <td>100.0</td>\n",
       "    </tr>\n",
       "    <tr>\n",
       "      <th>36</th>\n",
       "      <td>21000372</td>\n",
       "      <td>Pinnacle Sports</td>\n",
       "      <td>238</td>\n",
       "      <td>1610612766</td>\n",
       "      <td>1610612763</td>\n",
       "      <td>8.5</td>\n",
       "      <td>-8.5</td>\n",
       "      <td>-108.0</td>\n",
       "      <td>-102.0</td>\n",
       "    </tr>\n",
       "    <tr>\n",
       "      <th>...</th>\n",
       "      <td>...</td>\n",
       "      <td>...</td>\n",
       "      <td>...</td>\n",
       "      <td>...</td>\n",
       "      <td>...</td>\n",
       "      <td>...</td>\n",
       "      <td>...</td>\n",
       "      <td>...</td>\n",
       "      <td>...</td>\n",
       "    </tr>\n",
       "    <tr>\n",
       "      <th>131642</th>\n",
       "      <td>21501139</td>\n",
       "      <td>Pinnacle Sports</td>\n",
       "      <td>238</td>\n",
       "      <td>1610612765</td>\n",
       "      <td>1610612741</td>\n",
       "      <td>3.0</td>\n",
       "      <td>-3.0</td>\n",
       "      <td>-106.0</td>\n",
       "      <td>-104.0</td>\n",
       "    </tr>\n",
       "    <tr>\n",
       "      <th>131652</th>\n",
       "      <td>21501150</td>\n",
       "      <td>Pinnacle Sports</td>\n",
       "      <td>238</td>\n",
       "      <td>1610612741</td>\n",
       "      <td>1610612749</td>\n",
       "      <td>-1.0</td>\n",
       "      <td>1.0</td>\n",
       "      <td>100.0</td>\n",
       "      <td>-110.0</td>\n",
       "    </tr>\n",
       "    <tr>\n",
       "      <th>131662</th>\n",
       "      <td>21501151</td>\n",
       "      <td>Pinnacle Sports</td>\n",
       "      <td>238</td>\n",
       "      <td>1610612754</td>\n",
       "      <td>1610612752</td>\n",
       "      <td>-7.0</td>\n",
       "      <td>7.0</td>\n",
       "      <td>100.0</td>\n",
       "      <td>-110.0</td>\n",
       "    </tr>\n",
       "    <tr>\n",
       "      <th>131672</th>\n",
       "      <td>21501152</td>\n",
       "      <td>Pinnacle Sports</td>\n",
       "      <td>238</td>\n",
       "      <td>1610612757</td>\n",
       "      <td>1610612744</td>\n",
       "      <td>11.5</td>\n",
       "      <td>-11.5</td>\n",
       "      <td>102.0</td>\n",
       "      <td>-113.0</td>\n",
       "    </tr>\n",
       "    <tr>\n",
       "      <th>131682</th>\n",
       "      <td>21501153</td>\n",
       "      <td>Pinnacle Sports</td>\n",
       "      <td>238</td>\n",
       "      <td>1610612738</td>\n",
       "      <td>1610612747</td>\n",
       "      <td>-9.5</td>\n",
       "      <td>9.5</td>\n",
       "      <td>-105.0</td>\n",
       "      <td>-105.0</td>\n",
       "    </tr>\n",
       "  </tbody>\n",
       "</table>\n",
       "<p>14894 rows × 9 columns</p>\n",
       "</div>"
      ],
      "text/plain": [
       "         game_id        book_name  book_id     team_id   a_team_id  spread1  \\\n",
       "0       21000358  Pinnacle Sports      238  1610612749  1610612742      7.5   \n",
       "9       21000361  Pinnacle Sports      238  1610612755  1610612751     -1.5   \n",
       "18      21000362  Pinnacle Sports      238  1610612747  1610612764    -10.5   \n",
       "27      21000367  Pinnacle Sports      238  1610612747  1610612754     -3.5   \n",
       "36      21000372  Pinnacle Sports      238  1610612766  1610612763      8.5   \n",
       "...          ...              ...      ...         ...         ...      ...   \n",
       "131642  21501139  Pinnacle Sports      238  1610612765  1610612741      3.0   \n",
       "131652  21501150  Pinnacle Sports      238  1610612741  1610612749     -1.0   \n",
       "131662  21501151  Pinnacle Sports      238  1610612754  1610612752     -7.0   \n",
       "131672  21501152  Pinnacle Sports      238  1610612757  1610612744     11.5   \n",
       "131682  21501153  Pinnacle Sports      238  1610612738  1610612747     -9.5   \n",
       "\n",
       "        spread2  price1  price2  \n",
       "0          -7.5  -106.0  -104.0  \n",
       "9           1.5  -102.0  -108.0  \n",
       "18         10.5   102.0  -112.0  \n",
       "27          3.5  -110.0   100.0  \n",
       "36         -8.5  -108.0  -102.0  \n",
       "...         ...     ...     ...  \n",
       "131642     -3.0  -106.0  -104.0  \n",
       "131652      1.0   100.0  -110.0  \n",
       "131662      7.0   100.0  -110.0  \n",
       "131672    -11.5   102.0  -113.0  \n",
       "131682      9.5  -105.0  -105.0  \n",
       "\n",
       "[14894 rows x 9 columns]"
      ]
     },
     "execution_count": 8,
     "metadata": {},
     "output_type": "execute_result"
    }
   ],
   "source": [
    "df[df['book_name'] == df.iloc[0]['book_name']]"
   ]
  },
  {
   "cell_type": "code",
   "execution_count": 9,
   "metadata": {},
   "outputs": [
    {
     "name": "stderr",
     "output_type": "stream",
     "text": [
      "C:\\Users\\Paul\\anaconda3\\lib\\site-packages\\ipykernel_launcher.py:2: UserWarning: Boolean Series key will be reindexed to match DataFrame index.\n",
      "  \n"
     ]
    },
    {
     "data": {
      "text/html": [
       "<div>\n",
       "<style scoped>\n",
       "    .dataframe tbody tr th:only-of-type {\n",
       "        vertical-align: middle;\n",
       "    }\n",
       "\n",
       "    .dataframe tbody tr th {\n",
       "        vertical-align: top;\n",
       "    }\n",
       "\n",
       "    .dataframe thead th {\n",
       "        text-align: right;\n",
       "    }\n",
       "</style>\n",
       "<table border=\"1\" class=\"dataframe\">\n",
       "  <thead>\n",
       "    <tr style=\"text-align: right;\">\n",
       "      <th></th>\n",
       "      <th>game_id</th>\n",
       "      <th>book_name</th>\n",
       "      <th>book_id</th>\n",
       "      <th>team_id</th>\n",
       "      <th>a_team_id</th>\n",
       "      <th>spread1</th>\n",
       "      <th>spread2</th>\n",
       "      <th>price1</th>\n",
       "      <th>price2</th>\n",
       "    </tr>\n",
       "  </thead>\n",
       "  <tbody>\n",
       "    <tr>\n",
       "      <th>0</th>\n",
       "      <td>21000358</td>\n",
       "      <td>Pinnacle Sports</td>\n",
       "      <td>238</td>\n",
       "      <td>1610612749</td>\n",
       "      <td>1610612742</td>\n",
       "      <td>7.5</td>\n",
       "      <td>-7.5</td>\n",
       "      <td>-106.0</td>\n",
       "      <td>-104.0</td>\n",
       "    </tr>\n",
       "    <tr>\n",
       "      <th>9</th>\n",
       "      <td>21000361</td>\n",
       "      <td>Pinnacle Sports</td>\n",
       "      <td>238</td>\n",
       "      <td>1610612755</td>\n",
       "      <td>1610612751</td>\n",
       "      <td>-1.5</td>\n",
       "      <td>1.5</td>\n",
       "      <td>-102.0</td>\n",
       "      <td>-108.0</td>\n",
       "    </tr>\n",
       "    <tr>\n",
       "      <th>18</th>\n",
       "      <td>21000362</td>\n",
       "      <td>Pinnacle Sports</td>\n",
       "      <td>238</td>\n",
       "      <td>1610612747</td>\n",
       "      <td>1610612764</td>\n",
       "      <td>-10.5</td>\n",
       "      <td>10.5</td>\n",
       "      <td>102.0</td>\n",
       "      <td>-112.0</td>\n",
       "    </tr>\n",
       "    <tr>\n",
       "      <th>27</th>\n",
       "      <td>21000367</td>\n",
       "      <td>Pinnacle Sports</td>\n",
       "      <td>238</td>\n",
       "      <td>1610612747</td>\n",
       "      <td>1610612754</td>\n",
       "      <td>-3.5</td>\n",
       "      <td>3.5</td>\n",
       "      <td>-110.0</td>\n",
       "      <td>100.0</td>\n",
       "    </tr>\n",
       "    <tr>\n",
       "      <th>36</th>\n",
       "      <td>21000372</td>\n",
       "      <td>Pinnacle Sports</td>\n",
       "      <td>238</td>\n",
       "      <td>1610612766</td>\n",
       "      <td>1610612763</td>\n",
       "      <td>8.5</td>\n",
       "      <td>-8.5</td>\n",
       "      <td>-108.0</td>\n",
       "      <td>-102.0</td>\n",
       "    </tr>\n",
       "    <tr>\n",
       "      <th>...</th>\n",
       "      <td>...</td>\n",
       "      <td>...</td>\n",
       "      <td>...</td>\n",
       "      <td>...</td>\n",
       "      <td>...</td>\n",
       "      <td>...</td>\n",
       "      <td>...</td>\n",
       "      <td>...</td>\n",
       "      <td>...</td>\n",
       "    </tr>\n",
       "    <tr>\n",
       "      <th>131642</th>\n",
       "      <td>21501139</td>\n",
       "      <td>Pinnacle Sports</td>\n",
       "      <td>238</td>\n",
       "      <td>1610612765</td>\n",
       "      <td>1610612741</td>\n",
       "      <td>3.0</td>\n",
       "      <td>-3.0</td>\n",
       "      <td>-106.0</td>\n",
       "      <td>-104.0</td>\n",
       "    </tr>\n",
       "    <tr>\n",
       "      <th>131652</th>\n",
       "      <td>21501150</td>\n",
       "      <td>Pinnacle Sports</td>\n",
       "      <td>238</td>\n",
       "      <td>1610612741</td>\n",
       "      <td>1610612749</td>\n",
       "      <td>-1.0</td>\n",
       "      <td>1.0</td>\n",
       "      <td>100.0</td>\n",
       "      <td>-110.0</td>\n",
       "    </tr>\n",
       "    <tr>\n",
       "      <th>131662</th>\n",
       "      <td>21501151</td>\n",
       "      <td>Pinnacle Sports</td>\n",
       "      <td>238</td>\n",
       "      <td>1610612754</td>\n",
       "      <td>1610612752</td>\n",
       "      <td>-7.0</td>\n",
       "      <td>7.0</td>\n",
       "      <td>100.0</td>\n",
       "      <td>-110.0</td>\n",
       "    </tr>\n",
       "    <tr>\n",
       "      <th>131672</th>\n",
       "      <td>21501152</td>\n",
       "      <td>Pinnacle Sports</td>\n",
       "      <td>238</td>\n",
       "      <td>1610612757</td>\n",
       "      <td>1610612744</td>\n",
       "      <td>11.5</td>\n",
       "      <td>-11.5</td>\n",
       "      <td>102.0</td>\n",
       "      <td>-113.0</td>\n",
       "    </tr>\n",
       "    <tr>\n",
       "      <th>131682</th>\n",
       "      <td>21501153</td>\n",
       "      <td>Pinnacle Sports</td>\n",
       "      <td>238</td>\n",
       "      <td>1610612738</td>\n",
       "      <td>1610612747</td>\n",
       "      <td>-9.5</td>\n",
       "      <td>9.5</td>\n",
       "      <td>-105.0</td>\n",
       "      <td>-105.0</td>\n",
       "    </tr>\n",
       "  </tbody>\n",
       "</table>\n",
       "<p>14894 rows × 9 columns</p>\n",
       "</div>"
      ],
      "text/plain": [
       "         game_id        book_name  book_id     team_id   a_team_id  spread1  \\\n",
       "0       21000358  Pinnacle Sports      238  1610612749  1610612742      7.5   \n",
       "9       21000361  Pinnacle Sports      238  1610612755  1610612751     -1.5   \n",
       "18      21000362  Pinnacle Sports      238  1610612747  1610612764    -10.5   \n",
       "27      21000367  Pinnacle Sports      238  1610612747  1610612754     -3.5   \n",
       "36      21000372  Pinnacle Sports      238  1610612766  1610612763      8.5   \n",
       "...          ...              ...      ...         ...         ...      ...   \n",
       "131642  21501139  Pinnacle Sports      238  1610612765  1610612741      3.0   \n",
       "131652  21501150  Pinnacle Sports      238  1610612741  1610612749     -1.0   \n",
       "131662  21501151  Pinnacle Sports      238  1610612754  1610612752     -7.0   \n",
       "131672  21501152  Pinnacle Sports      238  1610612757  1610612744     11.5   \n",
       "131682  21501153  Pinnacle Sports      238  1610612738  1610612747     -9.5   \n",
       "\n",
       "        spread2  price1  price2  \n",
       "0          -7.5  -106.0  -104.0  \n",
       "9           1.5  -102.0  -108.0  \n",
       "18         10.5   102.0  -112.0  \n",
       "27          3.5  -110.0   100.0  \n",
       "36         -8.5  -108.0  -102.0  \n",
       "...         ...     ...     ...  \n",
       "131642     -3.0  -106.0  -104.0  \n",
       "131652      1.0   100.0  -110.0  \n",
       "131662      7.0   100.0  -110.0  \n",
       "131672    -11.5   102.0  -113.0  \n",
       "131682      9.5  -105.0  -105.0  \n",
       "\n",
       "[14894 rows x 9 columns]"
      ]
     },
     "execution_count": 9,
     "metadata": {},
     "output_type": "execute_result"
    }
   ],
   "source": [
    "#df.iloc[0]['book_name']\n",
    "df[df['book_name'] == df.iloc[0]['book_name']][df['book_id'] == df.iloc[0]['book_id']]"
   ]
  },
  {
   "cell_type": "code",
   "execution_count": null,
   "metadata": {},
   "outputs": [],
   "source": []
  },
  {
   "cell_type": "code",
   "execution_count": 10,
   "metadata": {},
   "outputs": [
    {
     "data": {
      "text/plain": [
       "array(['Pinnacle Sports', '5Dimes', 'Bookmaker', 'BetOnline', 'Bovada',\n",
       "       'Intertops', 'YouWager', 'JustBet', 'Sportsbetting', 'Heritage'],\n",
       "      dtype=object)"
      ]
     },
     "execution_count": 10,
     "metadata": {},
     "output_type": "execute_result"
    }
   ],
   "source": [
    "book_names = df['book_name'].unique()\n",
    "book_names"
   ]
  },
  {
   "cell_type": "code",
   "execution_count": 11,
   "metadata": {},
   "outputs": [
    {
     "data": {
      "text/plain": [
       "10"
      ]
     },
     "execution_count": 11,
     "metadata": {},
     "output_type": "execute_result"
    }
   ],
   "source": [
    "df['book_name'].unique().size"
   ]
  },
  {
   "cell_type": "code",
   "execution_count": 12,
   "metadata": {},
   "outputs": [
    {
     "data": {
      "text/plain": [
       "1185210"
      ]
     },
     "execution_count": 12,
     "metadata": {},
     "output_type": "execute_result"
    }
   ],
   "source": [
    "df.size"
   ]
  },
  {
   "cell_type": "code",
   "execution_count": 13,
   "metadata": {},
   "outputs": [
    {
     "data": {
      "text/plain": [
       "877002"
      ]
     },
     "execution_count": 13,
     "metadata": {},
     "output_type": "execute_result"
    }
   ],
   "source": [
    "#14822 * 7\n",
    "125286 * 7"
   ]
  },
  {
   "cell_type": "code",
   "execution_count": 14,
   "metadata": {},
   "outputs": [],
   "source": [
    "#what's up with the difference in the two previous lines cells? -ok"
   ]
  },
  {
   "cell_type": "code",
   "execution_count": 15,
   "metadata": {},
   "outputs": [
    {
     "data": {
      "text/plain": [
       "game_id      0\n",
       "book_name    0\n",
       "book_id      0\n",
       "team_id      0\n",
       "a_team_id    0\n",
       "spread1      0\n",
       "spread2      0\n",
       "price1       0\n",
       "price2       0\n",
       "dtype: int64"
      ]
     },
     "execution_count": 15,
     "metadata": {},
     "output_type": "execute_result"
    }
   ],
   "source": [
    "df.isnull().sum()"
   ]
  },
  {
   "cell_type": "code",
   "execution_count": 16,
   "metadata": {},
   "outputs": [
    {
     "name": "stdout",
     "output_type": "stream",
     "text": [
      "Pinnacle Sports\n",
      "5Dimes\n",
      "Bookmaker\n",
      "BetOnline\n",
      "Bovada\n",
      "Intertops\n",
      "YouWager\n",
      "JustBet\n",
      "Sportsbetting\n",
      "Heritage\n"
     ]
    }
   ],
   "source": [
    "for i in book_names:\n",
    "    print(i)"
   ]
  },
  {
   "cell_type": "code",
   "execution_count": 17,
   "metadata": {},
   "outputs": [
    {
     "data": {
      "text/html": [
       "<div>\n",
       "<style scoped>\n",
       "    .dataframe tbody tr th:only-of-type {\n",
       "        vertical-align: middle;\n",
       "    }\n",
       "\n",
       "    .dataframe tbody tr th {\n",
       "        vertical-align: top;\n",
       "    }\n",
       "\n",
       "    .dataframe thead th {\n",
       "        text-align: right;\n",
       "    }\n",
       "</style>\n",
       "<table border=\"1\" class=\"dataframe\">\n",
       "  <thead>\n",
       "    <tr style=\"text-align: right;\">\n",
       "      <th></th>\n",
       "      <th>game_id</th>\n",
       "      <th>book_name</th>\n",
       "      <th>book_id</th>\n",
       "      <th>team_id</th>\n",
       "      <th>a_team_id</th>\n",
       "      <th>spread1</th>\n",
       "      <th>spread2</th>\n",
       "      <th>price1</th>\n",
       "      <th>price2</th>\n",
       "    </tr>\n",
       "  </thead>\n",
       "  <tbody>\n",
       "    <tr>\n",
       "      <th>0</th>\n",
       "      <td>21000358</td>\n",
       "      <td>Pinnacle Sports</td>\n",
       "      <td>238</td>\n",
       "      <td>1610612749</td>\n",
       "      <td>1610612742</td>\n",
       "      <td>7.5</td>\n",
       "      <td>-7.5</td>\n",
       "      <td>-106.0</td>\n",
       "      <td>-104.0</td>\n",
       "    </tr>\n",
       "    <tr>\n",
       "      <th>9</th>\n",
       "      <td>21000361</td>\n",
       "      <td>Pinnacle Sports</td>\n",
       "      <td>238</td>\n",
       "      <td>1610612755</td>\n",
       "      <td>1610612751</td>\n",
       "      <td>-1.5</td>\n",
       "      <td>1.5</td>\n",
       "      <td>-102.0</td>\n",
       "      <td>-108.0</td>\n",
       "    </tr>\n",
       "    <tr>\n",
       "      <th>18</th>\n",
       "      <td>21000362</td>\n",
       "      <td>Pinnacle Sports</td>\n",
       "      <td>238</td>\n",
       "      <td>1610612747</td>\n",
       "      <td>1610612764</td>\n",
       "      <td>-10.5</td>\n",
       "      <td>10.5</td>\n",
       "      <td>102.0</td>\n",
       "      <td>-112.0</td>\n",
       "    </tr>\n",
       "    <tr>\n",
       "      <th>27</th>\n",
       "      <td>21000367</td>\n",
       "      <td>Pinnacle Sports</td>\n",
       "      <td>238</td>\n",
       "      <td>1610612747</td>\n",
       "      <td>1610612754</td>\n",
       "      <td>-3.5</td>\n",
       "      <td>3.5</td>\n",
       "      <td>-110.0</td>\n",
       "      <td>100.0</td>\n",
       "    </tr>\n",
       "    <tr>\n",
       "      <th>36</th>\n",
       "      <td>21000372</td>\n",
       "      <td>Pinnacle Sports</td>\n",
       "      <td>238</td>\n",
       "      <td>1610612766</td>\n",
       "      <td>1610612763</td>\n",
       "      <td>8.5</td>\n",
       "      <td>-8.5</td>\n",
       "      <td>-108.0</td>\n",
       "      <td>-102.0</td>\n",
       "    </tr>\n",
       "    <tr>\n",
       "      <th>...</th>\n",
       "      <td>...</td>\n",
       "      <td>...</td>\n",
       "      <td>...</td>\n",
       "      <td>...</td>\n",
       "      <td>...</td>\n",
       "      <td>...</td>\n",
       "      <td>...</td>\n",
       "      <td>...</td>\n",
       "      <td>...</td>\n",
       "    </tr>\n",
       "    <tr>\n",
       "      <th>131642</th>\n",
       "      <td>21501139</td>\n",
       "      <td>Pinnacle Sports</td>\n",
       "      <td>238</td>\n",
       "      <td>1610612765</td>\n",
       "      <td>1610612741</td>\n",
       "      <td>3.0</td>\n",
       "      <td>-3.0</td>\n",
       "      <td>-106.0</td>\n",
       "      <td>-104.0</td>\n",
       "    </tr>\n",
       "    <tr>\n",
       "      <th>131652</th>\n",
       "      <td>21501150</td>\n",
       "      <td>Pinnacle Sports</td>\n",
       "      <td>238</td>\n",
       "      <td>1610612741</td>\n",
       "      <td>1610612749</td>\n",
       "      <td>-1.0</td>\n",
       "      <td>1.0</td>\n",
       "      <td>100.0</td>\n",
       "      <td>-110.0</td>\n",
       "    </tr>\n",
       "    <tr>\n",
       "      <th>131662</th>\n",
       "      <td>21501151</td>\n",
       "      <td>Pinnacle Sports</td>\n",
       "      <td>238</td>\n",
       "      <td>1610612754</td>\n",
       "      <td>1610612752</td>\n",
       "      <td>-7.0</td>\n",
       "      <td>7.0</td>\n",
       "      <td>100.0</td>\n",
       "      <td>-110.0</td>\n",
       "    </tr>\n",
       "    <tr>\n",
       "      <th>131672</th>\n",
       "      <td>21501152</td>\n",
       "      <td>Pinnacle Sports</td>\n",
       "      <td>238</td>\n",
       "      <td>1610612757</td>\n",
       "      <td>1610612744</td>\n",
       "      <td>11.5</td>\n",
       "      <td>-11.5</td>\n",
       "      <td>102.0</td>\n",
       "      <td>-113.0</td>\n",
       "    </tr>\n",
       "    <tr>\n",
       "      <th>131682</th>\n",
       "      <td>21501153</td>\n",
       "      <td>Pinnacle Sports</td>\n",
       "      <td>238</td>\n",
       "      <td>1610612738</td>\n",
       "      <td>1610612747</td>\n",
       "      <td>-9.5</td>\n",
       "      <td>9.5</td>\n",
       "      <td>-105.0</td>\n",
       "      <td>-105.0</td>\n",
       "    </tr>\n",
       "  </tbody>\n",
       "</table>\n",
       "<p>14894 rows × 9 columns</p>\n",
       "</div>"
      ],
      "text/plain": [
       "         game_id        book_name  book_id     team_id   a_team_id  spread1  \\\n",
       "0       21000358  Pinnacle Sports      238  1610612749  1610612742      7.5   \n",
       "9       21000361  Pinnacle Sports      238  1610612755  1610612751     -1.5   \n",
       "18      21000362  Pinnacle Sports      238  1610612747  1610612764    -10.5   \n",
       "27      21000367  Pinnacle Sports      238  1610612747  1610612754     -3.5   \n",
       "36      21000372  Pinnacle Sports      238  1610612766  1610612763      8.5   \n",
       "...          ...              ...      ...         ...         ...      ...   \n",
       "131642  21501139  Pinnacle Sports      238  1610612765  1610612741      3.0   \n",
       "131652  21501150  Pinnacle Sports      238  1610612741  1610612749     -1.0   \n",
       "131662  21501151  Pinnacle Sports      238  1610612754  1610612752     -7.0   \n",
       "131672  21501152  Pinnacle Sports      238  1610612757  1610612744     11.5   \n",
       "131682  21501153  Pinnacle Sports      238  1610612738  1610612747     -9.5   \n",
       "\n",
       "        spread2  price1  price2  \n",
       "0          -7.5  -106.0  -104.0  \n",
       "9           1.5  -102.0  -108.0  \n",
       "18         10.5   102.0  -112.0  \n",
       "27          3.5  -110.0   100.0  \n",
       "36         -8.5  -108.0  -102.0  \n",
       "...         ...     ...     ...  \n",
       "131642     -3.0  -106.0  -104.0  \n",
       "131652      1.0   100.0  -110.0  \n",
       "131662      7.0   100.0  -110.0  \n",
       "131672    -11.5   102.0  -113.0  \n",
       "131682      9.5  -105.0  -105.0  \n",
       "\n",
       "[14894 rows x 9 columns]"
      ]
     },
     "execution_count": 17,
     "metadata": {},
     "output_type": "execute_result"
    }
   ],
   "source": [
    "df[df['book_name'] == book_names[0]]"
   ]
  },
  {
   "cell_type": "code",
   "execution_count": null,
   "metadata": {},
   "outputs": [],
   "source": []
  },
  {
   "cell_type": "code",
   "execution_count": null,
   "metadata": {},
   "outputs": [],
   "source": []
  },
  {
   "cell_type": "code",
   "execution_count": 18,
   "metadata": {},
   "outputs": [
    {
     "data": {
      "text/plain": [
       "array([   238,     19,     93,   1096, 999996,    180,    139,   1275,\n",
       "       999991,    169], dtype=int64)"
      ]
     },
     "execution_count": 18,
     "metadata": {},
     "output_type": "execute_result"
    }
   ],
   "source": [
    "book_ids = df.iloc[:,2].unique()\n",
    "book_ids"
   ]
  },
  {
   "cell_type": "code",
   "execution_count": 19,
   "metadata": {},
   "outputs": [],
   "source": [
    "#type(book_id)"
   ]
  },
  {
   "cell_type": "code",
   "execution_count": 20,
   "metadata": {},
   "outputs": [],
   "source": [
    "#print(book_id)"
   ]
  },
  {
   "cell_type": "code",
   "execution_count": null,
   "metadata": {},
   "outputs": [],
   "source": []
  },
  {
   "cell_type": "code",
   "execution_count": 21,
   "metadata": {},
   "outputs": [
    {
     "data": {
      "text/plain": [
       "238"
      ]
     },
     "execution_count": 21,
     "metadata": {},
     "output_type": "execute_result"
    }
   ],
   "source": [
    "i = 0\n",
    "ii = 0\n",
    "df[df['book_name'] == book_names[i]].iloc[i,2]"
   ]
  },
  {
   "cell_type": "code",
   "execution_count": 22,
   "metadata": {},
   "outputs": [
    {
     "data": {
      "text/html": [
       "<div>\n",
       "<style scoped>\n",
       "    .dataframe tbody tr th:only-of-type {\n",
       "        vertical-align: middle;\n",
       "    }\n",
       "\n",
       "    .dataframe tbody tr th {\n",
       "        vertical-align: top;\n",
       "    }\n",
       "\n",
       "    .dataframe thead th {\n",
       "        text-align: right;\n",
       "    }\n",
       "</style>\n",
       "<table border=\"1\" class=\"dataframe\">\n",
       "  <thead>\n",
       "    <tr style=\"text-align: right;\">\n",
       "      <th></th>\n",
       "      <th>game_id</th>\n",
       "      <th>book_name</th>\n",
       "      <th>book_id</th>\n",
       "      <th>team_id</th>\n",
       "      <th>a_team_id</th>\n",
       "      <th>spread1</th>\n",
       "      <th>spread2</th>\n",
       "      <th>price1</th>\n",
       "      <th>price2</th>\n",
       "    </tr>\n",
       "  </thead>\n",
       "  <tbody>\n",
       "    <tr>\n",
       "      <th>0</th>\n",
       "      <td>21000358</td>\n",
       "      <td>Pinnacle Sports</td>\n",
       "      <td>238</td>\n",
       "      <td>1610612749</td>\n",
       "      <td>1610612742</td>\n",
       "      <td>7.5</td>\n",
       "      <td>-7.5</td>\n",
       "      <td>-106.0</td>\n",
       "      <td>-104.0</td>\n",
       "    </tr>\n",
       "    <tr>\n",
       "      <th>9</th>\n",
       "      <td>21000361</td>\n",
       "      <td>Pinnacle Sports</td>\n",
       "      <td>238</td>\n",
       "      <td>1610612755</td>\n",
       "      <td>1610612751</td>\n",
       "      <td>-1.5</td>\n",
       "      <td>1.5</td>\n",
       "      <td>-102.0</td>\n",
       "      <td>-108.0</td>\n",
       "    </tr>\n",
       "    <tr>\n",
       "      <th>18</th>\n",
       "      <td>21000362</td>\n",
       "      <td>Pinnacle Sports</td>\n",
       "      <td>238</td>\n",
       "      <td>1610612747</td>\n",
       "      <td>1610612764</td>\n",
       "      <td>-10.5</td>\n",
       "      <td>10.5</td>\n",
       "      <td>102.0</td>\n",
       "      <td>-112.0</td>\n",
       "    </tr>\n",
       "    <tr>\n",
       "      <th>27</th>\n",
       "      <td>21000367</td>\n",
       "      <td>Pinnacle Sports</td>\n",
       "      <td>238</td>\n",
       "      <td>1610612747</td>\n",
       "      <td>1610612754</td>\n",
       "      <td>-3.5</td>\n",
       "      <td>3.5</td>\n",
       "      <td>-110.0</td>\n",
       "      <td>100.0</td>\n",
       "    </tr>\n",
       "    <tr>\n",
       "      <th>36</th>\n",
       "      <td>21000372</td>\n",
       "      <td>Pinnacle Sports</td>\n",
       "      <td>238</td>\n",
       "      <td>1610612766</td>\n",
       "      <td>1610612763</td>\n",
       "      <td>8.5</td>\n",
       "      <td>-8.5</td>\n",
       "      <td>-108.0</td>\n",
       "      <td>-102.0</td>\n",
       "    </tr>\n",
       "    <tr>\n",
       "      <th>...</th>\n",
       "      <td>...</td>\n",
       "      <td>...</td>\n",
       "      <td>...</td>\n",
       "      <td>...</td>\n",
       "      <td>...</td>\n",
       "      <td>...</td>\n",
       "      <td>...</td>\n",
       "      <td>...</td>\n",
       "      <td>...</td>\n",
       "    </tr>\n",
       "    <tr>\n",
       "      <th>131642</th>\n",
       "      <td>21501139</td>\n",
       "      <td>Pinnacle Sports</td>\n",
       "      <td>238</td>\n",
       "      <td>1610612765</td>\n",
       "      <td>1610612741</td>\n",
       "      <td>3.0</td>\n",
       "      <td>-3.0</td>\n",
       "      <td>-106.0</td>\n",
       "      <td>-104.0</td>\n",
       "    </tr>\n",
       "    <tr>\n",
       "      <th>131652</th>\n",
       "      <td>21501150</td>\n",
       "      <td>Pinnacle Sports</td>\n",
       "      <td>238</td>\n",
       "      <td>1610612741</td>\n",
       "      <td>1610612749</td>\n",
       "      <td>-1.0</td>\n",
       "      <td>1.0</td>\n",
       "      <td>100.0</td>\n",
       "      <td>-110.0</td>\n",
       "    </tr>\n",
       "    <tr>\n",
       "      <th>131662</th>\n",
       "      <td>21501151</td>\n",
       "      <td>Pinnacle Sports</td>\n",
       "      <td>238</td>\n",
       "      <td>1610612754</td>\n",
       "      <td>1610612752</td>\n",
       "      <td>-7.0</td>\n",
       "      <td>7.0</td>\n",
       "      <td>100.0</td>\n",
       "      <td>-110.0</td>\n",
       "    </tr>\n",
       "    <tr>\n",
       "      <th>131672</th>\n",
       "      <td>21501152</td>\n",
       "      <td>Pinnacle Sports</td>\n",
       "      <td>238</td>\n",
       "      <td>1610612757</td>\n",
       "      <td>1610612744</td>\n",
       "      <td>11.5</td>\n",
       "      <td>-11.5</td>\n",
       "      <td>102.0</td>\n",
       "      <td>-113.0</td>\n",
       "    </tr>\n",
       "    <tr>\n",
       "      <th>131682</th>\n",
       "      <td>21501153</td>\n",
       "      <td>Pinnacle Sports</td>\n",
       "      <td>238</td>\n",
       "      <td>1610612738</td>\n",
       "      <td>1610612747</td>\n",
       "      <td>-9.5</td>\n",
       "      <td>9.5</td>\n",
       "      <td>-105.0</td>\n",
       "      <td>-105.0</td>\n",
       "    </tr>\n",
       "  </tbody>\n",
       "</table>\n",
       "<p>14894 rows × 9 columns</p>\n",
       "</div>"
      ],
      "text/plain": [
       "         game_id        book_name  book_id     team_id   a_team_id  spread1  \\\n",
       "0       21000358  Pinnacle Sports      238  1610612749  1610612742      7.5   \n",
       "9       21000361  Pinnacle Sports      238  1610612755  1610612751     -1.5   \n",
       "18      21000362  Pinnacle Sports      238  1610612747  1610612764    -10.5   \n",
       "27      21000367  Pinnacle Sports      238  1610612747  1610612754     -3.5   \n",
       "36      21000372  Pinnacle Sports      238  1610612766  1610612763      8.5   \n",
       "...          ...              ...      ...         ...         ...      ...   \n",
       "131642  21501139  Pinnacle Sports      238  1610612765  1610612741      3.0   \n",
       "131652  21501150  Pinnacle Sports      238  1610612741  1610612749     -1.0   \n",
       "131662  21501151  Pinnacle Sports      238  1610612754  1610612752     -7.0   \n",
       "131672  21501152  Pinnacle Sports      238  1610612757  1610612744     11.5   \n",
       "131682  21501153  Pinnacle Sports      238  1610612738  1610612747     -9.5   \n",
       "\n",
       "        spread2  price1  price2  \n",
       "0          -7.5  -106.0  -104.0  \n",
       "9           1.5  -102.0  -108.0  \n",
       "18         10.5   102.0  -112.0  \n",
       "27          3.5  -110.0   100.0  \n",
       "36         -8.5  -108.0  -102.0  \n",
       "...         ...     ...     ...  \n",
       "131642     -3.0  -106.0  -104.0  \n",
       "131652      1.0   100.0  -110.0  \n",
       "131662      7.0   100.0  -110.0  \n",
       "131672    -11.5   102.0  -113.0  \n",
       "131682      9.5  -105.0  -105.0  \n",
       "\n",
       "[14894 rows x 9 columns]"
      ]
     },
     "execution_count": 22,
     "metadata": {},
     "output_type": "execute_result"
    }
   ],
   "source": [
    "df[df['book_name'] == book_names[i]]"
   ]
  },
  {
   "cell_type": "code",
   "execution_count": 23,
   "metadata": {},
   "outputs": [
    {
     "data": {
      "text/plain": [
       "19"
      ]
     },
     "execution_count": 23,
     "metadata": {},
     "output_type": "execute_result"
    }
   ],
   "source": [
    "i = 1\n",
    "df[df['book_name'] == book_names[i]].iloc[ii,2]"
   ]
  },
  {
   "cell_type": "code",
   "execution_count": null,
   "metadata": {},
   "outputs": [],
   "source": []
  },
  {
   "cell_type": "code",
   "execution_count": null,
   "metadata": {},
   "outputs": [],
   "source": []
  },
  {
   "cell_type": "code",
   "execution_count": 24,
   "metadata": {},
   "outputs": [
    {
     "data": {
      "text/plain": [
       "game_id      14904\n",
       "book_name    14904\n",
       "book_id      14904\n",
       "team_id      14904\n",
       "a_team_id    14904\n",
       "spread1      14904\n",
       "spread2      14904\n",
       "price1       14904\n",
       "price2       14904\n",
       "dtype: int64"
      ]
     },
     "execution_count": 24,
     "metadata": {},
     "output_type": "execute_result"
    }
   ],
   "source": [
    "df[df['book_name'] == book_names[i]].count()"
   ]
  },
  {
   "cell_type": "code",
   "execution_count": 25,
   "metadata": {},
   "outputs": [
    {
     "data": {
      "text/plain": [
       "134136"
      ]
     },
     "execution_count": 25,
     "metadata": {},
     "output_type": "execute_result"
    }
   ],
   "source": [
    "df[df['book_name'] == book_names[i]].size"
   ]
  },
  {
   "cell_type": "code",
   "execution_count": 26,
   "metadata": {},
   "outputs": [
    {
     "data": {
      "text/plain": [
       "104258"
      ]
     },
     "execution_count": 26,
     "metadata": {},
     "output_type": "execute_result"
    }
   ],
   "source": [
    "14894 * 7"
   ]
  },
  {
   "cell_type": "code",
   "execution_count": null,
   "metadata": {},
   "outputs": [],
   "source": []
  },
  {
   "cell_type": "code",
   "execution_count": null,
   "metadata": {},
   "outputs": [],
   "source": []
  },
  {
   "cell_type": "code",
   "execution_count": 27,
   "metadata": {},
   "outputs": [
    {
     "data": {
      "text/html": [
       "<div>\n",
       "<style scoped>\n",
       "    .dataframe tbody tr th:only-of-type {\n",
       "        vertical-align: middle;\n",
       "    }\n",
       "\n",
       "    .dataframe tbody tr th {\n",
       "        vertical-align: top;\n",
       "    }\n",
       "\n",
       "    .dataframe thead th {\n",
       "        text-align: right;\n",
       "    }\n",
       "</style>\n",
       "<table border=\"1\" class=\"dataframe\">\n",
       "  <thead>\n",
       "    <tr style=\"text-align: right;\">\n",
       "      <th></th>\n",
       "      <th>game_id</th>\n",
       "      <th>book_name</th>\n",
       "      <th>book_id</th>\n",
       "      <th>team_id</th>\n",
       "      <th>a_team_id</th>\n",
       "      <th>spread1</th>\n",
       "      <th>spread2</th>\n",
       "      <th>price1</th>\n",
       "      <th>price2</th>\n",
       "    </tr>\n",
       "  </thead>\n",
       "  <tbody>\n",
       "    <tr>\n",
       "      <th>1</th>\n",
       "      <td>21000358</td>\n",
       "      <td>5Dimes</td>\n",
       "      <td>19</td>\n",
       "      <td>1610612749</td>\n",
       "      <td>1610612742</td>\n",
       "      <td>7.5</td>\n",
       "      <td>-7.5</td>\n",
       "      <td>-110.0</td>\n",
       "      <td>-110.0</td>\n",
       "    </tr>\n",
       "    <tr>\n",
       "      <th>10</th>\n",
       "      <td>21000361</td>\n",
       "      <td>5Dimes</td>\n",
       "      <td>19</td>\n",
       "      <td>1610612755</td>\n",
       "      <td>1610612751</td>\n",
       "      <td>-1.5</td>\n",
       "      <td>1.5</td>\n",
       "      <td>-105.0</td>\n",
       "      <td>-105.0</td>\n",
       "    </tr>\n",
       "    <tr>\n",
       "      <th>19</th>\n",
       "      <td>21000362</td>\n",
       "      <td>5Dimes</td>\n",
       "      <td>19</td>\n",
       "      <td>1610612747</td>\n",
       "      <td>1610612764</td>\n",
       "      <td>-10.0</td>\n",
       "      <td>10.0</td>\n",
       "      <td>-106.0</td>\n",
       "      <td>-104.0</td>\n",
       "    </tr>\n",
       "    <tr>\n",
       "      <th>28</th>\n",
       "      <td>21000367</td>\n",
       "      <td>5Dimes</td>\n",
       "      <td>19</td>\n",
       "      <td>1610612747</td>\n",
       "      <td>1610612754</td>\n",
       "      <td>-3.5</td>\n",
       "      <td>3.5</td>\n",
       "      <td>-107.0</td>\n",
       "      <td>-103.0</td>\n",
       "    </tr>\n",
       "    <tr>\n",
       "      <th>37</th>\n",
       "      <td>21000372</td>\n",
       "      <td>5Dimes</td>\n",
       "      <td>19</td>\n",
       "      <td>1610612766</td>\n",
       "      <td>1610612763</td>\n",
       "      <td>8.5</td>\n",
       "      <td>-8.5</td>\n",
       "      <td>-107.0</td>\n",
       "      <td>-103.0</td>\n",
       "    </tr>\n",
       "    <tr>\n",
       "      <th>...</th>\n",
       "      <td>...</td>\n",
       "      <td>...</td>\n",
       "      <td>...</td>\n",
       "      <td>...</td>\n",
       "      <td>...</td>\n",
       "      <td>...</td>\n",
       "      <td>...</td>\n",
       "      <td>...</td>\n",
       "      <td>...</td>\n",
       "    </tr>\n",
       "    <tr>\n",
       "      <th>131643</th>\n",
       "      <td>21501139</td>\n",
       "      <td>5Dimes</td>\n",
       "      <td>19</td>\n",
       "      <td>1610612765</td>\n",
       "      <td>1610612741</td>\n",
       "      <td>3.0</td>\n",
       "      <td>-3.0</td>\n",
       "      <td>-110.0</td>\n",
       "      <td>-110.0</td>\n",
       "    </tr>\n",
       "    <tr>\n",
       "      <th>131653</th>\n",
       "      <td>21501150</td>\n",
       "      <td>5Dimes</td>\n",
       "      <td>19</td>\n",
       "      <td>1610612741</td>\n",
       "      <td>1610612749</td>\n",
       "      <td>1.5</td>\n",
       "      <td>-1.5</td>\n",
       "      <td>-105.0</td>\n",
       "      <td>-105.0</td>\n",
       "    </tr>\n",
       "    <tr>\n",
       "      <th>131663</th>\n",
       "      <td>21501151</td>\n",
       "      <td>5Dimes</td>\n",
       "      <td>19</td>\n",
       "      <td>1610612754</td>\n",
       "      <td>1610612752</td>\n",
       "      <td>-7.0</td>\n",
       "      <td>7.0</td>\n",
       "      <td>-102.0</td>\n",
       "      <td>-108.0</td>\n",
       "    </tr>\n",
       "    <tr>\n",
       "      <th>131673</th>\n",
       "      <td>21501152</td>\n",
       "      <td>5Dimes</td>\n",
       "      <td>19</td>\n",
       "      <td>1610612757</td>\n",
       "      <td>1610612744</td>\n",
       "      <td>11.5</td>\n",
       "      <td>-11.5</td>\n",
       "      <td>-110.0</td>\n",
       "      <td>-110.0</td>\n",
       "    </tr>\n",
       "    <tr>\n",
       "      <th>131683</th>\n",
       "      <td>21501153</td>\n",
       "      <td>5Dimes</td>\n",
       "      <td>19</td>\n",
       "      <td>1610612738</td>\n",
       "      <td>1610612747</td>\n",
       "      <td>-9.5</td>\n",
       "      <td>9.5</td>\n",
       "      <td>-102.0</td>\n",
       "      <td>-108.0</td>\n",
       "    </tr>\n",
       "  </tbody>\n",
       "</table>\n",
       "<p>14904 rows × 9 columns</p>\n",
       "</div>"
      ],
      "text/plain": [
       "         game_id book_name  book_id     team_id   a_team_id  spread1  spread2  \\\n",
       "1       21000358    5Dimes       19  1610612749  1610612742      7.5     -7.5   \n",
       "10      21000361    5Dimes       19  1610612755  1610612751     -1.5      1.5   \n",
       "19      21000362    5Dimes       19  1610612747  1610612764    -10.0     10.0   \n",
       "28      21000367    5Dimes       19  1610612747  1610612754     -3.5      3.5   \n",
       "37      21000372    5Dimes       19  1610612766  1610612763      8.5     -8.5   \n",
       "...          ...       ...      ...         ...         ...      ...      ...   \n",
       "131643  21501139    5Dimes       19  1610612765  1610612741      3.0     -3.0   \n",
       "131653  21501150    5Dimes       19  1610612741  1610612749      1.5     -1.5   \n",
       "131663  21501151    5Dimes       19  1610612754  1610612752     -7.0      7.0   \n",
       "131673  21501152    5Dimes       19  1610612757  1610612744     11.5    -11.5   \n",
       "131683  21501153    5Dimes       19  1610612738  1610612747     -9.5      9.5   \n",
       "\n",
       "        price1  price2  \n",
       "1       -110.0  -110.0  \n",
       "10      -105.0  -105.0  \n",
       "19      -106.0  -104.0  \n",
       "28      -107.0  -103.0  \n",
       "37      -107.0  -103.0  \n",
       "...        ...     ...  \n",
       "131643  -110.0  -110.0  \n",
       "131653  -105.0  -105.0  \n",
       "131663  -102.0  -108.0  \n",
       "131673  -110.0  -110.0  \n",
       "131683  -102.0  -108.0  \n",
       "\n",
       "[14904 rows x 9 columns]"
      ]
     },
     "execution_count": 27,
     "metadata": {},
     "output_type": "execute_result"
    }
   ],
   "source": [
    "df[df['book_name'] == book_names[i]]"
   ]
  },
  {
   "cell_type": "code",
   "execution_count": 28,
   "metadata": {},
   "outputs": [
    {
     "data": {
      "text/plain": [
       "134136"
      ]
     },
     "execution_count": 28,
     "metadata": {},
     "output_type": "execute_result"
    }
   ],
   "source": [
    "df[df['book_name'] == book_names[i]].size"
   ]
  },
  {
   "cell_type": "code",
   "execution_count": 29,
   "metadata": {},
   "outputs": [
    {
     "name": "stderr",
     "output_type": "stream",
     "text": [
      "C:\\Users\\Paul\\anaconda3\\lib\\site-packages\\ipykernel_launcher.py:1: UserWarning: Boolean Series key will be reindexed to match DataFrame index.\n",
      "  \"\"\"Entry point for launching an IPython kernel.\n"
     ]
    },
    {
     "data": {
      "text/html": [
       "<div>\n",
       "<style scoped>\n",
       "    .dataframe tbody tr th:only-of-type {\n",
       "        vertical-align: middle;\n",
       "    }\n",
       "\n",
       "    .dataframe tbody tr th {\n",
       "        vertical-align: top;\n",
       "    }\n",
       "\n",
       "    .dataframe thead th {\n",
       "        text-align: right;\n",
       "    }\n",
       "</style>\n",
       "<table border=\"1\" class=\"dataframe\">\n",
       "  <thead>\n",
       "    <tr style=\"text-align: right;\">\n",
       "      <th></th>\n",
       "      <th>game_id</th>\n",
       "      <th>book_name</th>\n",
       "      <th>book_id</th>\n",
       "      <th>team_id</th>\n",
       "      <th>a_team_id</th>\n",
       "      <th>spread1</th>\n",
       "      <th>spread2</th>\n",
       "      <th>price1</th>\n",
       "      <th>price2</th>\n",
       "    </tr>\n",
       "  </thead>\n",
       "  <tbody>\n",
       "    <tr>\n",
       "      <th>1</th>\n",
       "      <td>21000358</td>\n",
       "      <td>5Dimes</td>\n",
       "      <td>19</td>\n",
       "      <td>1610612749</td>\n",
       "      <td>1610612742</td>\n",
       "      <td>7.5</td>\n",
       "      <td>-7.5</td>\n",
       "      <td>-110.0</td>\n",
       "      <td>-110.0</td>\n",
       "    </tr>\n",
       "    <tr>\n",
       "      <th>10</th>\n",
       "      <td>21000361</td>\n",
       "      <td>5Dimes</td>\n",
       "      <td>19</td>\n",
       "      <td>1610612755</td>\n",
       "      <td>1610612751</td>\n",
       "      <td>-1.5</td>\n",
       "      <td>1.5</td>\n",
       "      <td>-105.0</td>\n",
       "      <td>-105.0</td>\n",
       "    </tr>\n",
       "    <tr>\n",
       "      <th>19</th>\n",
       "      <td>21000362</td>\n",
       "      <td>5Dimes</td>\n",
       "      <td>19</td>\n",
       "      <td>1610612747</td>\n",
       "      <td>1610612764</td>\n",
       "      <td>-10.0</td>\n",
       "      <td>10.0</td>\n",
       "      <td>-106.0</td>\n",
       "      <td>-104.0</td>\n",
       "    </tr>\n",
       "    <tr>\n",
       "      <th>28</th>\n",
       "      <td>21000367</td>\n",
       "      <td>5Dimes</td>\n",
       "      <td>19</td>\n",
       "      <td>1610612747</td>\n",
       "      <td>1610612754</td>\n",
       "      <td>-3.5</td>\n",
       "      <td>3.5</td>\n",
       "      <td>-107.0</td>\n",
       "      <td>-103.0</td>\n",
       "    </tr>\n",
       "    <tr>\n",
       "      <th>37</th>\n",
       "      <td>21000372</td>\n",
       "      <td>5Dimes</td>\n",
       "      <td>19</td>\n",
       "      <td>1610612766</td>\n",
       "      <td>1610612763</td>\n",
       "      <td>8.5</td>\n",
       "      <td>-8.5</td>\n",
       "      <td>-107.0</td>\n",
       "      <td>-103.0</td>\n",
       "    </tr>\n",
       "    <tr>\n",
       "      <th>...</th>\n",
       "      <td>...</td>\n",
       "      <td>...</td>\n",
       "      <td>...</td>\n",
       "      <td>...</td>\n",
       "      <td>...</td>\n",
       "      <td>...</td>\n",
       "      <td>...</td>\n",
       "      <td>...</td>\n",
       "      <td>...</td>\n",
       "    </tr>\n",
       "    <tr>\n",
       "      <th>131643</th>\n",
       "      <td>21501139</td>\n",
       "      <td>5Dimes</td>\n",
       "      <td>19</td>\n",
       "      <td>1610612765</td>\n",
       "      <td>1610612741</td>\n",
       "      <td>3.0</td>\n",
       "      <td>-3.0</td>\n",
       "      <td>-110.0</td>\n",
       "      <td>-110.0</td>\n",
       "    </tr>\n",
       "    <tr>\n",
       "      <th>131653</th>\n",
       "      <td>21501150</td>\n",
       "      <td>5Dimes</td>\n",
       "      <td>19</td>\n",
       "      <td>1610612741</td>\n",
       "      <td>1610612749</td>\n",
       "      <td>1.5</td>\n",
       "      <td>-1.5</td>\n",
       "      <td>-105.0</td>\n",
       "      <td>-105.0</td>\n",
       "    </tr>\n",
       "    <tr>\n",
       "      <th>131663</th>\n",
       "      <td>21501151</td>\n",
       "      <td>5Dimes</td>\n",
       "      <td>19</td>\n",
       "      <td>1610612754</td>\n",
       "      <td>1610612752</td>\n",
       "      <td>-7.0</td>\n",
       "      <td>7.0</td>\n",
       "      <td>-102.0</td>\n",
       "      <td>-108.0</td>\n",
       "    </tr>\n",
       "    <tr>\n",
       "      <th>131673</th>\n",
       "      <td>21501152</td>\n",
       "      <td>5Dimes</td>\n",
       "      <td>19</td>\n",
       "      <td>1610612757</td>\n",
       "      <td>1610612744</td>\n",
       "      <td>11.5</td>\n",
       "      <td>-11.5</td>\n",
       "      <td>-110.0</td>\n",
       "      <td>-110.0</td>\n",
       "    </tr>\n",
       "    <tr>\n",
       "      <th>131683</th>\n",
       "      <td>21501153</td>\n",
       "      <td>5Dimes</td>\n",
       "      <td>19</td>\n",
       "      <td>1610612738</td>\n",
       "      <td>1610612747</td>\n",
       "      <td>-9.5</td>\n",
       "      <td>9.5</td>\n",
       "      <td>-102.0</td>\n",
       "      <td>-108.0</td>\n",
       "    </tr>\n",
       "  </tbody>\n",
       "</table>\n",
       "<p>14904 rows × 9 columns</p>\n",
       "</div>"
      ],
      "text/plain": [
       "         game_id book_name  book_id     team_id   a_team_id  spread1  spread2  \\\n",
       "1       21000358    5Dimes       19  1610612749  1610612742      7.5     -7.5   \n",
       "10      21000361    5Dimes       19  1610612755  1610612751     -1.5      1.5   \n",
       "19      21000362    5Dimes       19  1610612747  1610612764    -10.0     10.0   \n",
       "28      21000367    5Dimes       19  1610612747  1610612754     -3.5      3.5   \n",
       "37      21000372    5Dimes       19  1610612766  1610612763      8.5     -8.5   \n",
       "...          ...       ...      ...         ...         ...      ...      ...   \n",
       "131643  21501139    5Dimes       19  1610612765  1610612741      3.0     -3.0   \n",
       "131653  21501150    5Dimes       19  1610612741  1610612749      1.5     -1.5   \n",
       "131663  21501151    5Dimes       19  1610612754  1610612752     -7.0      7.0   \n",
       "131673  21501152    5Dimes       19  1610612757  1610612744     11.5    -11.5   \n",
       "131683  21501153    5Dimes       19  1610612738  1610612747     -9.5      9.5   \n",
       "\n",
       "        price1  price2  \n",
       "1       -110.0  -110.0  \n",
       "10      -105.0  -105.0  \n",
       "19      -106.0  -104.0  \n",
       "28      -107.0  -103.0  \n",
       "37      -107.0  -103.0  \n",
       "...        ...     ...  \n",
       "131643  -110.0  -110.0  \n",
       "131653  -105.0  -105.0  \n",
       "131663  -102.0  -108.0  \n",
       "131673  -110.0  -110.0  \n",
       "131683  -102.0  -108.0  \n",
       "\n",
       "[14904 rows x 9 columns]"
      ]
     },
     "execution_count": 29,
     "metadata": {},
     "output_type": "execute_result"
    }
   ],
   "source": [
    "df[df['book_name'] == book_names[i]][df['book_id'] == book_ids[i]]"
   ]
  },
  {
   "cell_type": "code",
   "execution_count": 30,
   "metadata": {},
   "outputs": [
    {
     "name": "stderr",
     "output_type": "stream",
     "text": [
      "C:\\Users\\Paul\\anaconda3\\lib\\site-packages\\ipykernel_launcher.py:1: UserWarning: Boolean Series key will be reindexed to match DataFrame index.\n",
      "  \"\"\"Entry point for launching an IPython kernel.\n"
     ]
    },
    {
     "data": {
      "text/plain": [
       "134136"
      ]
     },
     "execution_count": 30,
     "metadata": {},
     "output_type": "execute_result"
    }
   ],
   "source": [
    "df[df['book_name'] == book_names[i]][df['book_id'] == book_ids[i]].size"
   ]
  },
  {
   "cell_type": "code",
   "execution_count": 31,
   "metadata": {},
   "outputs": [
    {
     "name": "stdout",
     "output_type": "stream",
     "text": [
      "same size for: 1\n"
     ]
    },
    {
     "name": "stderr",
     "output_type": "stream",
     "text": [
      "C:\\Users\\Paul\\anaconda3\\lib\\site-packages\\ipykernel_launcher.py:1: UserWarning: Boolean Series key will be reindexed to match DataFrame index.\n",
      "  \"\"\"Entry point for launching an IPython kernel.\n"
     ]
    }
   ],
   "source": [
    "if(df[df['book_name'] == book_names[i]][df['book_id'] == book_ids[i]].size == df[df['book_name'] == book_names[i]].size):\n",
    "    print('same size for: ' + str(i))"
   ]
  },
  {
   "cell_type": "code",
   "execution_count": null,
   "metadata": {},
   "outputs": [],
   "source": []
  },
  {
   "cell_type": "code",
   "execution_count": 32,
   "metadata": {},
   "outputs": [],
   "source": [
    "#check book name and book id match up by two columns"
   ]
  },
  {
   "cell_type": "code",
   "execution_count": 33,
   "metadata": {},
   "outputs": [
    {
     "name": "stderr",
     "output_type": "stream",
     "text": [
      "C:\\Users\\Paul\\anaconda3\\lib\\site-packages\\ipykernel_launcher.py:2: UserWarning: Boolean Series key will be reindexed to match DataFrame index.\n",
      "  \n",
      "C:\\Users\\Paul\\anaconda3\\lib\\site-packages\\ipykernel_launcher.py:2: UserWarning: Boolean Series key will be reindexed to match DataFrame index.\n",
      "  \n",
      "C:\\Users\\Paul\\anaconda3\\lib\\site-packages\\ipykernel_launcher.py:2: UserWarning: Boolean Series key will be reindexed to match DataFrame index.\n",
      "  \n",
      "C:\\Users\\Paul\\anaconda3\\lib\\site-packages\\ipykernel_launcher.py:2: UserWarning: Boolean Series key will be reindexed to match DataFrame index.\n",
      "  \n",
      "C:\\Users\\Paul\\anaconda3\\lib\\site-packages\\ipykernel_launcher.py:2: UserWarning: Boolean Series key will be reindexed to match DataFrame index.\n",
      "  \n",
      "C:\\Users\\Paul\\anaconda3\\lib\\site-packages\\ipykernel_launcher.py:2: UserWarning: Boolean Series key will be reindexed to match DataFrame index.\n",
      "  \n",
      "C:\\Users\\Paul\\anaconda3\\lib\\site-packages\\ipykernel_launcher.py:2: UserWarning: Boolean Series key will be reindexed to match DataFrame index.\n",
      "  \n"
     ]
    },
    {
     "name": "stdout",
     "output_type": "stream",
     "text": [
      "same size for: 0\n",
      "same size for: 1\n",
      "same size for: 2\n",
      "same size for: 3\n",
      "same size for: 4\n",
      "same size for: 5\n",
      "same size for: 6\n"
     ]
    },
    {
     "name": "stderr",
     "output_type": "stream",
     "text": [
      "C:\\Users\\Paul\\anaconda3\\lib\\site-packages\\ipykernel_launcher.py:2: UserWarning: Boolean Series key will be reindexed to match DataFrame index.\n",
      "  \n",
      "C:\\Users\\Paul\\anaconda3\\lib\\site-packages\\ipykernel_launcher.py:2: UserWarning: Boolean Series key will be reindexed to match DataFrame index.\n",
      "  \n"
     ]
    },
    {
     "name": "stdout",
     "output_type": "stream",
     "text": [
      "same size for: 7\n",
      "same size for: 8\n",
      "same size for: 9\n"
     ]
    },
    {
     "name": "stderr",
     "output_type": "stream",
     "text": [
      "C:\\Users\\Paul\\anaconda3\\lib\\site-packages\\ipykernel_launcher.py:2: UserWarning: Boolean Series key will be reindexed to match DataFrame index.\n",
      "  \n"
     ]
    }
   ],
   "source": [
    "for i in range(0, 10):\n",
    "    if(df[df['book_name'] == book_names[i]][df['book_id'] == book_ids[i]].size == df[df['book_name'] == book_names[i]].size):\n",
    "        print('same size for: ' + str(i))"
   ]
  },
  {
   "cell_type": "code",
   "execution_count": null,
   "metadata": {},
   "outputs": [],
   "source": []
  },
  {
   "cell_type": "code",
   "execution_count": null,
   "metadata": {},
   "outputs": [],
   "source": []
  },
  {
   "cell_type": "code",
   "execution_count": 34,
   "metadata": {},
   "outputs": [],
   "source": [
    "#one column"
   ]
  },
  {
   "cell_type": "code",
   "execution_count": 35,
   "metadata": {},
   "outputs": [
    {
     "data": {
      "text/plain": [
       "0         Pinnacle Sports 238\n",
       "1                   5Dimes 19\n",
       "2                Bookmaker 93\n",
       "3              BetOnline 1096\n",
       "4               Bovada 999996\n",
       "                 ...         \n",
       "131685         BetOnline 1096\n",
       "131686          Bovada 999996\n",
       "131687           Heritage 169\n",
       "131688          Intertops 180\n",
       "131689           YouWager 139\n",
       "Name: book_name_id, Length: 131690, dtype: object"
      ]
     },
     "execution_count": 35,
     "metadata": {},
     "output_type": "execute_result"
    }
   ],
   "source": [
    "df['book_name_id'] = df['book_name'] + ' ' + df['book_id'].astype(str)\n",
    "df['book_name_id']"
   ]
  },
  {
   "cell_type": "code",
   "execution_count": 36,
   "metadata": {},
   "outputs": [
    {
     "data": {
      "text/plain": [
       "10"
      ]
     },
     "execution_count": 36,
     "metadata": {},
     "output_type": "execute_result"
    }
   ],
   "source": [
    "df['book_name_id'].unique().size"
   ]
  },
  {
   "cell_type": "code",
   "execution_count": null,
   "metadata": {},
   "outputs": [],
   "source": []
  },
  {
   "cell_type": "code",
   "execution_count": null,
   "metadata": {},
   "outputs": [],
   "source": []
  },
  {
   "cell_type": "code",
   "execution_count": 37,
   "metadata": {},
   "outputs": [
    {
     "data": {
      "text/plain": [
       "14914"
      ]
     },
     "execution_count": 37,
     "metadata": {},
     "output_type": "execute_result"
    }
   ],
   "source": [
    "df.game_id.unique().size"
   ]
  },
  {
   "cell_type": "code",
   "execution_count": 38,
   "metadata": {},
   "outputs": [
    {
     "data": {
      "text/plain": [
       "149140"
      ]
     },
     "execution_count": 38,
     "metadata": {},
     "output_type": "execute_result"
    }
   ],
   "source": [
    "df.game_id.unique().size * 10"
   ]
  },
  {
   "cell_type": "code",
   "execution_count": null,
   "metadata": {},
   "outputs": [],
   "source": []
  },
  {
   "cell_type": "code",
   "execution_count": null,
   "metadata": {},
   "outputs": [],
   "source": []
  },
  {
   "cell_type": "code",
   "execution_count": 39,
   "metadata": {},
   "outputs": [],
   "source": [
    "df['game_id_book_id'] = df['game_id'].astype(str)+df['book_id'].astype(str)\n",
    "#errorrr\n",
    "#df['game_id_book_id'] = df['game_id_book_id'].astype(int)\n",
    "#df['game_id_book_id']\n"
   ]
  },
  {
   "cell_type": "code",
   "execution_count": 40,
   "metadata": {},
   "outputs": [
    {
     "data": {
      "text/plain": [
       "131690"
      ]
     },
     "execution_count": 40,
     "metadata": {},
     "output_type": "execute_result"
    }
   ],
   "source": [
    "df['game_id_book_id'].unique().size"
   ]
  },
  {
   "cell_type": "code",
   "execution_count": 41,
   "metadata": {},
   "outputs": [
    {
     "data": {
      "text/plain": [
       "array(['21000358238', '2100035819', '2100035893', ..., '21501153169',\n",
       "       '21501153180', '21501153139'], dtype=object)"
      ]
     },
     "execution_count": 41,
     "metadata": {},
     "output_type": "execute_result"
    }
   ],
   "source": [
    "df['game_id_book_id'].unique()"
   ]
  },
  {
   "cell_type": "code",
   "execution_count": 42,
   "metadata": {},
   "outputs": [
    {
     "data": {
      "text/html": [
       "<div>\n",
       "<style scoped>\n",
       "    .dataframe tbody tr th:only-of-type {\n",
       "        vertical-align: middle;\n",
       "    }\n",
       "\n",
       "    .dataframe tbody tr th {\n",
       "        vertical-align: top;\n",
       "    }\n",
       "\n",
       "    .dataframe thead th {\n",
       "        text-align: right;\n",
       "    }\n",
       "</style>\n",
       "<table border=\"1\" class=\"dataframe\">\n",
       "  <thead>\n",
       "    <tr style=\"text-align: right;\">\n",
       "      <th></th>\n",
       "      <th>game_id</th>\n",
       "      <th>book_id</th>\n",
       "      <th>team_id</th>\n",
       "      <th>a_team_id</th>\n",
       "      <th>spread1</th>\n",
       "      <th>spread2</th>\n",
       "      <th>price1</th>\n",
       "      <th>price2</th>\n",
       "    </tr>\n",
       "  </thead>\n",
       "  <tbody>\n",
       "    <tr>\n",
       "      <th>count</th>\n",
       "      <td>1.316900e+05</td>\n",
       "      <td>131690.000000</td>\n",
       "      <td>1.316900e+05</td>\n",
       "      <td>1.316900e+05</td>\n",
       "      <td>131690.000000</td>\n",
       "      <td>131690.000000</td>\n",
       "      <td>131690.000000</td>\n",
       "      <td>131690.000000</td>\n",
       "    </tr>\n",
       "    <tr>\n",
       "      <th>mean</th>\n",
       "      <td>2.253500e+07</td>\n",
       "      <td>218153.561394</td>\n",
       "      <td>1.610613e+09</td>\n",
       "      <td>1.610613e+09</td>\n",
       "      <td>3.091226</td>\n",
       "      <td>-3.090975</td>\n",
       "      <td>-104.060566</td>\n",
       "      <td>-105.370856</td>\n",
       "    </tr>\n",
       "    <tr>\n",
       "      <th>std</th>\n",
       "      <td>5.042102e+06</td>\n",
       "      <td>412598.578350</td>\n",
       "      <td>8.683910e+00</td>\n",
       "      <td>8.689298e+00</td>\n",
       "      <td>6.429275</td>\n",
       "      <td>6.429229</td>\n",
       "      <td>32.481255</td>\n",
       "      <td>28.537449</td>\n",
       "    </tr>\n",
       "    <tr>\n",
       "      <th>min</th>\n",
       "      <td>1.110000e+07</td>\n",
       "      <td>19.000000</td>\n",
       "      <td>1.610613e+09</td>\n",
       "      <td>1.610613e+09</td>\n",
       "      <td>-22.500000</td>\n",
       "      <td>-23.000000</td>\n",
       "      <td>-138.000000</td>\n",
       "      <td>-1100.000000</td>\n",
       "    </tr>\n",
       "    <tr>\n",
       "      <th>25%</th>\n",
       "      <td>2.100018e+07</td>\n",
       "      <td>139.000000</td>\n",
       "      <td>1.610613e+09</td>\n",
       "      <td>1.610613e+09</td>\n",
       "      <td>-2.500000</td>\n",
       "      <td>-7.500000</td>\n",
       "      <td>-110.000000</td>\n",
       "      <td>-110.000000</td>\n",
       "    </tr>\n",
       "    <tr>\n",
       "      <th>50%</th>\n",
       "      <td>2.130022e+07</td>\n",
       "      <td>238.000000</td>\n",
       "      <td>1.610613e+09</td>\n",
       "      <td>1.610613e+09</td>\n",
       "      <td>4.000000</td>\n",
       "      <td>-4.000000</td>\n",
       "      <td>-110.000000</td>\n",
       "      <td>-110.000000</td>\n",
       "    </tr>\n",
       "    <tr>\n",
       "      <th>75%</th>\n",
       "      <td>2.150113e+07</td>\n",
       "      <td>1275.000000</td>\n",
       "      <td>1.610613e+09</td>\n",
       "      <td>1.610613e+09</td>\n",
       "      <td>7.500000</td>\n",
       "      <td>2.500000</td>\n",
       "      <td>-107.000000</td>\n",
       "      <td>-108.000000</td>\n",
       "    </tr>\n",
       "    <tr>\n",
       "      <th>max</th>\n",
       "      <td>4.170040e+07</td>\n",
       "      <td>999996.000000</td>\n",
       "      <td>1.610613e+09</td>\n",
       "      <td>1.610613e+09</td>\n",
       "      <td>23.000000</td>\n",
       "      <td>22.500000</td>\n",
       "      <td>856.000000</td>\n",
       "      <td>118.000000</td>\n",
       "    </tr>\n",
       "  </tbody>\n",
       "</table>\n",
       "</div>"
      ],
      "text/plain": [
       "            game_id        book_id       team_id     a_team_id        spread1  \\\n",
       "count  1.316900e+05  131690.000000  1.316900e+05  1.316900e+05  131690.000000   \n",
       "mean   2.253500e+07  218153.561394  1.610613e+09  1.610613e+09       3.091226   \n",
       "std    5.042102e+06  412598.578350  8.683910e+00  8.689298e+00       6.429275   \n",
       "min    1.110000e+07      19.000000  1.610613e+09  1.610613e+09     -22.500000   \n",
       "25%    2.100018e+07     139.000000  1.610613e+09  1.610613e+09      -2.500000   \n",
       "50%    2.130022e+07     238.000000  1.610613e+09  1.610613e+09       4.000000   \n",
       "75%    2.150113e+07    1275.000000  1.610613e+09  1.610613e+09       7.500000   \n",
       "max    4.170040e+07  999996.000000  1.610613e+09  1.610613e+09      23.000000   \n",
       "\n",
       "             spread2         price1         price2  \n",
       "count  131690.000000  131690.000000  131690.000000  \n",
       "mean       -3.090975    -104.060566    -105.370856  \n",
       "std         6.429229      32.481255      28.537449  \n",
       "min       -23.000000    -138.000000   -1100.000000  \n",
       "25%        -7.500000    -110.000000    -110.000000  \n",
       "50%        -4.000000    -110.000000    -110.000000  \n",
       "75%         2.500000    -107.000000    -108.000000  \n",
       "max        22.500000     856.000000     118.000000  "
      ]
     },
     "execution_count": 42,
     "metadata": {},
     "output_type": "execute_result"
    }
   ],
   "source": [
    "df.describe()"
   ]
  },
  {
   "cell_type": "code",
   "execution_count": null,
   "metadata": {},
   "outputs": [],
   "source": []
  },
  {
   "cell_type": "code",
   "execution_count": null,
   "metadata": {},
   "outputs": [],
   "source": []
  },
  {
   "cell_type": "code",
   "execution_count": 43,
   "metadata": {},
   "outputs": [
    {
     "data": {
      "text/plain": [
       "14914"
      ]
     },
     "execution_count": 43,
     "metadata": {},
     "output_type": "execute_result"
    }
   ],
   "source": [
    "df['game_id'].unique().size"
   ]
  },
  {
   "cell_type": "code",
   "execution_count": 44,
   "metadata": {},
   "outputs": [
    {
     "data": {
      "text/plain": [
       "131690"
      ]
     },
     "execution_count": 44,
     "metadata": {},
     "output_type": "execute_result"
    }
   ],
   "source": [
    "df['game_id'].size"
   ]
  },
  {
   "cell_type": "code",
   "execution_count": 45,
   "metadata": {},
   "outputs": [
    {
     "data": {
      "text/plain": [
       "8.405071783174561"
      ]
     },
     "execution_count": 45,
     "metadata": {},
     "output_type": "execute_result"
    }
   ],
   "source": [
    "125286 / 14906"
   ]
  },
  {
   "cell_type": "code",
   "execution_count": 46,
   "metadata": {},
   "outputs": [],
   "source": [
    "#clearly there is not an equal number of rows of each game_id"
   ]
  },
  {
   "cell_type": "code",
   "execution_count": 47,
   "metadata": {},
   "outputs": [],
   "source": [
    "#get count per column value\n"
   ]
  },
  {
   "cell_type": "code",
   "execution_count": 48,
   "metadata": {},
   "outputs": [
    {
     "data": {
      "text/html": [
       "<div>\n",
       "<style scoped>\n",
       "    .dataframe tbody tr th:only-of-type {\n",
       "        vertical-align: middle;\n",
       "    }\n",
       "\n",
       "    .dataframe tbody tr th {\n",
       "        vertical-align: top;\n",
       "    }\n",
       "\n",
       "    .dataframe thead th {\n",
       "        text-align: right;\n",
       "    }\n",
       "</style>\n",
       "<table border=\"1\" class=\"dataframe\">\n",
       "  <thead>\n",
       "    <tr style=\"text-align: right;\">\n",
       "      <th></th>\n",
       "      <th>book_name</th>\n",
       "      <th>book_id</th>\n",
       "      <th>team_id</th>\n",
       "      <th>a_team_id</th>\n",
       "      <th>spread1</th>\n",
       "      <th>spread2</th>\n",
       "      <th>price1</th>\n",
       "      <th>price2</th>\n",
       "      <th>book_name_id</th>\n",
       "      <th>game_id_book_id</th>\n",
       "    </tr>\n",
       "    <tr>\n",
       "      <th>game_id</th>\n",
       "      <th></th>\n",
       "      <th></th>\n",
       "      <th></th>\n",
       "      <th></th>\n",
       "      <th></th>\n",
       "      <th></th>\n",
       "      <th></th>\n",
       "      <th></th>\n",
       "      <th></th>\n",
       "      <th></th>\n",
       "    </tr>\n",
       "  </thead>\n",
       "  <tbody>\n",
       "    <tr>\n",
       "      <th>11100001</th>\n",
       "      <td>7</td>\n",
       "      <td>7</td>\n",
       "      <td>7</td>\n",
       "      <td>7</td>\n",
       "      <td>7</td>\n",
       "      <td>7</td>\n",
       "      <td>7</td>\n",
       "      <td>7</td>\n",
       "      <td>7</td>\n",
       "      <td>7</td>\n",
       "    </tr>\n",
       "    <tr>\n",
       "      <th>11100002</th>\n",
       "      <td>7</td>\n",
       "      <td>7</td>\n",
       "      <td>7</td>\n",
       "      <td>7</td>\n",
       "      <td>7</td>\n",
       "      <td>7</td>\n",
       "      <td>7</td>\n",
       "      <td>7</td>\n",
       "      <td>7</td>\n",
       "      <td>7</td>\n",
       "    </tr>\n",
       "    <tr>\n",
       "      <th>11100003</th>\n",
       "      <td>7</td>\n",
       "      <td>7</td>\n",
       "      <td>7</td>\n",
       "      <td>7</td>\n",
       "      <td>7</td>\n",
       "      <td>7</td>\n",
       "      <td>7</td>\n",
       "      <td>7</td>\n",
       "      <td>7</td>\n",
       "      <td>7</td>\n",
       "    </tr>\n",
       "    <tr>\n",
       "      <th>11100004</th>\n",
       "      <td>7</td>\n",
       "      <td>7</td>\n",
       "      <td>7</td>\n",
       "      <td>7</td>\n",
       "      <td>7</td>\n",
       "      <td>7</td>\n",
       "      <td>7</td>\n",
       "      <td>7</td>\n",
       "      <td>7</td>\n",
       "      <td>7</td>\n",
       "    </tr>\n",
       "    <tr>\n",
       "      <th>11100005</th>\n",
       "      <td>8</td>\n",
       "      <td>8</td>\n",
       "      <td>8</td>\n",
       "      <td>8</td>\n",
       "      <td>8</td>\n",
       "      <td>8</td>\n",
       "      <td>8</td>\n",
       "      <td>8</td>\n",
       "      <td>8</td>\n",
       "      <td>8</td>\n",
       "    </tr>\n",
       "    <tr>\n",
       "      <th>...</th>\n",
       "      <td>...</td>\n",
       "      <td>...</td>\n",
       "      <td>...</td>\n",
       "      <td>...</td>\n",
       "      <td>...</td>\n",
       "      <td>...</td>\n",
       "      <td>...</td>\n",
       "      <td>...</td>\n",
       "      <td>...</td>\n",
       "      <td>...</td>\n",
       "    </tr>\n",
       "    <tr>\n",
       "      <th>41700317</th>\n",
       "      <td>10</td>\n",
       "      <td>10</td>\n",
       "      <td>10</td>\n",
       "      <td>10</td>\n",
       "      <td>10</td>\n",
       "      <td>10</td>\n",
       "      <td>10</td>\n",
       "      <td>10</td>\n",
       "      <td>10</td>\n",
       "      <td>10</td>\n",
       "    </tr>\n",
       "    <tr>\n",
       "      <th>41700401</th>\n",
       "      <td>10</td>\n",
       "      <td>10</td>\n",
       "      <td>10</td>\n",
       "      <td>10</td>\n",
       "      <td>10</td>\n",
       "      <td>10</td>\n",
       "      <td>10</td>\n",
       "      <td>10</td>\n",
       "      <td>10</td>\n",
       "      <td>10</td>\n",
       "    </tr>\n",
       "    <tr>\n",
       "      <th>41700402</th>\n",
       "      <td>10</td>\n",
       "      <td>10</td>\n",
       "      <td>10</td>\n",
       "      <td>10</td>\n",
       "      <td>10</td>\n",
       "      <td>10</td>\n",
       "      <td>10</td>\n",
       "      <td>10</td>\n",
       "      <td>10</td>\n",
       "      <td>10</td>\n",
       "    </tr>\n",
       "    <tr>\n",
       "      <th>41700403</th>\n",
       "      <td>10</td>\n",
       "      <td>10</td>\n",
       "      <td>10</td>\n",
       "      <td>10</td>\n",
       "      <td>10</td>\n",
       "      <td>10</td>\n",
       "      <td>10</td>\n",
       "      <td>10</td>\n",
       "      <td>10</td>\n",
       "      <td>10</td>\n",
       "    </tr>\n",
       "    <tr>\n",
       "      <th>41700404</th>\n",
       "      <td>10</td>\n",
       "      <td>10</td>\n",
       "      <td>10</td>\n",
       "      <td>10</td>\n",
       "      <td>10</td>\n",
       "      <td>10</td>\n",
       "      <td>10</td>\n",
       "      <td>10</td>\n",
       "      <td>10</td>\n",
       "      <td>10</td>\n",
       "    </tr>\n",
       "  </tbody>\n",
       "</table>\n",
       "<p>14914 rows × 10 columns</p>\n",
       "</div>"
      ],
      "text/plain": [
       "          book_name  book_id  team_id  a_team_id  spread1  spread2  price1  \\\n",
       "game_id                                                                      \n",
       "11100001          7        7        7          7        7        7       7   \n",
       "11100002          7        7        7          7        7        7       7   \n",
       "11100003          7        7        7          7        7        7       7   \n",
       "11100004          7        7        7          7        7        7       7   \n",
       "11100005          8        8        8          8        8        8       8   \n",
       "...             ...      ...      ...        ...      ...      ...     ...   \n",
       "41700317         10       10       10         10       10       10      10   \n",
       "41700401         10       10       10         10       10       10      10   \n",
       "41700402         10       10       10         10       10       10      10   \n",
       "41700403         10       10       10         10       10       10      10   \n",
       "41700404         10       10       10         10       10       10      10   \n",
       "\n",
       "          price2  book_name_id  game_id_book_id  \n",
       "game_id                                          \n",
       "11100001       7             7                7  \n",
       "11100002       7             7                7  \n",
       "11100003       7             7                7  \n",
       "11100004       7             7                7  \n",
       "11100005       8             8                8  \n",
       "...          ...           ...              ...  \n",
       "41700317      10            10               10  \n",
       "41700401      10            10               10  \n",
       "41700402      10            10               10  \n",
       "41700403      10            10               10  \n",
       "41700404      10            10               10  \n",
       "\n",
       "[14914 rows x 10 columns]"
      ]
     },
     "execution_count": 48,
     "metadata": {},
     "output_type": "execute_result"
    }
   ],
   "source": [
    "df.groupby('game_id').count()"
   ]
  },
  {
   "cell_type": "code",
   "execution_count": 49,
   "metadata": {},
   "outputs": [
    {
     "data": {
      "text/plain": [
       "book_name          10\n",
       "book_id            10\n",
       "team_id            10\n",
       "a_team_id          10\n",
       "spread1            10\n",
       "spread2            10\n",
       "price1             10\n",
       "price2             10\n",
       "book_name_id       10\n",
       "game_id_book_id    10\n",
       "dtype: int64"
      ]
     },
     "execution_count": 49,
     "metadata": {},
     "output_type": "execute_result"
    }
   ],
   "source": [
    "df.groupby('game_id').count().max()"
   ]
  },
  {
   "cell_type": "code",
   "execution_count": 50,
   "metadata": {},
   "outputs": [
    {
     "data": {
      "text/plain": [
       "book_name          1\n",
       "book_id            1\n",
       "team_id            1\n",
       "a_team_id          1\n",
       "spread1            1\n",
       "spread2            1\n",
       "price1             1\n",
       "price2             1\n",
       "book_name_id       1\n",
       "game_id_book_id    1\n",
       "dtype: int64"
      ]
     },
     "execution_count": 50,
     "metadata": {},
     "output_type": "execute_result"
    }
   ],
   "source": [
    "df.groupby('game_id').count().min()"
   ]
  },
  {
   "cell_type": "markdown",
   "metadata": {},
   "source": [
    "<font color = 'red'> why is it that some games have more book names??? <font>"
   ]
  },
  {
   "cell_type": "markdown",
   "metadata": {},
   "source": [
    "<font color = 'red'> what are you going to do about having more book names for some games than others? <font>"
   ]
  },
  {
   "cell_type": "markdown",
   "metadata": {},
   "source": [
    "<font color = 'red'> what games have the most number of book names??? <font>"
   ]
  },
  {
   "cell_type": "markdown",
   "metadata": {},
   "source": [
    "<font color = 'red'> how many book names is that??? <font>"
   ]
  },
  {
   "cell_type": "code",
   "execution_count": null,
   "metadata": {},
   "outputs": [],
   "source": []
  },
  {
   "cell_type": "code",
   "execution_count": null,
   "metadata": {},
   "outputs": [],
   "source": []
  },
  {
   "cell_type": "code",
   "execution_count": 51,
   "metadata": {},
   "outputs": [],
   "source": [
    "pd.options.display.max_columns = 999\n",
    "pd.options.display.max_rows = 999\n",
    "pd.set_option(\"display.max_rows\", 101)\n",
    "pd.set_option(\"display.max_columns\", 101)"
   ]
  },
  {
   "cell_type": "code",
   "execution_count": 52,
   "metadata": {},
   "outputs": [
    {
     "data": {
      "text/plain": [
       "game_id\n",
       "11100001     7\n",
       "11100002     7\n",
       "11100003     7\n",
       "11100004     7\n",
       "11100005     8\n",
       "            ..\n",
       "41700317    10\n",
       "41700401    10\n",
       "41700402    10\n",
       "41700403    10\n",
       "41700404    10\n",
       "Name: book_name, Length: 14914, dtype: int64"
      ]
     },
     "execution_count": 52,
     "metadata": {},
     "output_type": "execute_result"
    }
   ],
   "source": [
    "df.groupby('game_id')['book_name'].count()"
   ]
  },
  {
   "cell_type": "code",
   "execution_count": 53,
   "metadata": {},
   "outputs": [
    {
     "data": {
      "text/plain": [
       "count    14914.000000\n",
       "mean         8.829958\n",
       "std          1.719223\n",
       "min          1.000000\n",
       "25%          8.000000\n",
       "50%         10.000000\n",
       "75%         10.000000\n",
       "max         10.000000\n",
       "Name: book_name, dtype: float64"
      ]
     },
     "execution_count": 53,
     "metadata": {},
     "output_type": "execute_result"
    }
   ],
   "source": [
    "df.groupby('game_id')['book_name'].count().describe()"
   ]
  },
  {
   "cell_type": "code",
   "execution_count": 54,
   "metadata": {},
   "outputs": [
    {
     "data": {
      "text/plain": [
       "<AxesSubplot:>"
      ]
     },
     "execution_count": 54,
     "metadata": {},
     "output_type": "execute_result"
    },
    {
     "data": {
      "image/png": "[encoded data removed]",
      "text/plain": [
       "<Figure size 432x288 with 1 Axes>"
      ]
     },
     "metadata": {
      "needs_background": "light"
     },
     "output_type": "display_data"
    }
   ],
   "source": [
    "df.groupby('game_id')['book_name'].count().hist(bins=33)"
   ]
  },
  {
   "cell_type": "code",
   "execution_count": 55,
   "metadata": {},
   "outputs": [
    {
     "data": {
      "text/html": [
       "<div>\n",
       "<style scoped>\n",
       "    .dataframe tbody tr th:only-of-type {\n",
       "        vertical-align: middle;\n",
       "    }\n",
       "\n",
       "    .dataframe tbody tr th {\n",
       "        vertical-align: top;\n",
       "    }\n",
       "\n",
       "    .dataframe thead th {\n",
       "        text-align: right;\n",
       "    }\n",
       "</style>\n",
       "<table border=\"1\" class=\"dataframe\">\n",
       "  <thead>\n",
       "    <tr style=\"text-align: right;\">\n",
       "      <th></th>\n",
       "      <th>book_id</th>\n",
       "      <th>team_id</th>\n",
       "      <th>a_team_id</th>\n",
       "      <th>spread1</th>\n",
       "      <th>spread2</th>\n",
       "      <th>price1</th>\n",
       "      <th>price2</th>\n",
       "      <th>book_name_id</th>\n",
       "      <th>game_id_book_id</th>\n",
       "    </tr>\n",
       "    <tr>\n",
       "      <th>book_name</th>\n",
       "      <th></th>\n",
       "      <th></th>\n",
       "      <th></th>\n",
       "      <th></th>\n",
       "      <th></th>\n",
       "      <th></th>\n",
       "      <th></th>\n",
       "      <th></th>\n",
       "      <th></th>\n",
       "    </tr>\n",
       "  </thead>\n",
       "  <tbody>\n",
       "    <tr>\n",
       "      <th>1</th>\n",
       "      <td>2</td>\n",
       "      <td>2</td>\n",
       "      <td>2</td>\n",
       "      <td>2</td>\n",
       "      <td>2</td>\n",
       "      <td>2</td>\n",
       "      <td>2</td>\n",
       "      <td>2</td>\n",
       "      <td>2</td>\n",
       "    </tr>\n",
       "    <tr>\n",
       "      <th>2</th>\n",
       "      <td>1</td>\n",
       "      <td>1</td>\n",
       "      <td>1</td>\n",
       "      <td>1</td>\n",
       "      <td>1</td>\n",
       "      <td>1</td>\n",
       "      <td>1</td>\n",
       "      <td>1</td>\n",
       "      <td>1</td>\n",
       "    </tr>\n",
       "    <tr>\n",
       "      <th>3</th>\n",
       "      <td>34</td>\n",
       "      <td>34</td>\n",
       "      <td>34</td>\n",
       "      <td>34</td>\n",
       "      <td>34</td>\n",
       "      <td>34</td>\n",
       "      <td>34</td>\n",
       "      <td>34</td>\n",
       "      <td>34</td>\n",
       "    </tr>\n",
       "    <tr>\n",
       "      <th>4</th>\n",
       "      <td>997</td>\n",
       "      <td>997</td>\n",
       "      <td>997</td>\n",
       "      <td>997</td>\n",
       "      <td>997</td>\n",
       "      <td>997</td>\n",
       "      <td>997</td>\n",
       "      <td>997</td>\n",
       "      <td>997</td>\n",
       "    </tr>\n",
       "    <tr>\n",
       "      <th>5</th>\n",
       "      <td>82</td>\n",
       "      <td>82</td>\n",
       "      <td>82</td>\n",
       "      <td>82</td>\n",
       "      <td>82</td>\n",
       "      <td>82</td>\n",
       "      <td>82</td>\n",
       "      <td>82</td>\n",
       "      <td>82</td>\n",
       "    </tr>\n",
       "    <tr>\n",
       "      <th>6</th>\n",
       "      <td>68</td>\n",
       "      <td>68</td>\n",
       "      <td>68</td>\n",
       "      <td>68</td>\n",
       "      <td>68</td>\n",
       "      <td>68</td>\n",
       "      <td>68</td>\n",
       "      <td>68</td>\n",
       "      <td>68</td>\n",
       "    </tr>\n",
       "    <tr>\n",
       "      <th>7</th>\n",
       "      <td>1297</td>\n",
       "      <td>1297</td>\n",
       "      <td>1297</td>\n",
       "      <td>1297</td>\n",
       "      <td>1297</td>\n",
       "      <td>1297</td>\n",
       "      <td>1297</td>\n",
       "      <td>1297</td>\n",
       "      <td>1297</td>\n",
       "    </tr>\n",
       "    <tr>\n",
       "      <th>8</th>\n",
       "      <td>2635</td>\n",
       "      <td>2635</td>\n",
       "      <td>2635</td>\n",
       "      <td>2635</td>\n",
       "      <td>2635</td>\n",
       "      <td>2635</td>\n",
       "      <td>2635</td>\n",
       "      <td>2635</td>\n",
       "      <td>2635</td>\n",
       "    </tr>\n",
       "    <tr>\n",
       "      <th>9</th>\n",
       "      <td>1361</td>\n",
       "      <td>1361</td>\n",
       "      <td>1361</td>\n",
       "      <td>1361</td>\n",
       "      <td>1361</td>\n",
       "      <td>1361</td>\n",
       "      <td>1361</td>\n",
       "      <td>1361</td>\n",
       "      <td>1361</td>\n",
       "    </tr>\n",
       "    <tr>\n",
       "      <th>10</th>\n",
       "      <td>8437</td>\n",
       "      <td>8437</td>\n",
       "      <td>8437</td>\n",
       "      <td>8437</td>\n",
       "      <td>8437</td>\n",
       "      <td>8437</td>\n",
       "      <td>8437</td>\n",
       "      <td>8437</td>\n",
       "      <td>8437</td>\n",
       "    </tr>\n",
       "  </tbody>\n",
       "</table>\n",
       "</div>"
      ],
      "text/plain": [
       "           book_id  team_id  a_team_id  spread1  spread2  price1  price2  \\\n",
       "book_name                                                                  \n",
       "1                2        2          2        2        2       2       2   \n",
       "2                1        1          1        1        1       1       1   \n",
       "3               34       34         34       34       34      34      34   \n",
       "4              997      997        997      997      997     997     997   \n",
       "5               82       82         82       82       82      82      82   \n",
       "6               68       68         68       68       68      68      68   \n",
       "7             1297     1297       1297     1297     1297    1297    1297   \n",
       "8             2635     2635       2635     2635     2635    2635    2635   \n",
       "9             1361     1361       1361     1361     1361    1361    1361   \n",
       "10            8437     8437       8437     8437     8437    8437    8437   \n",
       "\n",
       "           book_name_id  game_id_book_id  \n",
       "book_name                                 \n",
       "1                     2                2  \n",
       "2                     1                1  \n",
       "3                    34               34  \n",
       "4                   997              997  \n",
       "5                    82               82  \n",
       "6                    68               68  \n",
       "7                  1297             1297  \n",
       "8                  2635             2635  \n",
       "9                  1361             1361  \n",
       "10                 8437             8437  "
      ]
     },
     "execution_count": 55,
     "metadata": {},
     "output_type": "execute_result"
    }
   ],
   "source": [
    "df.groupby('game_id').count().groupby('book_name').count()"
   ]
  },
  {
   "cell_type": "code",
   "execution_count": 56,
   "metadata": {},
   "outputs": [
    {
     "data": {
      "text/plain": [
       "book_name\n",
       "1        2\n",
       "2        1\n",
       "3       34\n",
       "4      997\n",
       "5       82\n",
       "6       68\n",
       "7     1297\n",
       "8     2635\n",
       "9     1361\n",
       "10    8437\n",
       "Name: book_id, dtype: int64"
      ]
     },
     "execution_count": 56,
     "metadata": {},
     "output_type": "execute_result"
    }
   ],
   "source": [
    "df.groupby('game_id').count().groupby('book_name').count()['book_id']"
   ]
  },
  {
   "cell_type": "code",
   "execution_count": 57,
   "metadata": {},
   "outputs": [
    {
     "data": {
      "text/plain": [
       "game_id\n",
       "11100001    False\n",
       "11100002    False\n",
       "11100003    False\n",
       "11100004    False\n",
       "11100005    False\n",
       "            ...  \n",
       "41700317    False\n",
       "41700401    False\n",
       "41700402    False\n",
       "41700403    False\n",
       "41700404    False\n",
       "Name: book_id, Length: 14914, dtype: bool"
      ]
     },
     "execution_count": 57,
     "metadata": {},
     "output_type": "execute_result"
    }
   ],
   "source": [
    "t = (df.groupby('game_id').count()['book_id'] == 1)\n",
    "t"
   ]
  },
  {
   "cell_type": "code",
   "execution_count": 58,
   "metadata": {},
   "outputs": [
    {
     "data": {
      "text/plain": [
       "14914"
      ]
     },
     "execution_count": 58,
     "metadata": {},
     "output_type": "execute_result"
    }
   ],
   "source": [
    "t.size"
   ]
  },
  {
   "cell_type": "code",
   "execution_count": 59,
   "metadata": {},
   "outputs": [
    {
     "data": {
      "text/plain": [
       "pandas.core.series.Series"
      ]
     },
     "execution_count": 59,
     "metadata": {},
     "output_type": "execute_result"
    }
   ],
   "source": [
    "type(t)"
   ]
  },
  {
   "cell_type": "code",
   "execution_count": 60,
   "metadata": {},
   "outputs": [
    {
     "data": {
      "text/html": [
       "<div>\n",
       "<style scoped>\n",
       "    .dataframe tbody tr th:only-of-type {\n",
       "        vertical-align: middle;\n",
       "    }\n",
       "\n",
       "    .dataframe tbody tr th {\n",
       "        vertical-align: top;\n",
       "    }\n",
       "\n",
       "    .dataframe thead th {\n",
       "        text-align: right;\n",
       "    }\n",
       "</style>\n",
       "<table border=\"1\" class=\"dataframe\">\n",
       "  <thead>\n",
       "    <tr style=\"text-align: right;\">\n",
       "      <th></th>\n",
       "      <th>book_name</th>\n",
       "      <th>book_id</th>\n",
       "      <th>team_id</th>\n",
       "      <th>a_team_id</th>\n",
       "      <th>spread1</th>\n",
       "      <th>spread2</th>\n",
       "      <th>price1</th>\n",
       "      <th>price2</th>\n",
       "      <th>book_name_id</th>\n",
       "      <th>game_id_book_id</th>\n",
       "    </tr>\n",
       "    <tr>\n",
       "      <th>game_id</th>\n",
       "      <th></th>\n",
       "      <th></th>\n",
       "      <th></th>\n",
       "      <th></th>\n",
       "      <th></th>\n",
       "      <th></th>\n",
       "      <th></th>\n",
       "      <th></th>\n",
       "      <th></th>\n",
       "      <th></th>\n",
       "    </tr>\n",
       "  </thead>\n",
       "  <tbody>\n",
       "    <tr>\n",
       "      <th>21000957</th>\n",
       "      <td>1</td>\n",
       "      <td>1</td>\n",
       "      <td>1</td>\n",
       "      <td>1</td>\n",
       "      <td>1</td>\n",
       "      <td>1</td>\n",
       "      <td>1</td>\n",
       "      <td>1</td>\n",
       "      <td>1</td>\n",
       "      <td>1</td>\n",
       "    </tr>\n",
       "    <tr>\n",
       "      <th>21000962</th>\n",
       "      <td>1</td>\n",
       "      <td>1</td>\n",
       "      <td>1</td>\n",
       "      <td>1</td>\n",
       "      <td>1</td>\n",
       "      <td>1</td>\n",
       "      <td>1</td>\n",
       "      <td>1</td>\n",
       "      <td>1</td>\n",
       "      <td>1</td>\n",
       "    </tr>\n",
       "  </tbody>\n",
       "</table>\n",
       "</div>"
      ],
      "text/plain": [
       "          book_name  book_id  team_id  a_team_id  spread1  spread2  price1  \\\n",
       "game_id                                                                      \n",
       "21000957          1        1        1          1        1        1       1   \n",
       "21000962          1        1        1          1        1        1       1   \n",
       "\n",
       "          price2  book_name_id  game_id_book_id  \n",
       "game_id                                          \n",
       "21000957       1             1                1  \n",
       "21000962       1             1                1  "
      ]
     },
     "execution_count": 60,
     "metadata": {},
     "output_type": "execute_result"
    }
   ],
   "source": [
    "df.groupby('game_id').count()[t]"
   ]
  },
  {
   "cell_type": "code",
   "execution_count": 61,
   "metadata": {},
   "outputs": [
    {
     "data": {
      "text/html": [
       "<div>\n",
       "<style scoped>\n",
       "    .dataframe tbody tr th:only-of-type {\n",
       "        vertical-align: middle;\n",
       "    }\n",
       "\n",
       "    .dataframe tbody tr th {\n",
       "        vertical-align: top;\n",
       "    }\n",
       "\n",
       "    .dataframe thead th {\n",
       "        text-align: right;\n",
       "    }\n",
       "</style>\n",
       "<table border=\"1\" class=\"dataframe\">\n",
       "  <thead>\n",
       "    <tr style=\"text-align: right;\">\n",
       "      <th></th>\n",
       "      <th>game_id</th>\n",
       "      <th>book_name</th>\n",
       "      <th>book_id</th>\n",
       "      <th>team_id</th>\n",
       "      <th>a_team_id</th>\n",
       "      <th>spread1</th>\n",
       "      <th>spread2</th>\n",
       "      <th>price1</th>\n",
       "      <th>price2</th>\n",
       "      <th>book_name_id</th>\n",
       "      <th>game_id_book_id</th>\n",
       "    </tr>\n",
       "  </thead>\n",
       "  <tbody>\n",
       "    <tr>\n",
       "      <th>14063</th>\n",
       "      <td>20601220</td>\n",
       "      <td>Pinnacle Sports</td>\n",
       "      <td>238</td>\n",
       "      <td>1610612749</td>\n",
       "      <td>1610612739</td>\n",
       "      <td>14.5</td>\n",
       "      <td>-14.5</td>\n",
       "      <td>-110.0</td>\n",
       "      <td>100.0</td>\n",
       "      <td>Pinnacle Sports 238</td>\n",
       "      <td>20601220238</td>\n",
       "    </tr>\n",
       "    <tr>\n",
       "      <th>14064</th>\n",
       "      <td>20601220</td>\n",
       "      <td>5Dimes</td>\n",
       "      <td>19</td>\n",
       "      <td>1610612749</td>\n",
       "      <td>1610612739</td>\n",
       "      <td>14.5</td>\n",
       "      <td>-14.5</td>\n",
       "      <td>-110.0</td>\n",
       "      <td>-110.0</td>\n",
       "      <td>5Dimes 19</td>\n",
       "      <td>2060122019</td>\n",
       "    </tr>\n",
       "    <tr>\n",
       "      <th>14065</th>\n",
       "      <td>20601220</td>\n",
       "      <td>Bookmaker</td>\n",
       "      <td>93</td>\n",
       "      <td>1610612749</td>\n",
       "      <td>1610612739</td>\n",
       "      <td>14.5</td>\n",
       "      <td>-14.5</td>\n",
       "      <td>-110.0</td>\n",
       "      <td>-110.0</td>\n",
       "      <td>Bookmaker 93</td>\n",
       "      <td>2060122093</td>\n",
       "    </tr>\n",
       "    <tr>\n",
       "      <th>14066</th>\n",
       "      <td>20601220</td>\n",
       "      <td>BetOnline</td>\n",
       "      <td>1096</td>\n",
       "      <td>1610612749</td>\n",
       "      <td>1610612739</td>\n",
       "      <td>14.5</td>\n",
       "      <td>-14.5</td>\n",
       "      <td>-110.0</td>\n",
       "      <td>-110.0</td>\n",
       "      <td>BetOnline 1096</td>\n",
       "      <td>206012201096</td>\n",
       "    </tr>\n",
       "    <tr>\n",
       "      <th>14067</th>\n",
       "      <td>20601220</td>\n",
       "      <td>Bovada</td>\n",
       "      <td>999996</td>\n",
       "      <td>1610612749</td>\n",
       "      <td>1610612739</td>\n",
       "      <td>15.0</td>\n",
       "      <td>-15.0</td>\n",
       "      <td>-110.0</td>\n",
       "      <td>-110.0</td>\n",
       "      <td>Bovada 999996</td>\n",
       "      <td>20601220999996</td>\n",
       "    </tr>\n",
       "    <tr>\n",
       "      <th>14068</th>\n",
       "      <td>20601220</td>\n",
       "      <td>JustBet</td>\n",
       "      <td>1275</td>\n",
       "      <td>1610612749</td>\n",
       "      <td>1610612739</td>\n",
       "      <td>15.0</td>\n",
       "      <td>-15.0</td>\n",
       "      <td>-110.0</td>\n",
       "      <td>-110.0</td>\n",
       "      <td>JustBet 1275</td>\n",
       "      <td>206012201275</td>\n",
       "    </tr>\n",
       "    <tr>\n",
       "      <th>14069</th>\n",
       "      <td>20601220</td>\n",
       "      <td>Sportsbetting</td>\n",
       "      <td>999991</td>\n",
       "      <td>1610612749</td>\n",
       "      <td>1610612739</td>\n",
       "      <td>14.5</td>\n",
       "      <td>-14.5</td>\n",
       "      <td>-110.0</td>\n",
       "      <td>-110.0</td>\n",
       "      <td>Sportsbetting 999991</td>\n",
       "      <td>20601220999991</td>\n",
       "    </tr>\n",
       "  </tbody>\n",
       "</table>\n",
       "</div>"
      ],
      "text/plain": [
       "        game_id        book_name  book_id     team_id   a_team_id  spread1  \\\n",
       "14063  20601220  Pinnacle Sports      238  1610612749  1610612739     14.5   \n",
       "14064  20601220           5Dimes       19  1610612749  1610612739     14.5   \n",
       "14065  20601220        Bookmaker       93  1610612749  1610612739     14.5   \n",
       "14066  20601220        BetOnline     1096  1610612749  1610612739     14.5   \n",
       "14067  20601220           Bovada   999996  1610612749  1610612739     15.0   \n",
       "14068  20601220          JustBet     1275  1610612749  1610612739     15.0   \n",
       "14069  20601220    Sportsbetting   999991  1610612749  1610612739     14.5   \n",
       "\n",
       "       spread2  price1  price2          book_name_id game_id_book_id  \n",
       "14063    -14.5  -110.0   100.0   Pinnacle Sports 238     20601220238  \n",
       "14064    -14.5  -110.0  -110.0             5Dimes 19      2060122019  \n",
       "14065    -14.5  -110.0  -110.0          Bookmaker 93      2060122093  \n",
       "14066    -14.5  -110.0  -110.0        BetOnline 1096    206012201096  \n",
       "14067    -15.0  -110.0  -110.0         Bovada 999996  20601220999996  \n",
       "14068    -15.0  -110.0  -110.0          JustBet 1275    206012201275  \n",
       "14069    -14.5  -110.0  -110.0  Sportsbetting 999991  20601220999991  "
      ]
     },
     "execution_count": 61,
     "metadata": {},
     "output_type": "execute_result"
    }
   ],
   "source": [
    "df[df['game_id'] == 20601220]\n"
   ]
  },
  {
   "cell_type": "code",
   "execution_count": 62,
   "metadata": {},
   "outputs": [],
   "source": [
    "# game id that has only 1 book id is???? -game id 20601220 as shown above"
   ]
  },
  {
   "cell_type": "code",
   "execution_count": null,
   "metadata": {},
   "outputs": [],
   "source": []
  },
  {
   "cell_type": "code",
   "execution_count": null,
   "metadata": {},
   "outputs": [],
   "source": []
  },
  {
   "cell_type": "markdown",
   "metadata": {},
   "source": [
    "Data Collection\n",
    "\n",
    "Data Organization\n",
    "\n",
    "Data Definition\n",
    "\n",
    "-column names\n",
    "\n",
    "-data types\n",
    "\n",
    "-description of the columns\n",
    "\n",
    "-counts and percents unique values\n",
    "\n",
    "-ranges of values"
   ]
  },
  {
   "cell_type": "code",
   "execution_count": null,
   "metadata": {},
   "outputs": [],
   "source": []
  },
  {
   "cell_type": "code",
   "execution_count": null,
   "metadata": {},
   "outputs": [],
   "source": []
  },
  {
   "cell_type": "code",
   "execution_count": null,
   "metadata": {},
   "outputs": [],
   "source": []
  },
  {
   "cell_type": "code",
   "execution_count": null,
   "metadata": {},
   "outputs": [],
   "source": []
  },
  {
   "cell_type": "code",
   "execution_count": null,
   "metadata": {},
   "outputs": [],
   "source": []
  },
  {
   "cell_type": "code",
   "execution_count": null,
   "metadata": {},
   "outputs": [],
   "source": []
  },
  {
   "cell_type": "code",
   "execution_count": null,
   "metadata": {},
   "outputs": [],
   "source": []
  }
 ],
 "metadata": {
  "kernelspec": {
   "display_name": "Python 3",
   "language": "python",
   "name": "python3"
  },
  "language_info": {
   "codemirror_mode": {
    "name": "ipython",
    "version": 3
   },
   "file_extension": ".py",
   "mimetype": "text/x-python",
   "name": "python",
   "nbconvert_exporter": "python",
   "pygments_lexer": "ipython3",
   "version": "3.7.6"
  }
 },
 "nbformat": 4,
 "nbformat_minor": 4
}
